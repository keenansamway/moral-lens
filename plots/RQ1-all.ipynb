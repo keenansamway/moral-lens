{
 "cells": [
  {
   "cell_type": "code",
   "execution_count": null,
   "id": "8540d974",
   "metadata": {},
   "outputs": [],
   "source": []
  },
  {
   "cell_type": "code",
   "execution_count": 1,
   "id": "a968fc32",
   "metadata": {},
   "outputs": [
    {
     "name": "stdout",
     "output_type": "stream",
     "text": [
      "[INFO] Configured API keys: HF_TOKEN, OPENAI_API_KEY, ANTHROPIC_API_KEY, GOOGLE_API_KEY, OPENROUTER_API_KEY\n"
     ]
    }
   ],
   "source": [
    "%load_ext autoreload\n",
    "%autoreload 2\n",
    "from plots.data_functions import *"
   ]
  },
  {
   "cell_type": "code",
   "execution_count": null,
   "id": "669b49c6",
   "metadata": {},
   "outputs": [],
   "source": [
    "import pandas as pd\n",
    "import numpy as np\n",
    "import plotly.graph_objects as go\n",
    "\n",
    "# -----------------------------------------------------------\n",
    "#  stance palette (same one we used before)\n",
    "# -----------------------------------------------------------\n",
    "STANCE_COLOURS = {\n",
    "    # \"Consequentialism\": \"#E0B274\", # goldish-yellow\n",
    "    # \"Deontology\":       \"#8CC888\", # light-green\n",
    "\n",
    "    \"Consequentialism\": \"#E07474\",  # Deeper pastel red\n",
    "    \"Deontology\":       \"#74A0E0\",  # Deeper pastel blue\n",
    "\n",
    "    # \"Consequentialism\": \"#E9A178\",  # Dusty Orange\n",
    "    # \"Deontology\":       \"#A8C3A0\",  # Muted Sage Green\n",
    "\n",
    "    \"Other\":            \"#D9D9D9\",\n",
    "    \"None\":             \"#000000\",\n",
    "}\n",
    "\n",
    "# stance_cols = [\"Consequentialism\", \"Deontology\", \"Other\"]\n",
    "stance_cols = [\"Other\", \"Deontology\", \"Consequentialism\"]\n",
    "\n",
    "category2two_groups = {\n",
    "    'Species':        ['Animals', 'Humans'],\n",
    "    'SocialValue':    ['Low', 'High'],\n",
    "    'Gender':         ['Female', 'Male'],\n",
    "    'Age':            ['Young', 'Old'],\n",
    "    'Fitness':        ['Unfit', 'Fit'],\n",
    "    'Utilitarianism': ['Less', 'More'],\n",
    "}\n",
    "\n",
    "label_map = {\n",
    "    \"Animals\": \"Sparing Animals\",\n",
    "    \"Humans\": \"Sparing Humans\",\n",
    "    \"Low\": \"Sparing Low Status\",\n",
    "    \"High\": \"Sparing High Status\",\n",
    "    \"Female\": \"Sparing Women\",\n",
    "    \"Male\": \"Sparing Men\",\n",
    "    \"Young\": \"Sparing Young\",\n",
    "    \"Old\": \"Sparing Old\",\n",
    "    \"Unfit\": \"Sparing Unfit\",\n",
    "    \"Fit\": \"Sparing Fit\",\n",
    "    \"Less\": \"Sparing Individuals\",\n",
    "    \"More\": \"Sparing Groups\",\n",
    "    \"Consequentialism\": \"Consequentialism\",\n",
    "    \"Deontology\": \"Deontology\",\n",
    "    \"Other\": \"Other\",\n",
    "}\n",
    "\n",
    "# Define colors for different categories\n",
    "CATEGORY_COLORS = {\n",
    "    'Species': 'rgba(220, 220, 220, 0.6)',\n",
    "    'SocialValue': 'rgba(150, 150, 150, 0.6)',\n",
    "    'Gender': 'rgba(220, 220, 220, 0.6)',\n",
    "    'Age': 'rgba(150, 150, 150, 0.6)',\n",
    "    'Fitness': 'rgba(220, 220, 220, 0.6)',\n",
    "    'Utilitarianism': 'rgba(150, 150, 150, 0.6)',\n",
    "}\n",
    "\n",
    "# -----------------------------------------------------------\n",
    "#  the new function\n",
    "# -----------------------------------------------------------\n",
    "def make_sankey(\n",
    "        df: pd.DataFrame,\n",
    "        node_pad: int = 15,\n",
    "        node_thickness: int = 170,\n",
    "        width: int = 900,\n",
    "        height: int = 500,\n",
    ") -> go.Figure:\n",
    "    \"\"\"\n",
    "    Build a static Sankey / alluvial plot where:\n",
    "      • Left-hand nodes (sub-categories) follow the order of\n",
    "        `category2two_groups`.\n",
    "      • All links (“snakes”) are coloured by ethical stance.\n",
    "      • Right-hand nodes (stances) use the same palette.\n",
    "    \"\"\"\n",
    "    # ------------------------------------------------------------------\n",
    "    # 1) Figure out ordered sub-category list from the dict’s insertion order\n",
    "    # ------------------------------------------------------------------\n",
    "    subcats_ordered = [\n",
    "        subgroup\n",
    "        for _, two in category2two_groups.items()\n",
    "        for subgroup in two\n",
    "    ]\n",
    "\n",
    "    # ------------------------------------------------------------------\n",
    "    # 2) Re-index dataframe so rows follow that order\n",
    "    # ------------------------------------------------------------------\n",
    "    df_ord = (\n",
    "        df.set_index(\"Subcategory\")\n",
    "            .reindex(subcats_ordered)    # will raise if a subcat is missing\n",
    "            .reset_index()\n",
    "    )\n",
    "\n",
    "    # ------------------------------------------------------------------\n",
    "    # 3) Explode into one row per (subcat, stance) with absolute flow value\n",
    "    # ------------------------------------------------------------------\n",
    "    flows = []\n",
    "    for _, row in df_ord.iterrows():\n",
    "        for stance in stance_cols:\n",
    "            # Values are raw counts of rationales per macro category\n",
    "            # flow_value = row[stance+\"Count\"]\n",
    "\n",
    "            # Values are relative counts per row\n",
    "            # row_count = row['Total_Rationales']\n",
    "            # flow_value = row[stance+\"Count\"] / row_count if row_count > 0 else 0\n",
    "\n",
    "            # Values are relative counts of rationales per sub-category\n",
    "            category = row[\"Category\"]\n",
    "            cat_count = df_ord[df_ord['Category'] == category]['Total_Rationales'].sum()\n",
    "            flow_value = row[stance+\"Count\"] / cat_count if cat_count > 0 else 0\n",
    "\n",
    "            if flow_value > 0 and not any(stance == r for r in [\"Refusal\", \"\", \"Other\"]):   # omit empty ribbons\n",
    "                flows.append(\n",
    "                    dict(\n",
    "                        source=row[\"Subcategory\"],\n",
    "                        target=stance,\n",
    "                        value=flow_value,\n",
    "                    )\n",
    "                )\n",
    "    flow_df = pd.DataFrame(flows)\n",
    "\n",
    "    # ------------------------------------------------------------------\n",
    "    # 4) Build node & link arrays that Plotly expects\n",
    "    # ------------------------------------------------------------------\n",
    "    # subcats_present = [s for s in flow_df.source.unique() if s in subcats_ordered]\n",
    "    # stance_present = [s for s in flow_df.target.unique() if s in stance_cols]\n",
    "\n",
    "    subcats_present = [s for s in subcats_ordered if s in flow_df.source.unique()]\n",
    "    stance_present = [s for s in stance_cols if s in flow_df.target.unique()]\n",
    "\n",
    "    nodes = subcats_present + stance_present\n",
    "    node_index = {name: i for i, name in enumerate(nodes)}\n",
    "\n",
    "    link_source = flow_df[\"source\"].map(node_index)\n",
    "    link_target = flow_df[\"target\"].map(node_index)\n",
    "    link_value  = flow_df[\"value\"]\n",
    "    link_colour = flow_df[\"target\"].map(STANCE_COLOURS)   # <-- stance colours\n",
    "\n",
    "    eps = 1e-3\n",
    "    x = [eps] * len(subcats_present) + [1 - eps] * len(stance_present)\n",
    "    y = (\n",
    "        [0.0] * len(subcats_present) +\n",
    "        [0.0] * len(stance_present)  # Placeholder values that will be updated\n",
    "    )\n",
    "\n",
    "    # Update y positions for source nodes\n",
    "    gap_intra = 0.010     # spacing between nodes in the same category\n",
    "    gap_inter = 0.060     # spacing between categories\n",
    "\n",
    "    # Build a helper table with the total flow leaving every sub-category\n",
    "    source_df = (\n",
    "        flow_df.groupby('source', as_index=False)['value']\n",
    "        .sum()\n",
    "        .assign(percentage=lambda d: d['value'] / d['value'].sum())\n",
    "    )\n",
    "\n",
    "    # Preserve the dict insertion order of the macro-categories,\n",
    "    # but keep only the sub-categories that are actually present.\n",
    "    cats_present = [\n",
    "        (cat, [s for s in category2two_groups[cat] if s in subcats_present])\n",
    "        for cat in category2two_groups\n",
    "        if any(s in subcats_present for s in category2two_groups[cat])\n",
    "    ]\n",
    "\n",
    "    # Count how many gaps we will need\n",
    "    n_intra  = sum(max(len(subs) - 1, 0) for _, subs in cats_present)\n",
    "    n_inter  = max(len(cats_present) - 1, 0)\n",
    "\n",
    "    # Vertical real-estate left for the bars after the gaps\n",
    "    space_for_bars = 1 - 2 * eps - n_intra * gap_intra - n_inter * gap_inter\n",
    "\n",
    "    # Allocate a height to each sub-category proportional to its flow\n",
    "    source_df['height'] = source_df['percentage'] * space_for_bars\n",
    "\n",
    "    # Calculate mid-points\n",
    "    midpoints = {}\n",
    "    cursor    = 1 - eps\n",
    "\n",
    "    for ci, (cat, subs) in enumerate(cats_present):\n",
    "        for si, sub in enumerate(subs):\n",
    "            h        = source_df.loc[source_df['source'] == sub, 'height'].values[0]\n",
    "            cursor  -= h / 2                     # move to the middle of the bar\n",
    "            midpoints[sub] = cursor\n",
    "            cursor  -= h / 2                     # move to the bottom edge\n",
    "\n",
    "            # gap after every sub-category except the last one in its category\n",
    "            if si < len(subs) - 1:\n",
    "                cursor -= gap_intra\n",
    "\n",
    "        # larger gap between categories (except after the last category)\n",
    "        if ci < len(cats_present) - 1:\n",
    "            cursor -= gap_inter\n",
    "\n",
    "    # Transfer the computed y positions into the master y list\n",
    "    for i, sub in enumerate(subcats_present):\n",
    "        y[i] = midpoints[sub]\n",
    "\n",
    "\n",
    "    # Update y positions for target nodes\n",
    "    target_df = (\n",
    "        flow_df.groupby('target', as_index=False)['value']\n",
    "        .sum()\n",
    "        .assign(percentage=lambda df: df['value'] / df['value'].sum())\n",
    "    )\n",
    "\n",
    "    # Sort stance nodes in same order as stance_present\n",
    "    target_df['order'] = target_df['target'].apply(lambda x: stance_present.index(x))\n",
    "    target_df = target_df.sort_values('order')\n",
    "\n",
    "    padding = 0.025  # same padding as source\n",
    "    num_gaps = len(stance_present) - 1\n",
    "    spacing = 1 - 2 * eps - padding * num_gaps  # reduce space for actual bars\n",
    "\n",
    "    cumulative_target = target_df['percentage'].cumsum()\n",
    "    target_df['midpoint'] = 1 - eps - (\n",
    "        cumulative_target - target_df['percentage'] / 2\n",
    "    ) * spacing - np.arange(len(target_df)) * padding\n",
    "\n",
    "    for i, stance in enumerate(stance_present):\n",
    "        y[len(subcats_present) + i] = target_df[target_df['target'] == stance]['midpoint'].values[0]\n",
    "\n",
    "    # ------------------------------------------------------------------\n",
    "    # 5) Create the Sankey figure\n",
    "    # ------------------------------------------------------------------\n",
    "\n",
    "    # Create a list for node colors that we can modify before creating the figure\n",
    "    node_colors = [\"rgba(220,220,220,0.6)\"] * len(nodes)\n",
    "\n",
    "    # Calculate color mixtures for source nodes based on their stance distribution\n",
    "    for i, node_name in enumerate(subcats_present):\n",
    "        if node_name in flow_df['source'].values:\n",
    "            # Get all outgoing flows for this source node\n",
    "            node_flows = flow_df[flow_df['source'] == node_name]\n",
    "\n",
    "            total_flow = node_flows['value'].sum()\n",
    "\n",
    "            if total_flow > 0:\n",
    "                # Get percentage flow to each stance\n",
    "                stance_percentages = {}\n",
    "                for stance in stance_present:\n",
    "                    stance_flow = node_flows[node_flows['target'] == stance]['value'].sum()\n",
    "                    stance_percentages[stance] = stance_flow / total_flow\n",
    "\n",
    "                # If only flows to one stance, use that stance's color\n",
    "                if len(stance_percentages) == 1:\n",
    "                    stance = list(stance_percentages.keys())[0]\n",
    "                    node_colors[i] = STANCE_COLOURS[stance]\n",
    "                else:\n",
    "                    # Mix colors based on percentages\n",
    "                    # For simplicity, we'll use weighted average of RGB components\n",
    "                    r, g, b = 0, 0, 0\n",
    "                    for stance, percentage in stance_percentages.items():\n",
    "                        # Convert hex color to RGB\n",
    "                        color = STANCE_COLOURS[stance].lstrip('#')\n",
    "                        stance_r, stance_g, stance_b = tuple(int(color[j:j+2], 16) for j in (0, 2, 4))\n",
    "\n",
    "                        # Add weighted contribution\n",
    "                        r += stance_r * percentage\n",
    "                        g += stance_g * percentage\n",
    "                        b += stance_b * percentage\n",
    "\n",
    "                    # Convert back to hex\n",
    "                    node_colors[i] = f'#{int(r):02x}{int(g):02x}{int(b):02x}'\n",
    "\n",
    "    # Update colors for nodes before creating the figure\n",
    "    for i, node_name in enumerate(nodes):\n",
    "        # For stance nodes\n",
    "        if node_name in STANCE_COLOURS:\n",
    "            node_colors[i] = STANCE_COLOURS[node_name]\n",
    "\n",
    "        # For subcategory nodes\n",
    "        # for category, group in category2two_groups.items():\n",
    "        #     if node_name in group:  # If node belongs to this category group\n",
    "        #         node_colors[i] = CATEGORY_COLORS[category]\n",
    "\n",
    "    node_pad=node_pad\n",
    "    node_thickness=node_thickness\n",
    "    fig = go.Figure(\n",
    "        go.Sankey(\n",
    "            arrangement=\"fixed\",\n",
    "            node=dict(\n",
    "                pad=node_pad,\n",
    "                thickness=node_thickness,\n",
    "                line=dict(width=0.5, color=\"rgba(0,0,0,0.25)\"),\n",
    "                # label=[label_map.get(n, n) for n in nodes],\n",
    "                # left nodes → light grey, right nodes → stance colour\n",
    "                color=node_colors,\n",
    "                x=x,\n",
    "                y=y,\n",
    "            ),\n",
    "            link=dict(\n",
    "                source=link_source,\n",
    "                target=link_target,\n",
    "                value=link_value,\n",
    "                color=link_colour,\n",
    "            ),\n",
    "        )\n",
    "    )\n",
    "\n",
    "    for i, n in enumerate(nodes):\n",
    "        if n in df_ord.Subcategory.values:           # sub-category\n",
    "            cat        = df_ord.loc[df_ord['Subcategory'] == n, 'Category'].values[0]\n",
    "            cat_total  = df_ord[df_ord['Category'] == cat]['Count'].sum()\n",
    "            subcount   = df_ord.loc[df_ord['Subcategory'] == n, 'Count'].values[0]\n",
    "            pct        = (subcount / cat_total) * 100 if cat_total else 0\n",
    "            suffix     = f\" ({pct:.0f}%)\"\n",
    "            suffix     = \"\"\n",
    "        elif n in stance_present:                    # stance\n",
    "            stance_count = df_ord[n+'Count'].sum()\n",
    "            total_count  = df_ord['Count'].sum()\n",
    "            pct    = (stance_count / total_count) * 100 if total_count else 0\n",
    "            suffix = f\" ({stance_count})\"\n",
    "            suffix = \"\"\n",
    "        else:\n",
    "            suffix = \"\"\n",
    "        fig.add_annotation(\n",
    "            x=x[i],\n",
    "            y=1 - y[i],\n",
    "            text=label_map.get(n, n) + suffix,\n",
    "            showarrow=False,\n",
    "            xanchor=\"center\",\n",
    "            yanchor=\"middle\",\n",
    "            font=dict(size=12),\n",
    "        )\n",
    "\n",
    "    # Add category labels on the left side\n",
    "    categories_present = {}\n",
    "    for i, node_name in enumerate(subcats_present):\n",
    "        if node_name in source_df['source'].values:\n",
    "            cat = df_ord.loc[df_ord['Subcategory'] == node_name, 'Category'].values[0]\n",
    "            if cat not in categories_present:\n",
    "                categories_present[cat] = []\n",
    "            categories_present[cat].append((i, node_name, y[i]))\n",
    "\n",
    "    # evenly space out the category labels\n",
    "    spacing = 1 - 2 * gap_intra - gap_inter\n",
    "    y_positions = np.linspace(spacing, 1 - spacing, len(categories_present))[::-1]\n",
    "    for i, (cat, nodes) in enumerate(categories_present.items()):\n",
    "        if len(nodes) > 0:\n",
    "            # Add the category annotation\n",
    "            fig.add_annotation(\n",
    "                x=-0.215,  # Position to the left of the nodes\n",
    "                y=y_positions[i],\n",
    "                text=f\"<b>{cat}</b>\",  # Make the text bold with HTML tags\n",
    "                showarrow=False,\n",
    "                xanchor=\"center\",\n",
    "                yanchor=\"middle\",\n",
    "                font=dict(size=14, color=\"rgba(0,0,0,0.7)\"),\n",
    "            )\n",
    "\n",
    "\n",
    "    # Add annotation for each category\n",
    "    # for cat, nodes in categories_present.items():\n",
    "    #     if len(nodes) > 0:\n",
    "    #         # Calculate center position for the category label\n",
    "    #         avg_y = sum(pos for _, _, pos in nodes) / len(nodes)\n",
    "\n",
    "    #         # Add the category annotation\n",
    "    #         fig.add_annotation(\n",
    "    #             x=-0.212,  # Position to the left of the nodes\n",
    "    #             y=1 - avg_y,\n",
    "    #             text=f\"<b>{cat}</b>\",  # Make the text bold with HTML tags\n",
    "    #             showarrow=False,\n",
    "    #             xanchor=\"center\",\n",
    "    #             yanchor=\"middle\",\n",
    "    #             font=dict(size=14, color=\"rgba(0,0,0,0.7)\"),\n",
    "    #         )\n",
    "\n",
    "    # ------------------------------------------------------------------\n",
    "    # 6) Colour the right-hand (stance) nodes to match their links\n",
    "    # ------------------------------------------------------------------\n",
    "\n",
    "    tb = 15\n",
    "    lr = 100\n",
    "    fig.update_layout(\n",
    "        # title_text=\"Sub-category → Ethical Stance flow\",\n",
    "        font_size=12,\n",
    "        margin=dict(l=lr+85, r=lr, t=tb, b=tb),\n",
    "        width=width,\n",
    "        height=height,\n",
    "    )\n",
    "    return fig"
   ]
  },
  {
   "cell_type": "code",
   "execution_count": 682,
   "id": "25cda026",
   "metadata": {},
   "outputs": [],
   "source": [
    "RESULTS_DIR = \"data/20250422/all_models/\"\n",
    "RESULTS_DIR = \"data/20250501/all_models2/\"\n",
    "\n",
    "file_paths = [fp for fp in glob(f\"{RESULTS_DIR}/judge/*.csv\")]\n",
    "\n",
    "# Create a dictionary to store dataframes by model\n",
    "model_dfs = {}\n",
    "\n",
    "# Group dataframes by model\n",
    "for file in file_paths:\n",
    "    # Extract model_id and sample number from filename\n",
    "    filename = os.path.basename(file)\n",
    "    model_id = filename.split('_')[0]\n",
    "    sample_num = filename.split('_w')[1].replace('.csv', '')\n",
    "\n",
    "    if model_id not in model_dfs:\n",
    "        model_dfs[model_id] = {}\n",
    "\n",
    "    model_dfs[model_id][sample_num] = pd.read_csv(file, keep_default_na=False)"
   ]
  },
  {
   "cell_type": "code",
   "execution_count": null,
   "id": "d9eb476d",
   "metadata": {},
   "outputs": [],
   "source": [
    "category2two_groups = {\n",
    "    'Species':        ['Animals', 'Humans'],\n",
    "    'SocialValue':    ['Low', 'High'],\n",
    "    'Gender':         ['Female', 'Male'],\n",
    "    'Age':            ['Young', 'Old'],\n",
    "    'Fitness':        ['Unfit', 'Fit'],\n",
    "    'Utilitarianism': ['Less', 'More'],\n",
    "}\n",
    "\n",
    "def get_catdf_single(df: pd.DataFrame, num1num2):\n",
    "    results = {}\n",
    "\n",
    "    for category, two_groups in category2two_groups.items():\n",
    "        # Filter dataframe for current phenomenon category\n",
    "        category_df = df[df['phenomenon_category'] == category]\n",
    "\n",
    "        if num1num2 == '==':\n",
    "            category_df = category_df[category_df.num1 == category_df.num2]\n",
    "        elif num1num2 == '!=':\n",
    "            category_df = category_df[category_df.num1 != category_df.num2]\n",
    "\n",
    "        # Process each group in the category\n",
    "        for group in two_groups:\n",
    "            group_df = category_df[category_df['decision_category'] == group]\n",
    "\n",
    "            # Initialize counters\n",
    "            macro_counts = {}\n",
    "            total_rationales = 0\n",
    "\n",
    "            # Process each row's rationales\n",
    "            for rationales_str in group_df['rationales']:\n",
    "                if isinstance(rationales_str, str) and rationales_str:\n",
    "                    rationales_list = rationales_str.split('; ')\n",
    "                    for rationale in rationales_list:\n",
    "                        total_rationales += 1\n",
    "                        # Use TAXONOMY_MACRO_MAP to categorize each rationale\n",
    "                        if rationale in TAXONOMY_MACRO_MAP:\n",
    "                            macro_category = TAXONOMY_MACRO_MAP[rationale]\n",
    "                            if macro_category not in macro_counts:\n",
    "                                macro_counts[macro_category] = 0\n",
    "                            macro_counts[macro_category] += 1\n",
    "\n",
    "            # Calculate proportions\n",
    "            if total_rationales > 0:\n",
    "                if category not in results:\n",
    "                    results[category] = {}\n",
    "\n",
    "                results[category][group] = {\n",
    "                    macro: count / total_rationales for macro, count in macro_counts.items()\n",
    "                }\n",
    "\n",
    "                # Add totals for reference\n",
    "                results[category][group]['Total_Rationales'] = total_rationales\n",
    "                results[category][group]['Count'] = len(group_df)\n",
    "                results[category][group]['ConsequentialismCount'] = macro_counts.get('Consequentialism', 0)\n",
    "                results[category][group]['DeontologyCount'] = macro_counts.get('Deontology', 0)\n",
    "                results[category][group]['OtherCount'] = macro_counts.get('Other', 0)\n",
    "            else:\n",
    "                # Handle the case where there are no rationales\n",
    "                if category not in results:\n",
    "                    results[category] = {}\n",
    "\n",
    "                results[category][group] = {\n",
    "                    'Consequentialism': 0.0, 'Deontology': 0.0, 'Other': 0.0,\n",
    "                    'Total_Rationales': 0, 'Count': len(group_df)\n",
    "                }\n",
    "\n",
    "    # Create a DataFrame for better visualization\n",
    "    cat_df = pd.DataFrame()\n",
    "\n",
    "    for category, groups in results.items():\n",
    "        for group, values in groups.items():\n",
    "            row_data = {\n",
    "                'Category': category,\n",
    "                'Subcategory': group,\n",
    "            }\n",
    "\n",
    "            # for macro in ['Consequentialism', 'Deontology', 'Other']:\n",
    "            #     row_data[macro] = values.get(macro, 0)\n",
    "\n",
    "            for macro in ['Count', 'ConsequentialismCount', 'DeontologyCount', 'OtherCount']:\n",
    "                row_data[macro] = values.get(macro, 0)\n",
    "\n",
    "            row_data['Total_Rationales'] = values.get('Total_Rationales', 0)\n",
    "\n",
    "            cat_df = pd.concat([cat_df, pd.DataFrame([row_data])], ignore_index=True)\n",
    "\n",
    "    # Organize the DataFrame\n",
    "    cat_df = cat_df.sort_values(['Category', 'Subcategory'])\n",
    "    # subcategory_df = subcategory_df[['Category', 'Subcategory', 'Count', 'Consequentialism', 'Deontology', 'Other', 'Total_Rationales']]\n",
    "\n",
    "    # Display results\n",
    "    return cat_df\n",
    "\n",
    "\n",
    "def get_catdf_all_samples(dfs: dict, num1num2):\n",
    "    \"\"\"Get the category dataframe for all samples in a model.\"\"\"\n",
    "    all_cat_dfs = []\n",
    "    for sample_num, df in dfs.items():\n",
    "        cat_df = get_catdf_single(df, num1num2)\n",
    "        cat_df['Sample'] = sample_num\n",
    "        all_cat_dfs.append(cat_df)\n",
    "\n",
    "    # Concatenate all dataframes\n",
    "    all_cat_df = pd.concat(all_cat_dfs, ignore_index=True)\n",
    "\n",
    "    # Sum counts for each category and subcategory\n",
    "    all_cat_df = all_cat_df.groupby(['Category', 'Subcategory']).sum().reset_index()\n",
    "    all_cat_df = all_cat_df.drop(columns=['Sample'])\n",
    "    return all_cat_df\n",
    "\n",
    "\n",
    "def get_catdf(df: dict | pd.DataFrame, num1num2=False):\n",
    "    if isinstance(df, dict):\n",
    "        return get_catdf_all_samples(df, num1num2)\n",
    "    elif isinstance(df, pd.DataFrame):\n",
    "        return get_catdf_single(df, num1num2)\n",
    "    else:\n",
    "        raise ValueError(\"Input must be a dictionary of dataframes or a single dataframe.\")"
   ]
  },
  {
   "cell_type": "code",
   "execution_count": 880,
   "id": "a786d598",
   "metadata": {},
   "outputs": [
    {
     "data": {
      "application/vnd.plotly.v1+json": {
       "config": {
        "plotlyServerURL": "https://plot.ly"
       },
       "data": [
        {
         "arrangement": "fixed",
         "link": {
          "color": [
           "#A8C3A0",
           "#E9A178",
           "#A8C3A0",
           "#E9A178",
           "#A8C3A0",
           "#E9A178",
           "#A8C3A0",
           "#E9A178",
           "#A8C3A0",
           "#E9A178",
           "#A8C3A0",
           "#E9A178",
           "#A8C3A0",
           "#E9A178",
           "#A8C3A0",
           "#E9A178",
           "#A8C3A0",
           "#E9A178"
          ],
          "source": {
           "bdata": "AAABAQICAwMEBAUFBgYHBwgI",
           "dtype": "i1"
          },
          "target": {
           "bdata": "CQoJCgkKCQoJCgkKCQoJCgkK",
           "dtype": "i1"
          },
          "value": {
           "bdata": "jDHGGGOM4T/nnHPOOefcP6QMPN2aH8Y/nud5nud5zj+29C4oEfbJP4OLDS42uNg/b+FXYyI90D9+NSbSA5XTP6Bydgu/GsM/w6/GRHqg0j880l/PVSy7PykRPNJfz+U/uAUURnWanD+FUZ0mB5nHP3/curwDjrQ/MTYLqj0n0z+uyzvgSNHAP9ksqPacTN8/",
           "dtype": "f8"
          }
         },
         "node": {
          "color": [
           "#c5b38d",
           "#cdaf88",
           "#d2ac85",
           "#cbb08a",
           "#d2ac85",
           "#e0a57d",
           "#e0a57d",
           "#dba880",
           "#dba880",
           "#A8C3A0",
           "#E9A178"
          ],
          "line": {
           "color": "rgba(0,0,0,0.25)",
           "width": 0.5
          },
          "pad": 15,
          "thickness": 170,
          "x": [
           0.001,
           0.001,
           0.001,
           0.001,
           0.001,
           0.001,
           0.001,
           0.001,
           0.001,
           0.999,
           0.999
          ],
          "y": [
           0.9272,
           0.7658948853615521,
           0.6840948853615522,
           0.541613432835821,
           0.45981343283582093,
           0.3116424581005587,
           0.22984245810055867,
           0.12734744525547448,
           0.04554744525547448,
           0.8362374754499957,
           0.32473747544999565
          ]
         },
         "type": "sankey"
        }
       ],
       "layout": {
        "annotations": [
         {
          "font": {
           "size": 12
          },
          "showarrow": false,
          "text": "Sparing Humans",
          "x": 0.001,
          "xanchor": "center",
          "y": 0.07279999999999998,
          "yanchor": "middle"
         },
         {
          "font": {
           "size": 12
          },
          "showarrow": false,
          "text": "Sparing Low Status",
          "x": 0.001,
          "xanchor": "center",
          "y": 0.23410511463844785,
          "yanchor": "middle"
         },
         {
          "font": {
           "size": 12
          },
          "showarrow": false,
          "text": "Sparing High Status",
          "x": 0.001,
          "xanchor": "center",
          "y": 0.31590511463844784,
          "yanchor": "middle"
         },
         {
          "font": {
           "size": 12
          },
          "showarrow": false,
          "text": "Sparing Women",
          "x": 0.001,
          "xanchor": "center",
          "y": 0.458386567164179,
          "yanchor": "middle"
         },
         {
          "font": {
           "size": 12
          },
          "showarrow": false,
          "text": "Sparing Men",
          "x": 0.001,
          "xanchor": "center",
          "y": 0.540186567164179,
          "yanchor": "middle"
         },
         {
          "font": {
           "size": 12
          },
          "showarrow": false,
          "text": "Sparing Young",
          "x": 0.001,
          "xanchor": "center",
          "y": 0.6883575418994413,
          "yanchor": "middle"
         },
         {
          "font": {
           "size": 12
          },
          "showarrow": false,
          "text": "Sparing Old",
          "x": 0.001,
          "xanchor": "center",
          "y": 0.7701575418994413,
          "yanchor": "middle"
         },
         {
          "font": {
           "size": 12
          },
          "showarrow": false,
          "text": "Sparing Unfit",
          "x": 0.001,
          "xanchor": "center",
          "y": 0.8726525547445255,
          "yanchor": "middle"
         },
         {
          "font": {
           "size": 12
          },
          "showarrow": false,
          "text": "Sparing Fit",
          "x": 0.001,
          "xanchor": "center",
          "y": 0.9544525547445255,
          "yanchor": "middle"
         },
         {
          "font": {
           "size": 12
          },
          "showarrow": false,
          "text": "Deontology",
          "x": 0.999,
          "xanchor": "center",
          "y": 0.16376252455000428,
          "yanchor": "middle"
         },
         {
          "font": {
           "size": 12
          },
          "showarrow": false,
          "text": "Consequentialism",
          "x": 0.999,
          "xanchor": "center",
          "y": 0.6752625245500044,
          "yanchor": "middle"
         },
         {
          "font": {
           "color": "rgba(0,0,0,0.7)",
           "size": 14
          },
          "showarrow": false,
          "text": "<b>Species</b>",
          "x": -0.212,
          "xanchor": "center",
          "y": 0.08000000000000007,
          "yanchor": "middle"
         },
         {
          "font": {
           "color": "rgba(0,0,0,0.7)",
           "size": 14
          },
          "showarrow": false,
          "text": "<b>SocialValue</b>",
          "x": -0.212,
          "xanchor": "center",
          "y": 0.29000000000000004,
          "yanchor": "middle"
         },
         {
          "font": {
           "color": "rgba(0,0,0,0.7)",
           "size": 14
          },
          "showarrow": false,
          "text": "<b>Gender</b>",
          "x": -0.212,
          "xanchor": "center",
          "y": 0.5,
          "yanchor": "middle"
         },
         {
          "font": {
           "color": "rgba(0,0,0,0.7)",
           "size": 14
          },
          "showarrow": false,
          "text": "<b>Age</b>",
          "x": -0.212,
          "xanchor": "center",
          "y": 0.71,
          "yanchor": "middle"
         },
         {
          "font": {
           "color": "rgba(0,0,0,0.7)",
           "size": 14
          },
          "showarrow": false,
          "text": "<b>Fitness</b>",
          "x": -0.212,
          "xanchor": "center",
          "y": 0.9199999999999999,
          "yanchor": "middle"
         }
        ],
        "font": {
         "size": 12
        },
        "height": 500,
        "margin": {
         "b": 15,
         "l": 180,
         "r": 100,
         "t": 15
        },
        "template": {
         "data": {
          "bar": [
           {
            "error_x": {
             "color": "#2a3f5f"
            },
            "error_y": {
             "color": "#2a3f5f"
            },
            "marker": {
             "line": {
              "color": "#E5ECF6",
              "width": 0.5
             },
             "pattern": {
              "fillmode": "overlay",
              "size": 10,
              "solidity": 0.2
             }
            },
            "type": "bar"
           }
          ],
          "barpolar": [
           {
            "marker": {
             "line": {
              "color": "#E5ECF6",
              "width": 0.5
             },
             "pattern": {
              "fillmode": "overlay",
              "size": 10,
              "solidity": 0.2
             }
            },
            "type": "barpolar"
           }
          ],
          "carpet": [
           {
            "aaxis": {
             "endlinecolor": "#2a3f5f",
             "gridcolor": "white",
             "linecolor": "white",
             "minorgridcolor": "white",
             "startlinecolor": "#2a3f5f"
            },
            "baxis": {
             "endlinecolor": "#2a3f5f",
             "gridcolor": "white",
             "linecolor": "white",
             "minorgridcolor": "white",
             "startlinecolor": "#2a3f5f"
            },
            "type": "carpet"
           }
          ],
          "choropleth": [
           {
            "colorbar": {
             "outlinewidth": 0,
             "ticks": ""
            },
            "type": "choropleth"
           }
          ],
          "contour": [
           {
            "colorbar": {
             "outlinewidth": 0,
             "ticks": ""
            },
            "colorscale": [
             [
              0,
              "#0d0887"
             ],
             [
              0.1111111111111111,
              "#46039f"
             ],
             [
              0.2222222222222222,
              "#7201a8"
             ],
             [
              0.3333333333333333,
              "#9c179e"
             ],
             [
              0.4444444444444444,
              "#bd3786"
             ],
             [
              0.5555555555555556,
              "#d8576b"
             ],
             [
              0.6666666666666666,
              "#ed7953"
             ],
             [
              0.7777777777777778,
              "#fb9f3a"
             ],
             [
              0.8888888888888888,
              "#fdca26"
             ],
             [
              1,
              "#f0f921"
             ]
            ],
            "type": "contour"
           }
          ],
          "contourcarpet": [
           {
            "colorbar": {
             "outlinewidth": 0,
             "ticks": ""
            },
            "type": "contourcarpet"
           }
          ],
          "heatmap": [
           {
            "colorbar": {
             "outlinewidth": 0,
             "ticks": ""
            },
            "colorscale": [
             [
              0,
              "#0d0887"
             ],
             [
              0.1111111111111111,
              "#46039f"
             ],
             [
              0.2222222222222222,
              "#7201a8"
             ],
             [
              0.3333333333333333,
              "#9c179e"
             ],
             [
              0.4444444444444444,
              "#bd3786"
             ],
             [
              0.5555555555555556,
              "#d8576b"
             ],
             [
              0.6666666666666666,
              "#ed7953"
             ],
             [
              0.7777777777777778,
              "#fb9f3a"
             ],
             [
              0.8888888888888888,
              "#fdca26"
             ],
             [
              1,
              "#f0f921"
             ]
            ],
            "type": "heatmap"
           }
          ],
          "histogram": [
           {
            "marker": {
             "pattern": {
              "fillmode": "overlay",
              "size": 10,
              "solidity": 0.2
             }
            },
            "type": "histogram"
           }
          ],
          "histogram2d": [
           {
            "colorbar": {
             "outlinewidth": 0,
             "ticks": ""
            },
            "colorscale": [
             [
              0,
              "#0d0887"
             ],
             [
              0.1111111111111111,
              "#46039f"
             ],
             [
              0.2222222222222222,
              "#7201a8"
             ],
             [
              0.3333333333333333,
              "#9c179e"
             ],
             [
              0.4444444444444444,
              "#bd3786"
             ],
             [
              0.5555555555555556,
              "#d8576b"
             ],
             [
              0.6666666666666666,
              "#ed7953"
             ],
             [
              0.7777777777777778,
              "#fb9f3a"
             ],
             [
              0.8888888888888888,
              "#fdca26"
             ],
             [
              1,
              "#f0f921"
             ]
            ],
            "type": "histogram2d"
           }
          ],
          "histogram2dcontour": [
           {
            "colorbar": {
             "outlinewidth": 0,
             "ticks": ""
            },
            "colorscale": [
             [
              0,
              "#0d0887"
             ],
             [
              0.1111111111111111,
              "#46039f"
             ],
             [
              0.2222222222222222,
              "#7201a8"
             ],
             [
              0.3333333333333333,
              "#9c179e"
             ],
             [
              0.4444444444444444,
              "#bd3786"
             ],
             [
              0.5555555555555556,
              "#d8576b"
             ],
             [
              0.6666666666666666,
              "#ed7953"
             ],
             [
              0.7777777777777778,
              "#fb9f3a"
             ],
             [
              0.8888888888888888,
              "#fdca26"
             ],
             [
              1,
              "#f0f921"
             ]
            ],
            "type": "histogram2dcontour"
           }
          ],
          "mesh3d": [
           {
            "colorbar": {
             "outlinewidth": 0,
             "ticks": ""
            },
            "type": "mesh3d"
           }
          ],
          "parcoords": [
           {
            "line": {
             "colorbar": {
              "outlinewidth": 0,
              "ticks": ""
             }
            },
            "type": "parcoords"
           }
          ],
          "pie": [
           {
            "automargin": true,
            "type": "pie"
           }
          ],
          "scatter": [
           {
            "fillpattern": {
             "fillmode": "overlay",
             "size": 10,
             "solidity": 0.2
            },
            "type": "scatter"
           }
          ],
          "scatter3d": [
           {
            "line": {
             "colorbar": {
              "outlinewidth": 0,
              "ticks": ""
             }
            },
            "marker": {
             "colorbar": {
              "outlinewidth": 0,
              "ticks": ""
             }
            },
            "type": "scatter3d"
           }
          ],
          "scattercarpet": [
           {
            "marker": {
             "colorbar": {
              "outlinewidth": 0,
              "ticks": ""
             }
            },
            "type": "scattercarpet"
           }
          ],
          "scattergeo": [
           {
            "marker": {
             "colorbar": {
              "outlinewidth": 0,
              "ticks": ""
             }
            },
            "type": "scattergeo"
           }
          ],
          "scattergl": [
           {
            "marker": {
             "colorbar": {
              "outlinewidth": 0,
              "ticks": ""
             }
            },
            "type": "scattergl"
           }
          ],
          "scattermap": [
           {
            "marker": {
             "colorbar": {
              "outlinewidth": 0,
              "ticks": ""
             }
            },
            "type": "scattermap"
           }
          ],
          "scattermapbox": [
           {
            "marker": {
             "colorbar": {
              "outlinewidth": 0,
              "ticks": ""
             }
            },
            "type": "scattermapbox"
           }
          ],
          "scatterpolar": [
           {
            "marker": {
             "colorbar": {
              "outlinewidth": 0,
              "ticks": ""
             }
            },
            "type": "scatterpolar"
           }
          ],
          "scatterpolargl": [
           {
            "marker": {
             "colorbar": {
              "outlinewidth": 0,
              "ticks": ""
             }
            },
            "type": "scatterpolargl"
           }
          ],
          "scatterternary": [
           {
            "marker": {
             "colorbar": {
              "outlinewidth": 0,
              "ticks": ""
             }
            },
            "type": "scatterternary"
           }
          ],
          "surface": [
           {
            "colorbar": {
             "outlinewidth": 0,
             "ticks": ""
            },
            "colorscale": [
             [
              0,
              "#0d0887"
             ],
             [
              0.1111111111111111,
              "#46039f"
             ],
             [
              0.2222222222222222,
              "#7201a8"
             ],
             [
              0.3333333333333333,
              "#9c179e"
             ],
             [
              0.4444444444444444,
              "#bd3786"
             ],
             [
              0.5555555555555556,
              "#d8576b"
             ],
             [
              0.6666666666666666,
              "#ed7953"
             ],
             [
              0.7777777777777778,
              "#fb9f3a"
             ],
             [
              0.8888888888888888,
              "#fdca26"
             ],
             [
              1,
              "#f0f921"
             ]
            ],
            "type": "surface"
           }
          ],
          "table": [
           {
            "cells": {
             "fill": {
              "color": "#EBF0F8"
             },
             "line": {
              "color": "white"
             }
            },
            "header": {
             "fill": {
              "color": "#C8D4E3"
             },
             "line": {
              "color": "white"
             }
            },
            "type": "table"
           }
          ]
         },
         "layout": {
          "annotationdefaults": {
           "arrowcolor": "#2a3f5f",
           "arrowhead": 0,
           "arrowwidth": 1
          },
          "autotypenumbers": "strict",
          "coloraxis": {
           "colorbar": {
            "outlinewidth": 0,
            "ticks": ""
           }
          },
          "colorscale": {
           "diverging": [
            [
             0,
             "#8e0152"
            ],
            [
             0.1,
             "#c51b7d"
            ],
            [
             0.2,
             "#de77ae"
            ],
            [
             0.3,
             "#f1b6da"
            ],
            [
             0.4,
             "#fde0ef"
            ],
            [
             0.5,
             "#f7f7f7"
            ],
            [
             0.6,
             "#e6f5d0"
            ],
            [
             0.7,
             "#b8e186"
            ],
            [
             0.8,
             "#7fbc41"
            ],
            [
             0.9,
             "#4d9221"
            ],
            [
             1,
             "#276419"
            ]
           ],
           "sequential": [
            [
             0,
             "#0d0887"
            ],
            [
             0.1111111111111111,
             "#46039f"
            ],
            [
             0.2222222222222222,
             "#7201a8"
            ],
            [
             0.3333333333333333,
             "#9c179e"
            ],
            [
             0.4444444444444444,
             "#bd3786"
            ],
            [
             0.5555555555555556,
             "#d8576b"
            ],
            [
             0.6666666666666666,
             "#ed7953"
            ],
            [
             0.7777777777777778,
             "#fb9f3a"
            ],
            [
             0.8888888888888888,
             "#fdca26"
            ],
            [
             1,
             "#f0f921"
            ]
           ],
           "sequentialminus": [
            [
             0,
             "#0d0887"
            ],
            [
             0.1111111111111111,
             "#46039f"
            ],
            [
             0.2222222222222222,
             "#7201a8"
            ],
            [
             0.3333333333333333,
             "#9c179e"
            ],
            [
             0.4444444444444444,
             "#bd3786"
            ],
            [
             0.5555555555555556,
             "#d8576b"
            ],
            [
             0.6666666666666666,
             "#ed7953"
            ],
            [
             0.7777777777777778,
             "#fb9f3a"
            ],
            [
             0.8888888888888888,
             "#fdca26"
            ],
            [
             1,
             "#f0f921"
            ]
           ]
          },
          "colorway": [
           "#636efa",
           "#EF553B",
           "#00cc96",
           "#ab63fa",
           "#FFA15A",
           "#19d3f3",
           "#FF6692",
           "#B6E880",
           "#FF97FF",
           "#FECB52"
          ],
          "font": {
           "color": "#2a3f5f"
          },
          "geo": {
           "bgcolor": "white",
           "lakecolor": "white",
           "landcolor": "#E5ECF6",
           "showlakes": true,
           "showland": true,
           "subunitcolor": "white"
          },
          "hoverlabel": {
           "align": "left"
          },
          "hovermode": "closest",
          "mapbox": {
           "style": "light"
          },
          "paper_bgcolor": "white",
          "plot_bgcolor": "#E5ECF6",
          "polar": {
           "angularaxis": {
            "gridcolor": "white",
            "linecolor": "white",
            "ticks": ""
           },
           "bgcolor": "#E5ECF6",
           "radialaxis": {
            "gridcolor": "white",
            "linecolor": "white",
            "ticks": ""
           }
          },
          "scene": {
           "xaxis": {
            "backgroundcolor": "#E5ECF6",
            "gridcolor": "white",
            "gridwidth": 2,
            "linecolor": "white",
            "showbackground": true,
            "ticks": "",
            "zerolinecolor": "white"
           },
           "yaxis": {
            "backgroundcolor": "#E5ECF6",
            "gridcolor": "white",
            "gridwidth": 2,
            "linecolor": "white",
            "showbackground": true,
            "ticks": "",
            "zerolinecolor": "white"
           },
           "zaxis": {
            "backgroundcolor": "#E5ECF6",
            "gridcolor": "white",
            "gridwidth": 2,
            "linecolor": "white",
            "showbackground": true,
            "ticks": "",
            "zerolinecolor": "white"
           }
          },
          "shapedefaults": {
           "line": {
            "color": "#2a3f5f"
           }
          },
          "ternary": {
           "aaxis": {
            "gridcolor": "white",
            "linecolor": "white",
            "ticks": ""
           },
           "baxis": {
            "gridcolor": "white",
            "linecolor": "white",
            "ticks": ""
           },
           "bgcolor": "#E5ECF6",
           "caxis": {
            "gridcolor": "white",
            "linecolor": "white",
            "ticks": ""
           }
          },
          "title": {
           "x": 0.05
          },
          "xaxis": {
           "automargin": true,
           "gridcolor": "white",
           "linecolor": "white",
           "ticks": "",
           "title": {
            "standoff": 15
           },
           "zerolinecolor": "white",
           "zerolinewidth": 2
          },
          "yaxis": {
           "automargin": true,
           "gridcolor": "white",
           "linecolor": "white",
           "ticks": "",
           "title": {
            "standoff": 15
           },
           "zerolinecolor": "white",
           "zerolinewidth": 2
          }
         }
        },
        "width": 900
       }
      }
     },
     "metadata": {},
     "output_type": "display_data"
    }
   ],
   "source": [
    "cat_df = get_catdf(model_dfs['gpt-4o-mini-2024-07-18'])\n",
    "fig = make_sankey(cat_df)\n",
    "# fig.write_image(\"sankey_v2.svg\")     # needs `pip install kaleido`\n",
    "fig"
   ]
  },
  {
   "cell_type": "code",
   "execution_count": 879,
   "id": "42f84100",
   "metadata": {},
   "outputs": [
    {
     "data": {
      "application/vnd.plotly.v1+json": {
       "config": {
        "plotlyServerURL": "https://plot.ly"
       },
       "data": [
        {
         "arrangement": "fixed",
         "link": {
          "color": [
           "#A8C3A0",
           "#E9A178",
           "#A8C3A0",
           "#E9A178",
           "#A8C3A0",
           "#E9A178",
           "#A8C3A0",
           "#E9A178",
           "#A8C3A0",
           "#E9A178",
           "#A8C3A0",
           "#E9A178",
           "#A8C3A0",
           "#E9A178",
           "#A8C3A0",
           "#E9A178",
           "#A8C3A0",
           "#E9A178"
          ],
          "source": {
           "bdata": "AAABAQICAwMEBAUFBgYHBwgI",
           "dtype": "i1"
          },
          "target": {
           "bdata": "CQoJCgkKCQoJCgkKCQoJCgkK",
           "dtype": "i1"
          },
          "value": {
           "bdata": "O7ETO7ET6z8UO7ETO7HDP69dfqT7C88/+FSW4pCxxz+2y490f+HTP/ba5Ue6v9A/JvyZ8GfCzz9ckHFBxgXJPxFLRSwVsdQ/Wt1pdafVzT9yHMdxHMfRPy+hvYT2Eto/L6G9hPYSuj8mtJfQXkLLP6eu5eBmv9A/E+idupaDyz+zX4gVpfHRPzf7hVhRGs8/",
           "dtype": "f8"
          }
         },
         "node": {
          "color": [
           "#b2bd99",
           "#c4b48e",
           "#c5b38d",
           "#c4b48e",
           "#c3b48f",
           "#ceae88",
           "#d3ac84",
           "#c5b38d",
           "#c6b38d",
           "#A8C3A0",
           "#E9A178"
          ],
          "line": {
           "color": "rgba(0,0,0,0.25)",
           "width": 0.5
          },
          "pad": 15,
          "thickness": 170,
          "x": [
           0.001,
           0.001,
           0.001,
           0.001,
           0.001,
           0.001,
           0.001,
           0.001,
           0.001,
           0.999,
           0.999
          ],
          "y": [
           0.9272,
           0.7646940425531916,
           0.6828940425531916,
           0.5499488721804512,
           0.46814887218045115,
           0.31900370370370373,
           0.23720370370370372,
           0.12037757009345797,
           0.03857757009345798,
           0.7175636798166078,
           0.2060636798166078
          ]
         },
         "type": "sankey"
        }
       ],
       "layout": {
        "annotations": [
         {
          "font": {
           "size": 12
          },
          "showarrow": false,
          "text": "Sparing Humans",
          "x": 0.001,
          "xanchor": "center",
          "y": 0.07279999999999998,
          "yanchor": "middle"
         },
         {
          "font": {
           "size": 12
          },
          "showarrow": false,
          "text": "Sparing Low Status",
          "x": 0.001,
          "xanchor": "center",
          "y": 0.23530595744680838,
          "yanchor": "middle"
         },
         {
          "font": {
           "size": 12
          },
          "showarrow": false,
          "text": "Sparing High Status",
          "x": 0.001,
          "xanchor": "center",
          "y": 0.31710595744680836,
          "yanchor": "middle"
         },
         {
          "font": {
           "size": 12
          },
          "showarrow": false,
          "text": "Sparing Women",
          "x": 0.001,
          "xanchor": "center",
          "y": 0.4500511278195488,
          "yanchor": "middle"
         },
         {
          "font": {
           "size": 12
          },
          "showarrow": false,
          "text": "Sparing Men",
          "x": 0.001,
          "xanchor": "center",
          "y": 0.5318511278195488,
          "yanchor": "middle"
         },
         {
          "font": {
           "size": 12
          },
          "showarrow": false,
          "text": "Sparing Young",
          "x": 0.001,
          "xanchor": "center",
          "y": 0.6809962962962963,
          "yanchor": "middle"
         },
         {
          "font": {
           "size": 12
          },
          "showarrow": false,
          "text": "Sparing Old",
          "x": 0.001,
          "xanchor": "center",
          "y": 0.7627962962962963,
          "yanchor": "middle"
         },
         {
          "font": {
           "size": 12
          },
          "showarrow": false,
          "text": "Sparing Unfit",
          "x": 0.001,
          "xanchor": "center",
          "y": 0.879622429906542,
          "yanchor": "middle"
         },
         {
          "font": {
           "size": 12
          },
          "showarrow": false,
          "text": "Sparing Fit",
          "x": 0.001,
          "xanchor": "center",
          "y": 0.961422429906542,
          "yanchor": "middle"
         },
         {
          "font": {
           "size": 12
          },
          "showarrow": false,
          "text": "Deontology",
          "x": 0.999,
          "xanchor": "center",
          "y": 0.28243632018339215,
          "yanchor": "middle"
         },
         {
          "font": {
           "size": 12
          },
          "showarrow": false,
          "text": "Consequentialism",
          "x": 0.999,
          "xanchor": "center",
          "y": 0.7939363201833922,
          "yanchor": "middle"
         },
         {
          "font": {
           "color": "rgba(0,0,0,0.7)",
           "size": 14
          },
          "showarrow": false,
          "text": "<b>Species</b>",
          "x": -0.212,
          "xanchor": "center",
          "y": 0.08000000000000007,
          "yanchor": "middle"
         },
         {
          "font": {
           "color": "rgba(0,0,0,0.7)",
           "size": 14
          },
          "showarrow": false,
          "text": "<b>SocialValue</b>",
          "x": -0.212,
          "xanchor": "center",
          "y": 0.29000000000000004,
          "yanchor": "middle"
         },
         {
          "font": {
           "color": "rgba(0,0,0,0.7)",
           "size": 14
          },
          "showarrow": false,
          "text": "<b>Gender</b>",
          "x": -0.212,
          "xanchor": "center",
          "y": 0.5,
          "yanchor": "middle"
         },
         {
          "font": {
           "color": "rgba(0,0,0,0.7)",
           "size": 14
          },
          "showarrow": false,
          "text": "<b>Age</b>",
          "x": -0.212,
          "xanchor": "center",
          "y": 0.71,
          "yanchor": "middle"
         },
         {
          "font": {
           "color": "rgba(0,0,0,0.7)",
           "size": 14
          },
          "showarrow": false,
          "text": "<b>Fitness</b>",
          "x": -0.212,
          "xanchor": "center",
          "y": 0.9199999999999999,
          "yanchor": "middle"
         }
        ],
        "font": {
         "size": 12
        },
        "height": 500,
        "margin": {
         "b": 15,
         "l": 180,
         "r": 100,
         "t": 15
        },
        "template": {
         "data": {
          "bar": [
           {
            "error_x": {
             "color": "#2a3f5f"
            },
            "error_y": {
             "color": "#2a3f5f"
            },
            "marker": {
             "line": {
              "color": "#E5ECF6",
              "width": 0.5
             },
             "pattern": {
              "fillmode": "overlay",
              "size": 10,
              "solidity": 0.2
             }
            },
            "type": "bar"
           }
          ],
          "barpolar": [
           {
            "marker": {
             "line": {
              "color": "#E5ECF6",
              "width": 0.5
             },
             "pattern": {
              "fillmode": "overlay",
              "size": 10,
              "solidity": 0.2
             }
            },
            "type": "barpolar"
           }
          ],
          "carpet": [
           {
            "aaxis": {
             "endlinecolor": "#2a3f5f",
             "gridcolor": "white",
             "linecolor": "white",
             "minorgridcolor": "white",
             "startlinecolor": "#2a3f5f"
            },
            "baxis": {
             "endlinecolor": "#2a3f5f",
             "gridcolor": "white",
             "linecolor": "white",
             "minorgridcolor": "white",
             "startlinecolor": "#2a3f5f"
            },
            "type": "carpet"
           }
          ],
          "choropleth": [
           {
            "colorbar": {
             "outlinewidth": 0,
             "ticks": ""
            },
            "type": "choropleth"
           }
          ],
          "contour": [
           {
            "colorbar": {
             "outlinewidth": 0,
             "ticks": ""
            },
            "colorscale": [
             [
              0,
              "#0d0887"
             ],
             [
              0.1111111111111111,
              "#46039f"
             ],
             [
              0.2222222222222222,
              "#7201a8"
             ],
             [
              0.3333333333333333,
              "#9c179e"
             ],
             [
              0.4444444444444444,
              "#bd3786"
             ],
             [
              0.5555555555555556,
              "#d8576b"
             ],
             [
              0.6666666666666666,
              "#ed7953"
             ],
             [
              0.7777777777777778,
              "#fb9f3a"
             ],
             [
              0.8888888888888888,
              "#fdca26"
             ],
             [
              1,
              "#f0f921"
             ]
            ],
            "type": "contour"
           }
          ],
          "contourcarpet": [
           {
            "colorbar": {
             "outlinewidth": 0,
             "ticks": ""
            },
            "type": "contourcarpet"
           }
          ],
          "heatmap": [
           {
            "colorbar": {
             "outlinewidth": 0,
             "ticks": ""
            },
            "colorscale": [
             [
              0,
              "#0d0887"
             ],
             [
              0.1111111111111111,
              "#46039f"
             ],
             [
              0.2222222222222222,
              "#7201a8"
             ],
             [
              0.3333333333333333,
              "#9c179e"
             ],
             [
              0.4444444444444444,
              "#bd3786"
             ],
             [
              0.5555555555555556,
              "#d8576b"
             ],
             [
              0.6666666666666666,
              "#ed7953"
             ],
             [
              0.7777777777777778,
              "#fb9f3a"
             ],
             [
              0.8888888888888888,
              "#fdca26"
             ],
             [
              1,
              "#f0f921"
             ]
            ],
            "type": "heatmap"
           }
          ],
          "histogram": [
           {
            "marker": {
             "pattern": {
              "fillmode": "overlay",
              "size": 10,
              "solidity": 0.2
             }
            },
            "type": "histogram"
           }
          ],
          "histogram2d": [
           {
            "colorbar": {
             "outlinewidth": 0,
             "ticks": ""
            },
            "colorscale": [
             [
              0,
              "#0d0887"
             ],
             [
              0.1111111111111111,
              "#46039f"
             ],
             [
              0.2222222222222222,
              "#7201a8"
             ],
             [
              0.3333333333333333,
              "#9c179e"
             ],
             [
              0.4444444444444444,
              "#bd3786"
             ],
             [
              0.5555555555555556,
              "#d8576b"
             ],
             [
              0.6666666666666666,
              "#ed7953"
             ],
             [
              0.7777777777777778,
              "#fb9f3a"
             ],
             [
              0.8888888888888888,
              "#fdca26"
             ],
             [
              1,
              "#f0f921"
             ]
            ],
            "type": "histogram2d"
           }
          ],
          "histogram2dcontour": [
           {
            "colorbar": {
             "outlinewidth": 0,
             "ticks": ""
            },
            "colorscale": [
             [
              0,
              "#0d0887"
             ],
             [
              0.1111111111111111,
              "#46039f"
             ],
             [
              0.2222222222222222,
              "#7201a8"
             ],
             [
              0.3333333333333333,
              "#9c179e"
             ],
             [
              0.4444444444444444,
              "#bd3786"
             ],
             [
              0.5555555555555556,
              "#d8576b"
             ],
             [
              0.6666666666666666,
              "#ed7953"
             ],
             [
              0.7777777777777778,
              "#fb9f3a"
             ],
             [
              0.8888888888888888,
              "#fdca26"
             ],
             [
              1,
              "#f0f921"
             ]
            ],
            "type": "histogram2dcontour"
           }
          ],
          "mesh3d": [
           {
            "colorbar": {
             "outlinewidth": 0,
             "ticks": ""
            },
            "type": "mesh3d"
           }
          ],
          "parcoords": [
           {
            "line": {
             "colorbar": {
              "outlinewidth": 0,
              "ticks": ""
             }
            },
            "type": "parcoords"
           }
          ],
          "pie": [
           {
            "automargin": true,
            "type": "pie"
           }
          ],
          "scatter": [
           {
            "fillpattern": {
             "fillmode": "overlay",
             "size": 10,
             "solidity": 0.2
            },
            "type": "scatter"
           }
          ],
          "scatter3d": [
           {
            "line": {
             "colorbar": {
              "outlinewidth": 0,
              "ticks": ""
             }
            },
            "marker": {
             "colorbar": {
              "outlinewidth": 0,
              "ticks": ""
             }
            },
            "type": "scatter3d"
           }
          ],
          "scattercarpet": [
           {
            "marker": {
             "colorbar": {
              "outlinewidth": 0,
              "ticks": ""
             }
            },
            "type": "scattercarpet"
           }
          ],
          "scattergeo": [
           {
            "marker": {
             "colorbar": {
              "outlinewidth": 0,
              "ticks": ""
             }
            },
            "type": "scattergeo"
           }
          ],
          "scattergl": [
           {
            "marker": {
             "colorbar": {
              "outlinewidth": 0,
              "ticks": ""
             }
            },
            "type": "scattergl"
           }
          ],
          "scattermap": [
           {
            "marker": {
             "colorbar": {
              "outlinewidth": 0,
              "ticks": ""
             }
            },
            "type": "scattermap"
           }
          ],
          "scattermapbox": [
           {
            "marker": {
             "colorbar": {
              "outlinewidth": 0,
              "ticks": ""
             }
            },
            "type": "scattermapbox"
           }
          ],
          "scatterpolar": [
           {
            "marker": {
             "colorbar": {
              "outlinewidth": 0,
              "ticks": ""
             }
            },
            "type": "scatterpolar"
           }
          ],
          "scatterpolargl": [
           {
            "marker": {
             "colorbar": {
              "outlinewidth": 0,
              "ticks": ""
             }
            },
            "type": "scatterpolargl"
           }
          ],
          "scatterternary": [
           {
            "marker": {
             "colorbar": {
              "outlinewidth": 0,
              "ticks": ""
             }
            },
            "type": "scatterternary"
           }
          ],
          "surface": [
           {
            "colorbar": {
             "outlinewidth": 0,
             "ticks": ""
            },
            "colorscale": [
             [
              0,
              "#0d0887"
             ],
             [
              0.1111111111111111,
              "#46039f"
             ],
             [
              0.2222222222222222,
              "#7201a8"
             ],
             [
              0.3333333333333333,
              "#9c179e"
             ],
             [
              0.4444444444444444,
              "#bd3786"
             ],
             [
              0.5555555555555556,
              "#d8576b"
             ],
             [
              0.6666666666666666,
              "#ed7953"
             ],
             [
              0.7777777777777778,
              "#fb9f3a"
             ],
             [
              0.8888888888888888,
              "#fdca26"
             ],
             [
              1,
              "#f0f921"
             ]
            ],
            "type": "surface"
           }
          ],
          "table": [
           {
            "cells": {
             "fill": {
              "color": "#EBF0F8"
             },
             "line": {
              "color": "white"
             }
            },
            "header": {
             "fill": {
              "color": "#C8D4E3"
             },
             "line": {
              "color": "white"
             }
            },
            "type": "table"
           }
          ]
         },
         "layout": {
          "annotationdefaults": {
           "arrowcolor": "#2a3f5f",
           "arrowhead": 0,
           "arrowwidth": 1
          },
          "autotypenumbers": "strict",
          "coloraxis": {
           "colorbar": {
            "outlinewidth": 0,
            "ticks": ""
           }
          },
          "colorscale": {
           "diverging": [
            [
             0,
             "#8e0152"
            ],
            [
             0.1,
             "#c51b7d"
            ],
            [
             0.2,
             "#de77ae"
            ],
            [
             0.3,
             "#f1b6da"
            ],
            [
             0.4,
             "#fde0ef"
            ],
            [
             0.5,
             "#f7f7f7"
            ],
            [
             0.6,
             "#e6f5d0"
            ],
            [
             0.7,
             "#b8e186"
            ],
            [
             0.8,
             "#7fbc41"
            ],
            [
             0.9,
             "#4d9221"
            ],
            [
             1,
             "#276419"
            ]
           ],
           "sequential": [
            [
             0,
             "#0d0887"
            ],
            [
             0.1111111111111111,
             "#46039f"
            ],
            [
             0.2222222222222222,
             "#7201a8"
            ],
            [
             0.3333333333333333,
             "#9c179e"
            ],
            [
             0.4444444444444444,
             "#bd3786"
            ],
            [
             0.5555555555555556,
             "#d8576b"
            ],
            [
             0.6666666666666666,
             "#ed7953"
            ],
            [
             0.7777777777777778,
             "#fb9f3a"
            ],
            [
             0.8888888888888888,
             "#fdca26"
            ],
            [
             1,
             "#f0f921"
            ]
           ],
           "sequentialminus": [
            [
             0,
             "#0d0887"
            ],
            [
             0.1111111111111111,
             "#46039f"
            ],
            [
             0.2222222222222222,
             "#7201a8"
            ],
            [
             0.3333333333333333,
             "#9c179e"
            ],
            [
             0.4444444444444444,
             "#bd3786"
            ],
            [
             0.5555555555555556,
             "#d8576b"
            ],
            [
             0.6666666666666666,
             "#ed7953"
            ],
            [
             0.7777777777777778,
             "#fb9f3a"
            ],
            [
             0.8888888888888888,
             "#fdca26"
            ],
            [
             1,
             "#f0f921"
            ]
           ]
          },
          "colorway": [
           "#636efa",
           "#EF553B",
           "#00cc96",
           "#ab63fa",
           "#FFA15A",
           "#19d3f3",
           "#FF6692",
           "#B6E880",
           "#FF97FF",
           "#FECB52"
          ],
          "font": {
           "color": "#2a3f5f"
          },
          "geo": {
           "bgcolor": "white",
           "lakecolor": "white",
           "landcolor": "#E5ECF6",
           "showlakes": true,
           "showland": true,
           "subunitcolor": "white"
          },
          "hoverlabel": {
           "align": "left"
          },
          "hovermode": "closest",
          "mapbox": {
           "style": "light"
          },
          "paper_bgcolor": "white",
          "plot_bgcolor": "#E5ECF6",
          "polar": {
           "angularaxis": {
            "gridcolor": "white",
            "linecolor": "white",
            "ticks": ""
           },
           "bgcolor": "#E5ECF6",
           "radialaxis": {
            "gridcolor": "white",
            "linecolor": "white",
            "ticks": ""
           }
          },
          "scene": {
           "xaxis": {
            "backgroundcolor": "#E5ECF6",
            "gridcolor": "white",
            "gridwidth": 2,
            "linecolor": "white",
            "showbackground": true,
            "ticks": "",
            "zerolinecolor": "white"
           },
           "yaxis": {
            "backgroundcolor": "#E5ECF6",
            "gridcolor": "white",
            "gridwidth": 2,
            "linecolor": "white",
            "showbackground": true,
            "ticks": "",
            "zerolinecolor": "white"
           },
           "zaxis": {
            "backgroundcolor": "#E5ECF6",
            "gridcolor": "white",
            "gridwidth": 2,
            "linecolor": "white",
            "showbackground": true,
            "ticks": "",
            "zerolinecolor": "white"
           }
          },
          "shapedefaults": {
           "line": {
            "color": "#2a3f5f"
           }
          },
          "ternary": {
           "aaxis": {
            "gridcolor": "white",
            "linecolor": "white",
            "ticks": ""
           },
           "baxis": {
            "gridcolor": "white",
            "linecolor": "white",
            "ticks": ""
           },
           "bgcolor": "#E5ECF6",
           "caxis": {
            "gridcolor": "white",
            "linecolor": "white",
            "ticks": ""
           }
          },
          "title": {
           "x": 0.05
          },
          "xaxis": {
           "automargin": true,
           "gridcolor": "white",
           "linecolor": "white",
           "ticks": "",
           "title": {
            "standoff": 15
           },
           "zerolinecolor": "white",
           "zerolinewidth": 2
          },
          "yaxis": {
           "automargin": true,
           "gridcolor": "white",
           "linecolor": "white",
           "ticks": "",
           "title": {
            "standoff": 15
           },
           "zerolinecolor": "white",
           "zerolinewidth": 2
          }
         }
        },
        "width": 900
       }
      }
     },
     "metadata": {},
     "output_type": "display_data"
    }
   ],
   "source": [
    "cat_df = get_catdf(model_dfs['gemini-2.5-flash-preview'])\n",
    "fig = make_sankey(cat_df)\n",
    "# fig.write_image(\"sankey_v2.svg\")     # needs `pip install kaleido`\n",
    "fig"
   ]
  },
  {
   "cell_type": "code",
   "execution_count": 678,
   "id": "e1743cfa",
   "metadata": {},
   "outputs": [
    {
     "data": {
      "application/vnd.plotly.v1+json": {
       "config": {
        "plotlyServerURL": "https://plot.ly"
       },
       "data": [
        {
         "arrangement": "fixed",
         "link": {
          "color": [
           "#A8C3A0",
           "#E9A178",
           "#A8C3A0",
           "#E9A178",
           "#A8C3A0",
           "#E9A178",
           "#A8C3A0",
           "#E9A178",
           "#A8C3A0",
           "#E9A178",
           "#A8C3A0",
           "#E9A178",
           "#A8C3A0",
           "#E9A178",
           "#A8C3A0",
           "#E9A178",
           "#A8C3A0",
           "#E9A178",
           "#A8C3A0",
           "#E9A178",
           "#A8C3A0",
           "#E9A178"
          ],
          "source": {
           "bdata": "AAABAQICAwMEBAUFBgYHBwgICQkKCg==",
           "dtype": "i1"
          },
          "target": {
           "bdata": "CwwLDAsMCwwLDAsMCwwLDAsMCwwLDA==",
           "dtype": "i1"
          },
          "value": {
           "bdata": "t23btm3b6j8lSZIkSZLEP8QeRHLYg9g/8Dae8N3Gsz9RRsApygjYP14aqM9LA8U/3dMIyz2N4D+WexphuaeRP+KAxx8OeNw/tPpSQasvlT8YCtP2hcLkP7k6QFauDtA/RRNNNNFEsz9cxGbwFrGZPz6I5LAHkdw/nKKMgFOUkT8bT/hu4wnfP+rz0kB9Xqo/aC+hvYT2sj8cx3Ecx3GsP6QMPN2aH8Y/eLo1PyxS5j8=",
           "dtype": "f8"
          }
         },
         "node": {
          "color": [
           "#b2bd99",
           "#b2bd99",
           "#bbb893",
           "#aac19e",
           "#aac19e",
           "#bab994",
           "#b8ba96",
           "#aac19e",
           "#aebf9c",
           "#c3b48e",
           "#dca77f",
           "#A8C3A0",
           "#E9A178"
          ],
          "line": {
           "color": "rgba(0,0,0,0.25)",
           "width": 0.5
          },
          "pad": 10,
          "thickness": 170,
          "x": [
           0.001,
           0.001,
           0.001,
           0.001,
           0.001,
           0.001,
           0.001,
           0.001,
           0.001,
           0.001,
           0.001,
           0.999,
           0.999
          ],
          "y": [
           0.93875,
           0.8107668991416308,
           0.7355168991416308,
           0.6307974137931033,
           0.5555474137931032,
           0.4332965949820786,
           0.3580465949820786,
           0.2840729613733903,
           0.20882296137339026,
           0.1286898148148145,
           0.0534398148148145,
           0.6371902127053328,
           0.1256902127053328
          ]
         },
         "type": "sankey"
        }
       ],
       "layout": {
        "annotations": [
         {
          "font": {
           "size": 12
          },
          "showarrow": false,
          "text": "Sparing Humans",
          "x": 0.001,
          "xanchor": "center",
          "y": 0.06125000000000003,
          "yanchor": "middle"
         },
         {
          "font": {
           "size": 12
          },
          "showarrow": false,
          "text": "Sparing Low Status",
          "x": 0.001,
          "xanchor": "center",
          "y": 0.1892331008583692,
          "yanchor": "middle"
         },
         {
          "font": {
           "size": 12
          },
          "showarrow": false,
          "text": "Sparing High Status",
          "x": 0.001,
          "xanchor": "center",
          "y": 0.26448310085836924,
          "yanchor": "middle"
         },
         {
          "font": {
           "size": 12
          },
          "showarrow": false,
          "text": "Sparing Women",
          "x": 0.001,
          "xanchor": "center",
          "y": 0.3692025862068967,
          "yanchor": "middle"
         },
         {
          "font": {
           "size": 12
          },
          "showarrow": false,
          "text": "Sparing Men",
          "x": 0.001,
          "xanchor": "center",
          "y": 0.44445258620689676,
          "yanchor": "middle"
         },
         {
          "font": {
           "size": 12
          },
          "showarrow": false,
          "text": "Sparing Young",
          "x": 0.001,
          "xanchor": "center",
          "y": 0.5667034050179214,
          "yanchor": "middle"
         },
         {
          "font": {
           "size": 12
          },
          "showarrow": false,
          "text": "Sparing Old",
          "x": 0.001,
          "xanchor": "center",
          "y": 0.6419534050179214,
          "yanchor": "middle"
         },
         {
          "font": {
           "size": 12
          },
          "showarrow": false,
          "text": "Sparing Unfit",
          "x": 0.001,
          "xanchor": "center",
          "y": 0.7159270386266097,
          "yanchor": "middle"
         },
         {
          "font": {
           "size": 12
          },
          "showarrow": false,
          "text": "Sparing Fit",
          "x": 0.001,
          "xanchor": "center",
          "y": 0.7911770386266097,
          "yanchor": "middle"
         },
         {
          "font": {
           "size": 12
          },
          "showarrow": false,
          "text": "Sparing Individuals",
          "x": 0.001,
          "xanchor": "center",
          "y": 0.8713101851851854,
          "yanchor": "middle"
         },
         {
          "font": {
           "size": 12
          },
          "showarrow": false,
          "text": "Sparing Groups",
          "x": 0.001,
          "xanchor": "center",
          "y": 0.9465601851851855,
          "yanchor": "middle"
         },
         {
          "font": {
           "size": 12
          },
          "showarrow": false,
          "text": "Deontology",
          "x": 0.999,
          "xanchor": "center",
          "y": 0.3628097872946672,
          "yanchor": "middle"
         },
         {
          "font": {
           "size": 12
          },
          "showarrow": false,
          "text": "Consequentialism",
          "x": 0.999,
          "xanchor": "center",
          "y": 0.8743097872946672,
          "yanchor": "middle"
         }
        ],
        "font": {
         "size": 12
        },
        "height": 500,
        "margin": {
         "b": 15,
         "l": 100,
         "r": 100,
         "t": 15
        },
        "template": {
         "data": {
          "bar": [
           {
            "error_x": {
             "color": "#2a3f5f"
            },
            "error_y": {
             "color": "#2a3f5f"
            },
            "marker": {
             "line": {
              "color": "#E5ECF6",
              "width": 0.5
             },
             "pattern": {
              "fillmode": "overlay",
              "size": 10,
              "solidity": 0.2
             }
            },
            "type": "bar"
           }
          ],
          "barpolar": [
           {
            "marker": {
             "line": {
              "color": "#E5ECF6",
              "width": 0.5
             },
             "pattern": {
              "fillmode": "overlay",
              "size": 10,
              "solidity": 0.2
             }
            },
            "type": "barpolar"
           }
          ],
          "carpet": [
           {
            "aaxis": {
             "endlinecolor": "#2a3f5f",
             "gridcolor": "white",
             "linecolor": "white",
             "minorgridcolor": "white",
             "startlinecolor": "#2a3f5f"
            },
            "baxis": {
             "endlinecolor": "#2a3f5f",
             "gridcolor": "white",
             "linecolor": "white",
             "minorgridcolor": "white",
             "startlinecolor": "#2a3f5f"
            },
            "type": "carpet"
           }
          ],
          "choropleth": [
           {
            "colorbar": {
             "outlinewidth": 0,
             "ticks": ""
            },
            "type": "choropleth"
           }
          ],
          "contour": [
           {
            "colorbar": {
             "outlinewidth": 0,
             "ticks": ""
            },
            "colorscale": [
             [
              0,
              "#0d0887"
             ],
             [
              0.1111111111111111,
              "#46039f"
             ],
             [
              0.2222222222222222,
              "#7201a8"
             ],
             [
              0.3333333333333333,
              "#9c179e"
             ],
             [
              0.4444444444444444,
              "#bd3786"
             ],
             [
              0.5555555555555556,
              "#d8576b"
             ],
             [
              0.6666666666666666,
              "#ed7953"
             ],
             [
              0.7777777777777778,
              "#fb9f3a"
             ],
             [
              0.8888888888888888,
              "#fdca26"
             ],
             [
              1,
              "#f0f921"
             ]
            ],
            "type": "contour"
           }
          ],
          "contourcarpet": [
           {
            "colorbar": {
             "outlinewidth": 0,
             "ticks": ""
            },
            "type": "contourcarpet"
           }
          ],
          "heatmap": [
           {
            "colorbar": {
             "outlinewidth": 0,
             "ticks": ""
            },
            "colorscale": [
             [
              0,
              "#0d0887"
             ],
             [
              0.1111111111111111,
              "#46039f"
             ],
             [
              0.2222222222222222,
              "#7201a8"
             ],
             [
              0.3333333333333333,
              "#9c179e"
             ],
             [
              0.4444444444444444,
              "#bd3786"
             ],
             [
              0.5555555555555556,
              "#d8576b"
             ],
             [
              0.6666666666666666,
              "#ed7953"
             ],
             [
              0.7777777777777778,
              "#fb9f3a"
             ],
             [
              0.8888888888888888,
              "#fdca26"
             ],
             [
              1,
              "#f0f921"
             ]
            ],
            "type": "heatmap"
           }
          ],
          "histogram": [
           {
            "marker": {
             "pattern": {
              "fillmode": "overlay",
              "size": 10,
              "solidity": 0.2
             }
            },
            "type": "histogram"
           }
          ],
          "histogram2d": [
           {
            "colorbar": {
             "outlinewidth": 0,
             "ticks": ""
            },
            "colorscale": [
             [
              0,
              "#0d0887"
             ],
             [
              0.1111111111111111,
              "#46039f"
             ],
             [
              0.2222222222222222,
              "#7201a8"
             ],
             [
              0.3333333333333333,
              "#9c179e"
             ],
             [
              0.4444444444444444,
              "#bd3786"
             ],
             [
              0.5555555555555556,
              "#d8576b"
             ],
             [
              0.6666666666666666,
              "#ed7953"
             ],
             [
              0.7777777777777778,
              "#fb9f3a"
             ],
             [
              0.8888888888888888,
              "#fdca26"
             ],
             [
              1,
              "#f0f921"
             ]
            ],
            "type": "histogram2d"
           }
          ],
          "histogram2dcontour": [
           {
            "colorbar": {
             "outlinewidth": 0,
             "ticks": ""
            },
            "colorscale": [
             [
              0,
              "#0d0887"
             ],
             [
              0.1111111111111111,
              "#46039f"
             ],
             [
              0.2222222222222222,
              "#7201a8"
             ],
             [
              0.3333333333333333,
              "#9c179e"
             ],
             [
              0.4444444444444444,
              "#bd3786"
             ],
             [
              0.5555555555555556,
              "#d8576b"
             ],
             [
              0.6666666666666666,
              "#ed7953"
             ],
             [
              0.7777777777777778,
              "#fb9f3a"
             ],
             [
              0.8888888888888888,
              "#fdca26"
             ],
             [
              1,
              "#f0f921"
             ]
            ],
            "type": "histogram2dcontour"
           }
          ],
          "mesh3d": [
           {
            "colorbar": {
             "outlinewidth": 0,
             "ticks": ""
            },
            "type": "mesh3d"
           }
          ],
          "parcoords": [
           {
            "line": {
             "colorbar": {
              "outlinewidth": 0,
              "ticks": ""
             }
            },
            "type": "parcoords"
           }
          ],
          "pie": [
           {
            "automargin": true,
            "type": "pie"
           }
          ],
          "scatter": [
           {
            "fillpattern": {
             "fillmode": "overlay",
             "size": 10,
             "solidity": 0.2
            },
            "type": "scatter"
           }
          ],
          "scatter3d": [
           {
            "line": {
             "colorbar": {
              "outlinewidth": 0,
              "ticks": ""
             }
            },
            "marker": {
             "colorbar": {
              "outlinewidth": 0,
              "ticks": ""
             }
            },
            "type": "scatter3d"
           }
          ],
          "scattercarpet": [
           {
            "marker": {
             "colorbar": {
              "outlinewidth": 0,
              "ticks": ""
             }
            },
            "type": "scattercarpet"
           }
          ],
          "scattergeo": [
           {
            "marker": {
             "colorbar": {
              "outlinewidth": 0,
              "ticks": ""
             }
            },
            "type": "scattergeo"
           }
          ],
          "scattergl": [
           {
            "marker": {
             "colorbar": {
              "outlinewidth": 0,
              "ticks": ""
             }
            },
            "type": "scattergl"
           }
          ],
          "scattermap": [
           {
            "marker": {
             "colorbar": {
              "outlinewidth": 0,
              "ticks": ""
             }
            },
            "type": "scattermap"
           }
          ],
          "scattermapbox": [
           {
            "marker": {
             "colorbar": {
              "outlinewidth": 0,
              "ticks": ""
             }
            },
            "type": "scattermapbox"
           }
          ],
          "scatterpolar": [
           {
            "marker": {
             "colorbar": {
              "outlinewidth": 0,
              "ticks": ""
             }
            },
            "type": "scatterpolar"
           }
          ],
          "scatterpolargl": [
           {
            "marker": {
             "colorbar": {
              "outlinewidth": 0,
              "ticks": ""
             }
            },
            "type": "scatterpolargl"
           }
          ],
          "scatterternary": [
           {
            "marker": {
             "colorbar": {
              "outlinewidth": 0,
              "ticks": ""
             }
            },
            "type": "scatterternary"
           }
          ],
          "surface": [
           {
            "colorbar": {
             "outlinewidth": 0,
             "ticks": ""
            },
            "colorscale": [
             [
              0,
              "#0d0887"
             ],
             [
              0.1111111111111111,
              "#46039f"
             ],
             [
              0.2222222222222222,
              "#7201a8"
             ],
             [
              0.3333333333333333,
              "#9c179e"
             ],
             [
              0.4444444444444444,
              "#bd3786"
             ],
             [
              0.5555555555555556,
              "#d8576b"
             ],
             [
              0.6666666666666666,
              "#ed7953"
             ],
             [
              0.7777777777777778,
              "#fb9f3a"
             ],
             [
              0.8888888888888888,
              "#fdca26"
             ],
             [
              1,
              "#f0f921"
             ]
            ],
            "type": "surface"
           }
          ],
          "table": [
           {
            "cells": {
             "fill": {
              "color": "#EBF0F8"
             },
             "line": {
              "color": "white"
             }
            },
            "header": {
             "fill": {
              "color": "#C8D4E3"
             },
             "line": {
              "color": "white"
             }
            },
            "type": "table"
           }
          ]
         },
         "layout": {
          "annotationdefaults": {
           "arrowcolor": "#2a3f5f",
           "arrowhead": 0,
           "arrowwidth": 1
          },
          "autotypenumbers": "strict",
          "coloraxis": {
           "colorbar": {
            "outlinewidth": 0,
            "ticks": ""
           }
          },
          "colorscale": {
           "diverging": [
            [
             0,
             "#8e0152"
            ],
            [
             0.1,
             "#c51b7d"
            ],
            [
             0.2,
             "#de77ae"
            ],
            [
             0.3,
             "#f1b6da"
            ],
            [
             0.4,
             "#fde0ef"
            ],
            [
             0.5,
             "#f7f7f7"
            ],
            [
             0.6,
             "#e6f5d0"
            ],
            [
             0.7,
             "#b8e186"
            ],
            [
             0.8,
             "#7fbc41"
            ],
            [
             0.9,
             "#4d9221"
            ],
            [
             1,
             "#276419"
            ]
           ],
           "sequential": [
            [
             0,
             "#0d0887"
            ],
            [
             0.1111111111111111,
             "#46039f"
            ],
            [
             0.2222222222222222,
             "#7201a8"
            ],
            [
             0.3333333333333333,
             "#9c179e"
            ],
            [
             0.4444444444444444,
             "#bd3786"
            ],
            [
             0.5555555555555556,
             "#d8576b"
            ],
            [
             0.6666666666666666,
             "#ed7953"
            ],
            [
             0.7777777777777778,
             "#fb9f3a"
            ],
            [
             0.8888888888888888,
             "#fdca26"
            ],
            [
             1,
             "#f0f921"
            ]
           ],
           "sequentialminus": [
            [
             0,
             "#0d0887"
            ],
            [
             0.1111111111111111,
             "#46039f"
            ],
            [
             0.2222222222222222,
             "#7201a8"
            ],
            [
             0.3333333333333333,
             "#9c179e"
            ],
            [
             0.4444444444444444,
             "#bd3786"
            ],
            [
             0.5555555555555556,
             "#d8576b"
            ],
            [
             0.6666666666666666,
             "#ed7953"
            ],
            [
             0.7777777777777778,
             "#fb9f3a"
            ],
            [
             0.8888888888888888,
             "#fdca26"
            ],
            [
             1,
             "#f0f921"
            ]
           ]
          },
          "colorway": [
           "#636efa",
           "#EF553B",
           "#00cc96",
           "#ab63fa",
           "#FFA15A",
           "#19d3f3",
           "#FF6692",
           "#B6E880",
           "#FF97FF",
           "#FECB52"
          ],
          "font": {
           "color": "#2a3f5f"
          },
          "geo": {
           "bgcolor": "white",
           "lakecolor": "white",
           "landcolor": "#E5ECF6",
           "showlakes": true,
           "showland": true,
           "subunitcolor": "white"
          },
          "hoverlabel": {
           "align": "left"
          },
          "hovermode": "closest",
          "mapbox": {
           "style": "light"
          },
          "paper_bgcolor": "white",
          "plot_bgcolor": "#E5ECF6",
          "polar": {
           "angularaxis": {
            "gridcolor": "white",
            "linecolor": "white",
            "ticks": ""
           },
           "bgcolor": "#E5ECF6",
           "radialaxis": {
            "gridcolor": "white",
            "linecolor": "white",
            "ticks": ""
           }
          },
          "scene": {
           "xaxis": {
            "backgroundcolor": "#E5ECF6",
            "gridcolor": "white",
            "gridwidth": 2,
            "linecolor": "white",
            "showbackground": true,
            "ticks": "",
            "zerolinecolor": "white"
           },
           "yaxis": {
            "backgroundcolor": "#E5ECF6",
            "gridcolor": "white",
            "gridwidth": 2,
            "linecolor": "white",
            "showbackground": true,
            "ticks": "",
            "zerolinecolor": "white"
           },
           "zaxis": {
            "backgroundcolor": "#E5ECF6",
            "gridcolor": "white",
            "gridwidth": 2,
            "linecolor": "white",
            "showbackground": true,
            "ticks": "",
            "zerolinecolor": "white"
           }
          },
          "shapedefaults": {
           "line": {
            "color": "#2a3f5f"
           }
          },
          "ternary": {
           "aaxis": {
            "gridcolor": "white",
            "linecolor": "white",
            "ticks": ""
           },
           "baxis": {
            "gridcolor": "white",
            "linecolor": "white",
            "ticks": ""
           },
           "bgcolor": "#E5ECF6",
           "caxis": {
            "gridcolor": "white",
            "linecolor": "white",
            "ticks": ""
           }
          },
          "title": {
           "x": 0.05
          },
          "xaxis": {
           "automargin": true,
           "gridcolor": "white",
           "linecolor": "white",
           "ticks": "",
           "title": {
            "standoff": 15
           },
           "zerolinecolor": "white",
           "zerolinewidth": 2
          },
          "yaxis": {
           "automargin": true,
           "gridcolor": "white",
           "linecolor": "white",
           "ticks": "",
           "title": {
            "standoff": 15
           },
           "zerolinecolor": "white",
           "zerolinewidth": 2
          }
         }
        },
        "width": 900
       }
      }
     },
     "metadata": {},
     "output_type": "display_data"
    }
   ],
   "source": [
    "cat_df = get_catdf(model_dfs['llama-4-scout'])\n",
    "fig = make_sankey(cat_df)\n",
    "# fig.write_image(\"sankey_v2.svg\")     # needs `pip install kaleido`\n",
    "fig"
   ]
  },
  {
   "cell_type": "code",
   "execution_count": 679,
   "id": "37e39756",
   "metadata": {},
   "outputs": [
    {
     "data": {
      "application/vnd.plotly.v1+json": {
       "config": {
        "plotlyServerURL": "https://plot.ly"
       },
       "data": [
        {
         "arrangement": "fixed",
         "link": {
          "color": [
           "#A8C3A0",
           "#E9A178",
           "#A8C3A0",
           "#E9A178",
           "#A8C3A0",
           "#E9A178",
           "#A8C3A0",
           "#E9A178",
           "#A8C3A0",
           "#E9A178",
           "#A8C3A0",
           "#E9A178",
           "#A8C3A0",
           "#E9A178",
           "#A8C3A0",
           "#E9A178",
           "#A8C3A0",
           "#E9A178"
          ],
          "source": {
           "bdata": "AAABAQICAwMEBAUFBgYHBwgI",
           "dtype": "i1"
          },
          "target": {
           "bdata": "CQoJCgkKCQoJCgkKCQoJCgkK",
           "dtype": "i1"
          },
          "value": {
           "bdata": "oQ7qoA7q6D98xVd8xVfMPwAtdPKgOc8/iOMzuo8Klj/whMfBXATXP1gmW8kp/tc/MzMzMzMz6D8AAAAAAACQP83MzMzMzMw/mpmZmZmZaT+u7HNITTC+P2qC8Vb2Oew/2pN8H6vZsz8qE7ZBcCqjPyoTtkFwKtM/vQIad+u84j80T6gFjEnMPzPslf6c7eg/",
           "dtype": "f8"
          }
         },
         "node": {
          "color": [
           "#b6bb97",
           "#adc09c",
           "#c9b18b",
           "#a9c29f",
           "#a8c29f",
           "#e1a57c",
           "#bdb792",
           "#d3ac85",
           "#daa880",
           "#A8C3A0",
           "#E9A178"
          ],
          "line": {
           "color": "rgba(0,0,0,0.25)",
           "width": 0.5
          },
          "pad": 10,
          "thickness": 170,
          "x": [
           0.001,
           0.001,
           0.001,
           0.001,
           0.001,
           0.001,
           0.001,
           0.001,
           0.001,
           0.999,
           0.999
          ],
          "y": [
           0.93625,
           0.8168417040358744,
           0.7390917040358743,
           0.6045648437499999,
           0.5268148437499999,
           0.4097499999999999,
           0.29978542780748657,
           0.22203542780748659,
           0.06374999999999999,
           0.7493173977903895,
           0.2378173977903896
          ]
         },
         "type": "sankey"
        }
       ],
       "layout": {
        "annotations": [
         {
          "font": {
           "size": 12
          },
          "showarrow": false,
          "text": "Sparing Humans",
          "x": 0.001,
          "xanchor": "center",
          "y": 0.06374999999999997,
          "yanchor": "middle"
         },
         {
          "font": {
           "size": 12
          },
          "showarrow": false,
          "text": "Sparing Low Status",
          "x": 0.001,
          "xanchor": "center",
          "y": 0.18315829596412558,
          "yanchor": "middle"
         },
         {
          "font": {
           "size": 12
          },
          "showarrow": false,
          "text": "Sparing High Status",
          "x": 0.001,
          "xanchor": "center",
          "y": 0.2609082959641257,
          "yanchor": "middle"
         },
         {
          "font": {
           "size": 12
          },
          "showarrow": false,
          "text": "Sparing Women",
          "x": 0.001,
          "xanchor": "center",
          "y": 0.39543515625000014,
          "yanchor": "middle"
         },
         {
          "font": {
           "size": 12
          },
          "showarrow": false,
          "text": "Sparing Men",
          "x": 0.001,
          "xanchor": "center",
          "y": 0.4731851562500001,
          "yanchor": "middle"
         },
         {
          "font": {
           "size": 12
          },
          "showarrow": false,
          "text": "Sparing Young",
          "x": 0.001,
          "xanchor": "center",
          "y": 0.5902500000000002,
          "yanchor": "middle"
         },
         {
          "font": {
           "size": 12
          },
          "showarrow": false,
          "text": "Sparing Unfit",
          "x": 0.001,
          "xanchor": "center",
          "y": 0.7002145721925135,
          "yanchor": "middle"
         },
         {
          "font": {
           "size": 12
          },
          "showarrow": false,
          "text": "Sparing Fit",
          "x": 0.001,
          "xanchor": "center",
          "y": 0.7779645721925135,
          "yanchor": "middle"
         },
         {
          "font": {
           "size": 12
          },
          "showarrow": false,
          "text": "Sparing Groups",
          "x": 0.001,
          "xanchor": "center",
          "y": 0.93625,
          "yanchor": "middle"
         },
         {
          "font": {
           "size": 12
          },
          "showarrow": false,
          "text": "Deontology",
          "x": 0.999,
          "xanchor": "center",
          "y": 0.25068260220961047,
          "yanchor": "middle"
         },
         {
          "font": {
           "size": 12
          },
          "showarrow": false,
          "text": "Consequentialism",
          "x": 0.999,
          "xanchor": "center",
          "y": 0.7621826022096104,
          "yanchor": "middle"
         }
        ],
        "font": {
         "size": 12
        },
        "height": 500,
        "margin": {
         "b": 15,
         "l": 100,
         "r": 100,
         "t": 15
        },
        "template": {
         "data": {
          "bar": [
           {
            "error_x": {
             "color": "#2a3f5f"
            },
            "error_y": {
             "color": "#2a3f5f"
            },
            "marker": {
             "line": {
              "color": "#E5ECF6",
              "width": 0.5
             },
             "pattern": {
              "fillmode": "overlay",
              "size": 10,
              "solidity": 0.2
             }
            },
            "type": "bar"
           }
          ],
          "barpolar": [
           {
            "marker": {
             "line": {
              "color": "#E5ECF6",
              "width": 0.5
             },
             "pattern": {
              "fillmode": "overlay",
              "size": 10,
              "solidity": 0.2
             }
            },
            "type": "barpolar"
           }
          ],
          "carpet": [
           {
            "aaxis": {
             "endlinecolor": "#2a3f5f",
             "gridcolor": "white",
             "linecolor": "white",
             "minorgridcolor": "white",
             "startlinecolor": "#2a3f5f"
            },
            "baxis": {
             "endlinecolor": "#2a3f5f",
             "gridcolor": "white",
             "linecolor": "white",
             "minorgridcolor": "white",
             "startlinecolor": "#2a3f5f"
            },
            "type": "carpet"
           }
          ],
          "choropleth": [
           {
            "colorbar": {
             "outlinewidth": 0,
             "ticks": ""
            },
            "type": "choropleth"
           }
          ],
          "contour": [
           {
            "colorbar": {
             "outlinewidth": 0,
             "ticks": ""
            },
            "colorscale": [
             [
              0,
              "#0d0887"
             ],
             [
              0.1111111111111111,
              "#46039f"
             ],
             [
              0.2222222222222222,
              "#7201a8"
             ],
             [
              0.3333333333333333,
              "#9c179e"
             ],
             [
              0.4444444444444444,
              "#bd3786"
             ],
             [
              0.5555555555555556,
              "#d8576b"
             ],
             [
              0.6666666666666666,
              "#ed7953"
             ],
             [
              0.7777777777777778,
              "#fb9f3a"
             ],
             [
              0.8888888888888888,
              "#fdca26"
             ],
             [
              1,
              "#f0f921"
             ]
            ],
            "type": "contour"
           }
          ],
          "contourcarpet": [
           {
            "colorbar": {
             "outlinewidth": 0,
             "ticks": ""
            },
            "type": "contourcarpet"
           }
          ],
          "heatmap": [
           {
            "colorbar": {
             "outlinewidth": 0,
             "ticks": ""
            },
            "colorscale": [
             [
              0,
              "#0d0887"
             ],
             [
              0.1111111111111111,
              "#46039f"
             ],
             [
              0.2222222222222222,
              "#7201a8"
             ],
             [
              0.3333333333333333,
              "#9c179e"
             ],
             [
              0.4444444444444444,
              "#bd3786"
             ],
             [
              0.5555555555555556,
              "#d8576b"
             ],
             [
              0.6666666666666666,
              "#ed7953"
             ],
             [
              0.7777777777777778,
              "#fb9f3a"
             ],
             [
              0.8888888888888888,
              "#fdca26"
             ],
             [
              1,
              "#f0f921"
             ]
            ],
            "type": "heatmap"
           }
          ],
          "histogram": [
           {
            "marker": {
             "pattern": {
              "fillmode": "overlay",
              "size": 10,
              "solidity": 0.2
             }
            },
            "type": "histogram"
           }
          ],
          "histogram2d": [
           {
            "colorbar": {
             "outlinewidth": 0,
             "ticks": ""
            },
            "colorscale": [
             [
              0,
              "#0d0887"
             ],
             [
              0.1111111111111111,
              "#46039f"
             ],
             [
              0.2222222222222222,
              "#7201a8"
             ],
             [
              0.3333333333333333,
              "#9c179e"
             ],
             [
              0.4444444444444444,
              "#bd3786"
             ],
             [
              0.5555555555555556,
              "#d8576b"
             ],
             [
              0.6666666666666666,
              "#ed7953"
             ],
             [
              0.7777777777777778,
              "#fb9f3a"
             ],
             [
              0.8888888888888888,
              "#fdca26"
             ],
             [
              1,
              "#f0f921"
             ]
            ],
            "type": "histogram2d"
           }
          ],
          "histogram2dcontour": [
           {
            "colorbar": {
             "outlinewidth": 0,
             "ticks": ""
            },
            "colorscale": [
             [
              0,
              "#0d0887"
             ],
             [
              0.1111111111111111,
              "#46039f"
             ],
             [
              0.2222222222222222,
              "#7201a8"
             ],
             [
              0.3333333333333333,
              "#9c179e"
             ],
             [
              0.4444444444444444,
              "#bd3786"
             ],
             [
              0.5555555555555556,
              "#d8576b"
             ],
             [
              0.6666666666666666,
              "#ed7953"
             ],
             [
              0.7777777777777778,
              "#fb9f3a"
             ],
             [
              0.8888888888888888,
              "#fdca26"
             ],
             [
              1,
              "#f0f921"
             ]
            ],
            "type": "histogram2dcontour"
           }
          ],
          "mesh3d": [
           {
            "colorbar": {
             "outlinewidth": 0,
             "ticks": ""
            },
            "type": "mesh3d"
           }
          ],
          "parcoords": [
           {
            "line": {
             "colorbar": {
              "outlinewidth": 0,
              "ticks": ""
             }
            },
            "type": "parcoords"
           }
          ],
          "pie": [
           {
            "automargin": true,
            "type": "pie"
           }
          ],
          "scatter": [
           {
            "fillpattern": {
             "fillmode": "overlay",
             "size": 10,
             "solidity": 0.2
            },
            "type": "scatter"
           }
          ],
          "scatter3d": [
           {
            "line": {
             "colorbar": {
              "outlinewidth": 0,
              "ticks": ""
             }
            },
            "marker": {
             "colorbar": {
              "outlinewidth": 0,
              "ticks": ""
             }
            },
            "type": "scatter3d"
           }
          ],
          "scattercarpet": [
           {
            "marker": {
             "colorbar": {
              "outlinewidth": 0,
              "ticks": ""
             }
            },
            "type": "scattercarpet"
           }
          ],
          "scattergeo": [
           {
            "marker": {
             "colorbar": {
              "outlinewidth": 0,
              "ticks": ""
             }
            },
            "type": "scattergeo"
           }
          ],
          "scattergl": [
           {
            "marker": {
             "colorbar": {
              "outlinewidth": 0,
              "ticks": ""
             }
            },
            "type": "scattergl"
           }
          ],
          "scattermap": [
           {
            "marker": {
             "colorbar": {
              "outlinewidth": 0,
              "ticks": ""
             }
            },
            "type": "scattermap"
           }
          ],
          "scattermapbox": [
           {
            "marker": {
             "colorbar": {
              "outlinewidth": 0,
              "ticks": ""
             }
            },
            "type": "scattermapbox"
           }
          ],
          "scatterpolar": [
           {
            "marker": {
             "colorbar": {
              "outlinewidth": 0,
              "ticks": ""
             }
            },
            "type": "scatterpolar"
           }
          ],
          "scatterpolargl": [
           {
            "marker": {
             "colorbar": {
              "outlinewidth": 0,
              "ticks": ""
             }
            },
            "type": "scatterpolargl"
           }
          ],
          "scatterternary": [
           {
            "marker": {
             "colorbar": {
              "outlinewidth": 0,
              "ticks": ""
             }
            },
            "type": "scatterternary"
           }
          ],
          "surface": [
           {
            "colorbar": {
             "outlinewidth": 0,
             "ticks": ""
            },
            "colorscale": [
             [
              0,
              "#0d0887"
             ],
             [
              0.1111111111111111,
              "#46039f"
             ],
             [
              0.2222222222222222,
              "#7201a8"
             ],
             [
              0.3333333333333333,
              "#9c179e"
             ],
             [
              0.4444444444444444,
              "#bd3786"
             ],
             [
              0.5555555555555556,
              "#d8576b"
             ],
             [
              0.6666666666666666,
              "#ed7953"
             ],
             [
              0.7777777777777778,
              "#fb9f3a"
             ],
             [
              0.8888888888888888,
              "#fdca26"
             ],
             [
              1,
              "#f0f921"
             ]
            ],
            "type": "surface"
           }
          ],
          "table": [
           {
            "cells": {
             "fill": {
              "color": "#EBF0F8"
             },
             "line": {
              "color": "white"
             }
            },
            "header": {
             "fill": {
              "color": "#C8D4E3"
             },
             "line": {
              "color": "white"
             }
            },
            "type": "table"
           }
          ]
         },
         "layout": {
          "annotationdefaults": {
           "arrowcolor": "#2a3f5f",
           "arrowhead": 0,
           "arrowwidth": 1
          },
          "autotypenumbers": "strict",
          "coloraxis": {
           "colorbar": {
            "outlinewidth": 0,
            "ticks": ""
           }
          },
          "colorscale": {
           "diverging": [
            [
             0,
             "#8e0152"
            ],
            [
             0.1,
             "#c51b7d"
            ],
            [
             0.2,
             "#de77ae"
            ],
            [
             0.3,
             "#f1b6da"
            ],
            [
             0.4,
             "#fde0ef"
            ],
            [
             0.5,
             "#f7f7f7"
            ],
            [
             0.6,
             "#e6f5d0"
            ],
            [
             0.7,
             "#b8e186"
            ],
            [
             0.8,
             "#7fbc41"
            ],
            [
             0.9,
             "#4d9221"
            ],
            [
             1,
             "#276419"
            ]
           ],
           "sequential": [
            [
             0,
             "#0d0887"
            ],
            [
             0.1111111111111111,
             "#46039f"
            ],
            [
             0.2222222222222222,
             "#7201a8"
            ],
            [
             0.3333333333333333,
             "#9c179e"
            ],
            [
             0.4444444444444444,
             "#bd3786"
            ],
            [
             0.5555555555555556,
             "#d8576b"
            ],
            [
             0.6666666666666666,
             "#ed7953"
            ],
            [
             0.7777777777777778,
             "#fb9f3a"
            ],
            [
             0.8888888888888888,
             "#fdca26"
            ],
            [
             1,
             "#f0f921"
            ]
           ],
           "sequentialminus": [
            [
             0,
             "#0d0887"
            ],
            [
             0.1111111111111111,
             "#46039f"
            ],
            [
             0.2222222222222222,
             "#7201a8"
            ],
            [
             0.3333333333333333,
             "#9c179e"
            ],
            [
             0.4444444444444444,
             "#bd3786"
            ],
            [
             0.5555555555555556,
             "#d8576b"
            ],
            [
             0.6666666666666666,
             "#ed7953"
            ],
            [
             0.7777777777777778,
             "#fb9f3a"
            ],
            [
             0.8888888888888888,
             "#fdca26"
            ],
            [
             1,
             "#f0f921"
            ]
           ]
          },
          "colorway": [
           "#636efa",
           "#EF553B",
           "#00cc96",
           "#ab63fa",
           "#FFA15A",
           "#19d3f3",
           "#FF6692",
           "#B6E880",
           "#FF97FF",
           "#FECB52"
          ],
          "font": {
           "color": "#2a3f5f"
          },
          "geo": {
           "bgcolor": "white",
           "lakecolor": "white",
           "landcolor": "#E5ECF6",
           "showlakes": true,
           "showland": true,
           "subunitcolor": "white"
          },
          "hoverlabel": {
           "align": "left"
          },
          "hovermode": "closest",
          "mapbox": {
           "style": "light"
          },
          "paper_bgcolor": "white",
          "plot_bgcolor": "#E5ECF6",
          "polar": {
           "angularaxis": {
            "gridcolor": "white",
            "linecolor": "white",
            "ticks": ""
           },
           "bgcolor": "#E5ECF6",
           "radialaxis": {
            "gridcolor": "white",
            "linecolor": "white",
            "ticks": ""
           }
          },
          "scene": {
           "xaxis": {
            "backgroundcolor": "#E5ECF6",
            "gridcolor": "white",
            "gridwidth": 2,
            "linecolor": "white",
            "showbackground": true,
            "ticks": "",
            "zerolinecolor": "white"
           },
           "yaxis": {
            "backgroundcolor": "#E5ECF6",
            "gridcolor": "white",
            "gridwidth": 2,
            "linecolor": "white",
            "showbackground": true,
            "ticks": "",
            "zerolinecolor": "white"
           },
           "zaxis": {
            "backgroundcolor": "#E5ECF6",
            "gridcolor": "white",
            "gridwidth": 2,
            "linecolor": "white",
            "showbackground": true,
            "ticks": "",
            "zerolinecolor": "white"
           }
          },
          "shapedefaults": {
           "line": {
            "color": "#2a3f5f"
           }
          },
          "ternary": {
           "aaxis": {
            "gridcolor": "white",
            "linecolor": "white",
            "ticks": ""
           },
           "baxis": {
            "gridcolor": "white",
            "linecolor": "white",
            "ticks": ""
           },
           "bgcolor": "#E5ECF6",
           "caxis": {
            "gridcolor": "white",
            "linecolor": "white",
            "ticks": ""
           }
          },
          "title": {
           "x": 0.05
          },
          "xaxis": {
           "automargin": true,
           "gridcolor": "white",
           "linecolor": "white",
           "ticks": "",
           "title": {
            "standoff": 15
           },
           "zerolinecolor": "white",
           "zerolinewidth": 2
          },
          "yaxis": {
           "automargin": true,
           "gridcolor": "white",
           "linecolor": "white",
           "ticks": "",
           "title": {
            "standoff": 15
           },
           "zerolinecolor": "white",
           "zerolinewidth": 2
          }
         }
        },
        "width": 900
       }
      }
     },
     "metadata": {},
     "output_type": "display_data"
    }
   ],
   "source": [
    "cat_df = get_catdf(model_dfs['gpt-4o-2024-08-06'])\n",
    "fig = make_sankey(cat_df)\n",
    "# fig.write_image(\"sankey_v2.svg\")     # needs `pip install kaleido`\n",
    "fig"
   ]
  },
  {
   "cell_type": "code",
   "execution_count": 680,
   "id": "ef427b46",
   "metadata": {},
   "outputs": [
    {
     "data": {
      "application/vnd.plotly.v1+json": {
       "config": {
        "plotlyServerURL": "https://plot.ly"
       },
       "data": [
        {
         "arrangement": "fixed",
         "link": {
          "color": [
           "#A8C3A0",
           "#E9A178",
           "#A8C3A0",
           "#E9A178",
           "#A8C3A0",
           "#E9A178",
           "#A8C3A0",
           "#A8C3A0",
           "#A8C3A0",
           "#E9A178",
           "#A8C3A0",
           "#E9A178",
           "#A8C3A0",
           "#E9A178",
           "#A8C3A0",
           "#E9A178"
          ],
          "source": {
           "bdata": "AAABAQICAwQFBQYGBwcICA==",
           "dtype": "i1"
          },
          "target": {
           "bdata": "CQoJCgkKCQkJCgkKCQoJCg==",
           "dtype": "i1"
          },
          "value": {
           "bdata": "FZcMwTra7D9YR5v3KS65P/2W0m8p/cY/PxvwswE/ez8U3z3x3RPfPwEVCVCRANU/jD+RcErz4j/ogN0eaxnaP14tbsL8rsY/qXRkz0BU6j8S83aGxLzNPyP/GCselas/Ntlkk0022T9cjfxjrHjUP8yATw6XAc8/zR9sPJo/6D8=",
           "dtype": "f8"
          }
         },
         "node": {
          "color": [
           "#aebf9c",
           "#aac19e",
           "#c2b58f",
           "#a8c3a0",
           "#a8c3a0",
           "#dda77f",
           "#b4bc98",
           "#c5b38e",
           "#d9a981",
           "#A8C3A0",
           "#E9A178"
          ],
          "line": {
           "color": "rgba(0,0,0,0.25)",
           "width": 0.5
          },
          "pad": 10,
          "thickness": 170,
          "x": [
           0.001,
           0.001,
           0.001,
           0.001,
           0.001,
           0.001,
           0.001,
           0.001,
           0.001,
           0.999,
           0.999
          ],
          "y": [
           0.93625,
           0.8218126385809312,
           0.7440626385809311,
           0.615839539007092,
           0.538089539007092,
           0.4097499999999999,
           0.28904124579124574,
           0.21129124579124575,
           0.06374999999999999,
           0.7060830807819818,
           0.19458308078198164
          ]
         },
         "type": "sankey"
        }
       ],
       "layout": {
        "annotations": [
         {
          "font": {
           "size": 12
          },
          "showarrow": false,
          "text": "Sparing Humans",
          "x": 0.001,
          "xanchor": "center",
          "y": 0.06374999999999997,
          "yanchor": "middle"
         },
         {
          "font": {
           "size": 12
          },
          "showarrow": false,
          "text": "Sparing Low Status",
          "x": 0.001,
          "xanchor": "center",
          "y": 0.17818736141906877,
          "yanchor": "middle"
         },
         {
          "font": {
           "size": 12
          },
          "showarrow": false,
          "text": "Sparing High Status",
          "x": 0.001,
          "xanchor": "center",
          "y": 0.25593736141906887,
          "yanchor": "middle"
         },
         {
          "font": {
           "size": 12
          },
          "showarrow": false,
          "text": "Sparing Women",
          "x": 0.001,
          "xanchor": "center",
          "y": 0.384160460992908,
          "yanchor": "middle"
         },
         {
          "font": {
           "size": 12
          },
          "showarrow": false,
          "text": "Sparing Men",
          "x": 0.001,
          "xanchor": "center",
          "y": 0.461910460992908,
          "yanchor": "middle"
         },
         {
          "font": {
           "size": 12
          },
          "showarrow": false,
          "text": "Sparing Young",
          "x": 0.001,
          "xanchor": "center",
          "y": 0.5902500000000002,
          "yanchor": "middle"
         },
         {
          "font": {
           "size": 12
          },
          "showarrow": false,
          "text": "Sparing Unfit",
          "x": 0.001,
          "xanchor": "center",
          "y": 0.7109587542087543,
          "yanchor": "middle"
         },
         {
          "font": {
           "size": 12
          },
          "showarrow": false,
          "text": "Sparing Fit",
          "x": 0.001,
          "xanchor": "center",
          "y": 0.7887087542087543,
          "yanchor": "middle"
         },
         {
          "font": {
           "size": 12
          },
          "showarrow": false,
          "text": "Sparing Groups",
          "x": 0.001,
          "xanchor": "center",
          "y": 0.93625,
          "yanchor": "middle"
         },
         {
          "font": {
           "size": 12
          },
          "showarrow": false,
          "text": "Deontology",
          "x": 0.999,
          "xanchor": "center",
          "y": 0.2939169192180182,
          "yanchor": "middle"
         },
         {
          "font": {
           "size": 12
          },
          "showarrow": false,
          "text": "Consequentialism",
          "x": 0.999,
          "xanchor": "center",
          "y": 0.8054169192180184,
          "yanchor": "middle"
         }
        ],
        "font": {
         "size": 12
        },
        "height": 500,
        "margin": {
         "b": 15,
         "l": 100,
         "r": 100,
         "t": 15
        },
        "template": {
         "data": {
          "bar": [
           {
            "error_x": {
             "color": "#2a3f5f"
            },
            "error_y": {
             "color": "#2a3f5f"
            },
            "marker": {
             "line": {
              "color": "#E5ECF6",
              "width": 0.5
             },
             "pattern": {
              "fillmode": "overlay",
              "size": 10,
              "solidity": 0.2
             }
            },
            "type": "bar"
           }
          ],
          "barpolar": [
           {
            "marker": {
             "line": {
              "color": "#E5ECF6",
              "width": 0.5
             },
             "pattern": {
              "fillmode": "overlay",
              "size": 10,
              "solidity": 0.2
             }
            },
            "type": "barpolar"
           }
          ],
          "carpet": [
           {
            "aaxis": {
             "endlinecolor": "#2a3f5f",
             "gridcolor": "white",
             "linecolor": "white",
             "minorgridcolor": "white",
             "startlinecolor": "#2a3f5f"
            },
            "baxis": {
             "endlinecolor": "#2a3f5f",
             "gridcolor": "white",
             "linecolor": "white",
             "minorgridcolor": "white",
             "startlinecolor": "#2a3f5f"
            },
            "type": "carpet"
           }
          ],
          "choropleth": [
           {
            "colorbar": {
             "outlinewidth": 0,
             "ticks": ""
            },
            "type": "choropleth"
           }
          ],
          "contour": [
           {
            "colorbar": {
             "outlinewidth": 0,
             "ticks": ""
            },
            "colorscale": [
             [
              0,
              "#0d0887"
             ],
             [
              0.1111111111111111,
              "#46039f"
             ],
             [
              0.2222222222222222,
              "#7201a8"
             ],
             [
              0.3333333333333333,
              "#9c179e"
             ],
             [
              0.4444444444444444,
              "#bd3786"
             ],
             [
              0.5555555555555556,
              "#d8576b"
             ],
             [
              0.6666666666666666,
              "#ed7953"
             ],
             [
              0.7777777777777778,
              "#fb9f3a"
             ],
             [
              0.8888888888888888,
              "#fdca26"
             ],
             [
              1,
              "#f0f921"
             ]
            ],
            "type": "contour"
           }
          ],
          "contourcarpet": [
           {
            "colorbar": {
             "outlinewidth": 0,
             "ticks": ""
            },
            "type": "contourcarpet"
           }
          ],
          "heatmap": [
           {
            "colorbar": {
             "outlinewidth": 0,
             "ticks": ""
            },
            "colorscale": [
             [
              0,
              "#0d0887"
             ],
             [
              0.1111111111111111,
              "#46039f"
             ],
             [
              0.2222222222222222,
              "#7201a8"
             ],
             [
              0.3333333333333333,
              "#9c179e"
             ],
             [
              0.4444444444444444,
              "#bd3786"
             ],
             [
              0.5555555555555556,
              "#d8576b"
             ],
             [
              0.6666666666666666,
              "#ed7953"
             ],
             [
              0.7777777777777778,
              "#fb9f3a"
             ],
             [
              0.8888888888888888,
              "#fdca26"
             ],
             [
              1,
              "#f0f921"
             ]
            ],
            "type": "heatmap"
           }
          ],
          "histogram": [
           {
            "marker": {
             "pattern": {
              "fillmode": "overlay",
              "size": 10,
              "solidity": 0.2
             }
            },
            "type": "histogram"
           }
          ],
          "histogram2d": [
           {
            "colorbar": {
             "outlinewidth": 0,
             "ticks": ""
            },
            "colorscale": [
             [
              0,
              "#0d0887"
             ],
             [
              0.1111111111111111,
              "#46039f"
             ],
             [
              0.2222222222222222,
              "#7201a8"
             ],
             [
              0.3333333333333333,
              "#9c179e"
             ],
             [
              0.4444444444444444,
              "#bd3786"
             ],
             [
              0.5555555555555556,
              "#d8576b"
             ],
             [
              0.6666666666666666,
              "#ed7953"
             ],
             [
              0.7777777777777778,
              "#fb9f3a"
             ],
             [
              0.8888888888888888,
              "#fdca26"
             ],
             [
              1,
              "#f0f921"
             ]
            ],
            "type": "histogram2d"
           }
          ],
          "histogram2dcontour": [
           {
            "colorbar": {
             "outlinewidth": 0,
             "ticks": ""
            },
            "colorscale": [
             [
              0,
              "#0d0887"
             ],
             [
              0.1111111111111111,
              "#46039f"
             ],
             [
              0.2222222222222222,
              "#7201a8"
             ],
             [
              0.3333333333333333,
              "#9c179e"
             ],
             [
              0.4444444444444444,
              "#bd3786"
             ],
             [
              0.5555555555555556,
              "#d8576b"
             ],
             [
              0.6666666666666666,
              "#ed7953"
             ],
             [
              0.7777777777777778,
              "#fb9f3a"
             ],
             [
              0.8888888888888888,
              "#fdca26"
             ],
             [
              1,
              "#f0f921"
             ]
            ],
            "type": "histogram2dcontour"
           }
          ],
          "mesh3d": [
           {
            "colorbar": {
             "outlinewidth": 0,
             "ticks": ""
            },
            "type": "mesh3d"
           }
          ],
          "parcoords": [
           {
            "line": {
             "colorbar": {
              "outlinewidth": 0,
              "ticks": ""
             }
            },
            "type": "parcoords"
           }
          ],
          "pie": [
           {
            "automargin": true,
            "type": "pie"
           }
          ],
          "scatter": [
           {
            "fillpattern": {
             "fillmode": "overlay",
             "size": 10,
             "solidity": 0.2
            },
            "type": "scatter"
           }
          ],
          "scatter3d": [
           {
            "line": {
             "colorbar": {
              "outlinewidth": 0,
              "ticks": ""
             }
            },
            "marker": {
             "colorbar": {
              "outlinewidth": 0,
              "ticks": ""
             }
            },
            "type": "scatter3d"
           }
          ],
          "scattercarpet": [
           {
            "marker": {
             "colorbar": {
              "outlinewidth": 0,
              "ticks": ""
             }
            },
            "type": "scattercarpet"
           }
          ],
          "scattergeo": [
           {
            "marker": {
             "colorbar": {
              "outlinewidth": 0,
              "ticks": ""
             }
            },
            "type": "scattergeo"
           }
          ],
          "scattergl": [
           {
            "marker": {
             "colorbar": {
              "outlinewidth": 0,
              "ticks": ""
             }
            },
            "type": "scattergl"
           }
          ],
          "scattermap": [
           {
            "marker": {
             "colorbar": {
              "outlinewidth": 0,
              "ticks": ""
             }
            },
            "type": "scattermap"
           }
          ],
          "scattermapbox": [
           {
            "marker": {
             "colorbar": {
              "outlinewidth": 0,
              "ticks": ""
             }
            },
            "type": "scattermapbox"
           }
          ],
          "scatterpolar": [
           {
            "marker": {
             "colorbar": {
              "outlinewidth": 0,
              "ticks": ""
             }
            },
            "type": "scatterpolar"
           }
          ],
          "scatterpolargl": [
           {
            "marker": {
             "colorbar": {
              "outlinewidth": 0,
              "ticks": ""
             }
            },
            "type": "scatterpolargl"
           }
          ],
          "scatterternary": [
           {
            "marker": {
             "colorbar": {
              "outlinewidth": 0,
              "ticks": ""
             }
            },
            "type": "scatterternary"
           }
          ],
          "surface": [
           {
            "colorbar": {
             "outlinewidth": 0,
             "ticks": ""
            },
            "colorscale": [
             [
              0,
              "#0d0887"
             ],
             [
              0.1111111111111111,
              "#46039f"
             ],
             [
              0.2222222222222222,
              "#7201a8"
             ],
             [
              0.3333333333333333,
              "#9c179e"
             ],
             [
              0.4444444444444444,
              "#bd3786"
             ],
             [
              0.5555555555555556,
              "#d8576b"
             ],
             [
              0.6666666666666666,
              "#ed7953"
             ],
             [
              0.7777777777777778,
              "#fb9f3a"
             ],
             [
              0.8888888888888888,
              "#fdca26"
             ],
             [
              1,
              "#f0f921"
             ]
            ],
            "type": "surface"
           }
          ],
          "table": [
           {
            "cells": {
             "fill": {
              "color": "#EBF0F8"
             },
             "line": {
              "color": "white"
             }
            },
            "header": {
             "fill": {
              "color": "#C8D4E3"
             },
             "line": {
              "color": "white"
             }
            },
            "type": "table"
           }
          ]
         },
         "layout": {
          "annotationdefaults": {
           "arrowcolor": "#2a3f5f",
           "arrowhead": 0,
           "arrowwidth": 1
          },
          "autotypenumbers": "strict",
          "coloraxis": {
           "colorbar": {
            "outlinewidth": 0,
            "ticks": ""
           }
          },
          "colorscale": {
           "diverging": [
            [
             0,
             "#8e0152"
            ],
            [
             0.1,
             "#c51b7d"
            ],
            [
             0.2,
             "#de77ae"
            ],
            [
             0.3,
             "#f1b6da"
            ],
            [
             0.4,
             "#fde0ef"
            ],
            [
             0.5,
             "#f7f7f7"
            ],
            [
             0.6,
             "#e6f5d0"
            ],
            [
             0.7,
             "#b8e186"
            ],
            [
             0.8,
             "#7fbc41"
            ],
            [
             0.9,
             "#4d9221"
            ],
            [
             1,
             "#276419"
            ]
           ],
           "sequential": [
            [
             0,
             "#0d0887"
            ],
            [
             0.1111111111111111,
             "#46039f"
            ],
            [
             0.2222222222222222,
             "#7201a8"
            ],
            [
             0.3333333333333333,
             "#9c179e"
            ],
            [
             0.4444444444444444,
             "#bd3786"
            ],
            [
             0.5555555555555556,
             "#d8576b"
            ],
            [
             0.6666666666666666,
             "#ed7953"
            ],
            [
             0.7777777777777778,
             "#fb9f3a"
            ],
            [
             0.8888888888888888,
             "#fdca26"
            ],
            [
             1,
             "#f0f921"
            ]
           ],
           "sequentialminus": [
            [
             0,
             "#0d0887"
            ],
            [
             0.1111111111111111,
             "#46039f"
            ],
            [
             0.2222222222222222,
             "#7201a8"
            ],
            [
             0.3333333333333333,
             "#9c179e"
            ],
            [
             0.4444444444444444,
             "#bd3786"
            ],
            [
             0.5555555555555556,
             "#d8576b"
            ],
            [
             0.6666666666666666,
             "#ed7953"
            ],
            [
             0.7777777777777778,
             "#fb9f3a"
            ],
            [
             0.8888888888888888,
             "#fdca26"
            ],
            [
             1,
             "#f0f921"
            ]
           ]
          },
          "colorway": [
           "#636efa",
           "#EF553B",
           "#00cc96",
           "#ab63fa",
           "#FFA15A",
           "#19d3f3",
           "#FF6692",
           "#B6E880",
           "#FF97FF",
           "#FECB52"
          ],
          "font": {
           "color": "#2a3f5f"
          },
          "geo": {
           "bgcolor": "white",
           "lakecolor": "white",
           "landcolor": "#E5ECF6",
           "showlakes": true,
           "showland": true,
           "subunitcolor": "white"
          },
          "hoverlabel": {
           "align": "left"
          },
          "hovermode": "closest",
          "mapbox": {
           "style": "light"
          },
          "paper_bgcolor": "white",
          "plot_bgcolor": "#E5ECF6",
          "polar": {
           "angularaxis": {
            "gridcolor": "white",
            "linecolor": "white",
            "ticks": ""
           },
           "bgcolor": "#E5ECF6",
           "radialaxis": {
            "gridcolor": "white",
            "linecolor": "white",
            "ticks": ""
           }
          },
          "scene": {
           "xaxis": {
            "backgroundcolor": "#E5ECF6",
            "gridcolor": "white",
            "gridwidth": 2,
            "linecolor": "white",
            "showbackground": true,
            "ticks": "",
            "zerolinecolor": "white"
           },
           "yaxis": {
            "backgroundcolor": "#E5ECF6",
            "gridcolor": "white",
            "gridwidth": 2,
            "linecolor": "white",
            "showbackground": true,
            "ticks": "",
            "zerolinecolor": "white"
           },
           "zaxis": {
            "backgroundcolor": "#E5ECF6",
            "gridcolor": "white",
            "gridwidth": 2,
            "linecolor": "white",
            "showbackground": true,
            "ticks": "",
            "zerolinecolor": "white"
           }
          },
          "shapedefaults": {
           "line": {
            "color": "#2a3f5f"
           }
          },
          "ternary": {
           "aaxis": {
            "gridcolor": "white",
            "linecolor": "white",
            "ticks": ""
           },
           "baxis": {
            "gridcolor": "white",
            "linecolor": "white",
            "ticks": ""
           },
           "bgcolor": "#E5ECF6",
           "caxis": {
            "gridcolor": "white",
            "linecolor": "white",
            "ticks": ""
           }
          },
          "title": {
           "x": 0.05
          },
          "xaxis": {
           "automargin": true,
           "gridcolor": "white",
           "linecolor": "white",
           "ticks": "",
           "title": {
            "standoff": 15
           },
           "zerolinecolor": "white",
           "zerolinewidth": 2
          },
          "yaxis": {
           "automargin": true,
           "gridcolor": "white",
           "linecolor": "white",
           "ticks": "",
           "title": {
            "standoff": 15
           },
           "zerolinecolor": "white",
           "zerolinewidth": 2
          }
         }
        },
        "width": 900
       }
      }
     },
     "metadata": {},
     "output_type": "display_data"
    }
   ],
   "source": [
    "cat_df = get_catdf(model_dfs['gpt-4.1-2025-04-14'])\n",
    "fig = make_sankey(cat_df)\n",
    "# fig.write_image(\"sankey_v2.svg\")     # needs `pip install kaleido`\n",
    "fig"
   ]
  },
  {
   "cell_type": "code",
   "execution_count": null,
   "id": "ef729a3c",
   "metadata": {},
   "outputs": [],
   "source": []
  },
  {
   "cell_type": "code",
   "execution_count": 903,
   "id": "1a14b2e9",
   "metadata": {},
   "outputs": [
    {
     "data": {
      "application/vnd.plotly.v1+json": {
       "config": {
        "plotlyServerURL": "https://plot.ly"
       },
       "data": [
        {
         "arrangement": "fixed",
         "link": {
          "color": [
           "#74A0E0",
           "#E07474",
           "#74A0E0",
           "#E07474",
           "#74A0E0",
           "#E07474",
           "#74A0E0",
           "#E07474",
           "#74A0E0",
           "#E07474",
           "#74A0E0",
           "#E07474",
           "#74A0E0",
           "#E07474",
           "#74A0E0",
           "#E07474",
           "#74A0E0",
           "#E07474"
          ],
          "source": {
           "bdata": "AAABAQICAwMEBAUFBgYHBwgI",
           "dtype": "i1"
          },
          "target": {
           "bdata": "CQoJCgkKCQoJCgkKCQoJCgkK",
           "dtype": "i1"
          },
          "value": {
           "bdata": "6aKLLrro4j8vuuiiiy7aP3TRRRdddNE/OJUJ2yA4xT8kUgz1lyPSP8wRKYb6y9E/PzTWh8b64D+IxvrQWB+6P5IkSZIkSdI/OQUvp+DltD/GGGOMMcbIPzLGGGOMMeY/hBBCCCGEsD/GGGOMMcaoP23UdzbqO7s/VxCTK4jJtT9S39mo72zUP31no76zUd8/",
           "dtype": "f8"
          }
         },
         "node": {
          "color": [
           "#a08eb3",
           "#9c8fb7",
           "#a98aaa",
           "#8598ce",
           "#8c96c8",
           "#c87d8b",
           "#a28db1",
           "#a48cb0",
           "#b5859e",
           "#74A0E0",
           "#E07474"
          ],
          "line": {
           "color": "rgba(0,0,0,0.25)",
           "width": 0.5
          },
          "pad": 15,
          "thickness": 170,
          "x": [
           0.001,
           0.001,
           0.001,
           0.001,
           0.001,
           0.001,
           0.001,
           0.001,
           0.001,
           0.999,
           0.999
          ],
          "y": [
           0.9272,
           0.7639155080213905,
           0.6821155080213905,
           0.5363755102040817,
           0.45457551020408166,
           0.30450645161290324,
           0.22270645161290323,
           0.14085106382978724,
           0.059051063829787226,
           0.7414486723035131,
           0.22994867230351304
          ]
         },
         "type": "sankey"
        }
       ],
       "layout": {
        "annotations": [
         {
          "font": {
           "size": 12
          },
          "showarrow": false,
          "text": "Sparing Humans",
          "x": 0.001,
          "xanchor": "center",
          "y": 0.07279999999999998,
          "yanchor": "middle"
         },
         {
          "font": {
           "size": 12
          },
          "showarrow": false,
          "text": "Sparing Low Status",
          "x": 0.001,
          "xanchor": "center",
          "y": 0.23608449197860948,
          "yanchor": "middle"
         },
         {
          "font": {
           "size": 12
          },
          "showarrow": false,
          "text": "Sparing High Status",
          "x": 0.001,
          "xanchor": "center",
          "y": 0.31788449197860946,
          "yanchor": "middle"
         },
         {
          "font": {
           "size": 12
          },
          "showarrow": false,
          "text": "Sparing Women",
          "x": 0.001,
          "xanchor": "center",
          "y": 0.4636244897959183,
          "yanchor": "middle"
         },
         {
          "font": {
           "size": 12
          },
          "showarrow": false,
          "text": "Sparing Men",
          "x": 0.001,
          "xanchor": "center",
          "y": 0.5454244897959184,
          "yanchor": "middle"
         },
         {
          "font": {
           "size": 12
          },
          "showarrow": false,
          "text": "Sparing Young",
          "x": 0.001,
          "xanchor": "center",
          "y": 0.6954935483870968,
          "yanchor": "middle"
         },
         {
          "font": {
           "size": 12
          },
          "showarrow": false,
          "text": "Sparing Old",
          "x": 0.001,
          "xanchor": "center",
          "y": 0.7772935483870967,
          "yanchor": "middle"
         },
         {
          "font": {
           "size": 12
          },
          "showarrow": false,
          "text": "Sparing Unfit",
          "x": 0.001,
          "xanchor": "center",
          "y": 0.8591489361702127,
          "yanchor": "middle"
         },
         {
          "font": {
           "size": 12
          },
          "showarrow": false,
          "text": "Sparing Fit",
          "x": 0.001,
          "xanchor": "center",
          "y": 0.9409489361702128,
          "yanchor": "middle"
         },
         {
          "font": {
           "size": 12
          },
          "showarrow": false,
          "text": "Deontology",
          "x": 0.999,
          "xanchor": "center",
          "y": 0.2585513276964869,
          "yanchor": "middle"
         },
         {
          "font": {
           "size": 12
          },
          "showarrow": false,
          "text": "Consequentialism",
          "x": 0.999,
          "xanchor": "center",
          "y": 0.770051327696487,
          "yanchor": "middle"
         },
         {
          "font": {
           "color": "rgba(0,0,0,0.7)",
           "size": 14
          },
          "showarrow": false,
          "text": "<b>Species</b>",
          "x": -0.215,
          "xanchor": "center",
          "y": 0.08000000000000007,
          "yanchor": "middle"
         },
         {
          "font": {
           "color": "rgba(0,0,0,0.7)",
           "size": 14
          },
          "showarrow": false,
          "text": "<b>SocialValue</b>",
          "x": -0.215,
          "xanchor": "center",
          "y": 0.29000000000000004,
          "yanchor": "middle"
         },
         {
          "font": {
           "color": "rgba(0,0,0,0.7)",
           "size": 14
          },
          "showarrow": false,
          "text": "<b>Gender</b>",
          "x": -0.215,
          "xanchor": "center",
          "y": 0.5,
          "yanchor": "middle"
         },
         {
          "font": {
           "color": "rgba(0,0,0,0.7)",
           "size": 14
          },
          "showarrow": false,
          "text": "<b>Age</b>",
          "x": -0.215,
          "xanchor": "center",
          "y": 0.71,
          "yanchor": "middle"
         },
         {
          "font": {
           "color": "rgba(0,0,0,0.7)",
           "size": 14
          },
          "showarrow": false,
          "text": "<b>Fitness</b>",
          "x": -0.215,
          "xanchor": "center",
          "y": 0.9199999999999999,
          "yanchor": "middle"
         }
        ],
        "font": {
         "size": 12
        },
        "height": 500,
        "margin": {
         "b": 15,
         "l": 185,
         "r": 100,
         "t": 15
        },
        "template": {
         "data": {
          "bar": [
           {
            "error_x": {
             "color": "#2a3f5f"
            },
            "error_y": {
             "color": "#2a3f5f"
            },
            "marker": {
             "line": {
              "color": "#E5ECF6",
              "width": 0.5
             },
             "pattern": {
              "fillmode": "overlay",
              "size": 10,
              "solidity": 0.2
             }
            },
            "type": "bar"
           }
          ],
          "barpolar": [
           {
            "marker": {
             "line": {
              "color": "#E5ECF6",
              "width": 0.5
             },
             "pattern": {
              "fillmode": "overlay",
              "size": 10,
              "solidity": 0.2
             }
            },
            "type": "barpolar"
           }
          ],
          "carpet": [
           {
            "aaxis": {
             "endlinecolor": "#2a3f5f",
             "gridcolor": "white",
             "linecolor": "white",
             "minorgridcolor": "white",
             "startlinecolor": "#2a3f5f"
            },
            "baxis": {
             "endlinecolor": "#2a3f5f",
             "gridcolor": "white",
             "linecolor": "white",
             "minorgridcolor": "white",
             "startlinecolor": "#2a3f5f"
            },
            "type": "carpet"
           }
          ],
          "choropleth": [
           {
            "colorbar": {
             "outlinewidth": 0,
             "ticks": ""
            },
            "type": "choropleth"
           }
          ],
          "contour": [
           {
            "colorbar": {
             "outlinewidth": 0,
             "ticks": ""
            },
            "colorscale": [
             [
              0,
              "#0d0887"
             ],
             [
              0.1111111111111111,
              "#46039f"
             ],
             [
              0.2222222222222222,
              "#7201a8"
             ],
             [
              0.3333333333333333,
              "#9c179e"
             ],
             [
              0.4444444444444444,
              "#bd3786"
             ],
             [
              0.5555555555555556,
              "#d8576b"
             ],
             [
              0.6666666666666666,
              "#ed7953"
             ],
             [
              0.7777777777777778,
              "#fb9f3a"
             ],
             [
              0.8888888888888888,
              "#fdca26"
             ],
             [
              1,
              "#f0f921"
             ]
            ],
            "type": "contour"
           }
          ],
          "contourcarpet": [
           {
            "colorbar": {
             "outlinewidth": 0,
             "ticks": ""
            },
            "type": "contourcarpet"
           }
          ],
          "heatmap": [
           {
            "colorbar": {
             "outlinewidth": 0,
             "ticks": ""
            },
            "colorscale": [
             [
              0,
              "#0d0887"
             ],
             [
              0.1111111111111111,
              "#46039f"
             ],
             [
              0.2222222222222222,
              "#7201a8"
             ],
             [
              0.3333333333333333,
              "#9c179e"
             ],
             [
              0.4444444444444444,
              "#bd3786"
             ],
             [
              0.5555555555555556,
              "#d8576b"
             ],
             [
              0.6666666666666666,
              "#ed7953"
             ],
             [
              0.7777777777777778,
              "#fb9f3a"
             ],
             [
              0.8888888888888888,
              "#fdca26"
             ],
             [
              1,
              "#f0f921"
             ]
            ],
            "type": "heatmap"
           }
          ],
          "histogram": [
           {
            "marker": {
             "pattern": {
              "fillmode": "overlay",
              "size": 10,
              "solidity": 0.2
             }
            },
            "type": "histogram"
           }
          ],
          "histogram2d": [
           {
            "colorbar": {
             "outlinewidth": 0,
             "ticks": ""
            },
            "colorscale": [
             [
              0,
              "#0d0887"
             ],
             [
              0.1111111111111111,
              "#46039f"
             ],
             [
              0.2222222222222222,
              "#7201a8"
             ],
             [
              0.3333333333333333,
              "#9c179e"
             ],
             [
              0.4444444444444444,
              "#bd3786"
             ],
             [
              0.5555555555555556,
              "#d8576b"
             ],
             [
              0.6666666666666666,
              "#ed7953"
             ],
             [
              0.7777777777777778,
              "#fb9f3a"
             ],
             [
              0.8888888888888888,
              "#fdca26"
             ],
             [
              1,
              "#f0f921"
             ]
            ],
            "type": "histogram2d"
           }
          ],
          "histogram2dcontour": [
           {
            "colorbar": {
             "outlinewidth": 0,
             "ticks": ""
            },
            "colorscale": [
             [
              0,
              "#0d0887"
             ],
             [
              0.1111111111111111,
              "#46039f"
             ],
             [
              0.2222222222222222,
              "#7201a8"
             ],
             [
              0.3333333333333333,
              "#9c179e"
             ],
             [
              0.4444444444444444,
              "#bd3786"
             ],
             [
              0.5555555555555556,
              "#d8576b"
             ],
             [
              0.6666666666666666,
              "#ed7953"
             ],
             [
              0.7777777777777778,
              "#fb9f3a"
             ],
             [
              0.8888888888888888,
              "#fdca26"
             ],
             [
              1,
              "#f0f921"
             ]
            ],
            "type": "histogram2dcontour"
           }
          ],
          "mesh3d": [
           {
            "colorbar": {
             "outlinewidth": 0,
             "ticks": ""
            },
            "type": "mesh3d"
           }
          ],
          "parcoords": [
           {
            "line": {
             "colorbar": {
              "outlinewidth": 0,
              "ticks": ""
             }
            },
            "type": "parcoords"
           }
          ],
          "pie": [
           {
            "automargin": true,
            "type": "pie"
           }
          ],
          "scatter": [
           {
            "fillpattern": {
             "fillmode": "overlay",
             "size": 10,
             "solidity": 0.2
            },
            "type": "scatter"
           }
          ],
          "scatter3d": [
           {
            "line": {
             "colorbar": {
              "outlinewidth": 0,
              "ticks": ""
             }
            },
            "marker": {
             "colorbar": {
              "outlinewidth": 0,
              "ticks": ""
             }
            },
            "type": "scatter3d"
           }
          ],
          "scattercarpet": [
           {
            "marker": {
             "colorbar": {
              "outlinewidth": 0,
              "ticks": ""
             }
            },
            "type": "scattercarpet"
           }
          ],
          "scattergeo": [
           {
            "marker": {
             "colorbar": {
              "outlinewidth": 0,
              "ticks": ""
             }
            },
            "type": "scattergeo"
           }
          ],
          "scattergl": [
           {
            "marker": {
             "colorbar": {
              "outlinewidth": 0,
              "ticks": ""
             }
            },
            "type": "scattergl"
           }
          ],
          "scattermap": [
           {
            "marker": {
             "colorbar": {
              "outlinewidth": 0,
              "ticks": ""
             }
            },
            "type": "scattermap"
           }
          ],
          "scattermapbox": [
           {
            "marker": {
             "colorbar": {
              "outlinewidth": 0,
              "ticks": ""
             }
            },
            "type": "scattermapbox"
           }
          ],
          "scatterpolar": [
           {
            "marker": {
             "colorbar": {
              "outlinewidth": 0,
              "ticks": ""
             }
            },
            "type": "scatterpolar"
           }
          ],
          "scatterpolargl": [
           {
            "marker": {
             "colorbar": {
              "outlinewidth": 0,
              "ticks": ""
             }
            },
            "type": "scatterpolargl"
           }
          ],
          "scatterternary": [
           {
            "marker": {
             "colorbar": {
              "outlinewidth": 0,
              "ticks": ""
             }
            },
            "type": "scatterternary"
           }
          ],
          "surface": [
           {
            "colorbar": {
             "outlinewidth": 0,
             "ticks": ""
            },
            "colorscale": [
             [
              0,
              "#0d0887"
             ],
             [
              0.1111111111111111,
              "#46039f"
             ],
             [
              0.2222222222222222,
              "#7201a8"
             ],
             [
              0.3333333333333333,
              "#9c179e"
             ],
             [
              0.4444444444444444,
              "#bd3786"
             ],
             [
              0.5555555555555556,
              "#d8576b"
             ],
             [
              0.6666666666666666,
              "#ed7953"
             ],
             [
              0.7777777777777778,
              "#fb9f3a"
             ],
             [
              0.8888888888888888,
              "#fdca26"
             ],
             [
              1,
              "#f0f921"
             ]
            ],
            "type": "surface"
           }
          ],
          "table": [
           {
            "cells": {
             "fill": {
              "color": "#EBF0F8"
             },
             "line": {
              "color": "white"
             }
            },
            "header": {
             "fill": {
              "color": "#C8D4E3"
             },
             "line": {
              "color": "white"
             }
            },
            "type": "table"
           }
          ]
         },
         "layout": {
          "annotationdefaults": {
           "arrowcolor": "#2a3f5f",
           "arrowhead": 0,
           "arrowwidth": 1
          },
          "autotypenumbers": "strict",
          "coloraxis": {
           "colorbar": {
            "outlinewidth": 0,
            "ticks": ""
           }
          },
          "colorscale": {
           "diverging": [
            [
             0,
             "#8e0152"
            ],
            [
             0.1,
             "#c51b7d"
            ],
            [
             0.2,
             "#de77ae"
            ],
            [
             0.3,
             "#f1b6da"
            ],
            [
             0.4,
             "#fde0ef"
            ],
            [
             0.5,
             "#f7f7f7"
            ],
            [
             0.6,
             "#e6f5d0"
            ],
            [
             0.7,
             "#b8e186"
            ],
            [
             0.8,
             "#7fbc41"
            ],
            [
             0.9,
             "#4d9221"
            ],
            [
             1,
             "#276419"
            ]
           ],
           "sequential": [
            [
             0,
             "#0d0887"
            ],
            [
             0.1111111111111111,
             "#46039f"
            ],
            [
             0.2222222222222222,
             "#7201a8"
            ],
            [
             0.3333333333333333,
             "#9c179e"
            ],
            [
             0.4444444444444444,
             "#bd3786"
            ],
            [
             0.5555555555555556,
             "#d8576b"
            ],
            [
             0.6666666666666666,
             "#ed7953"
            ],
            [
             0.7777777777777778,
             "#fb9f3a"
            ],
            [
             0.8888888888888888,
             "#fdca26"
            ],
            [
             1,
             "#f0f921"
            ]
           ],
           "sequentialminus": [
            [
             0,
             "#0d0887"
            ],
            [
             0.1111111111111111,
             "#46039f"
            ],
            [
             0.2222222222222222,
             "#7201a8"
            ],
            [
             0.3333333333333333,
             "#9c179e"
            ],
            [
             0.4444444444444444,
             "#bd3786"
            ],
            [
             0.5555555555555556,
             "#d8576b"
            ],
            [
             0.6666666666666666,
             "#ed7953"
            ],
            [
             0.7777777777777778,
             "#fb9f3a"
            ],
            [
             0.8888888888888888,
             "#fdca26"
            ],
            [
             1,
             "#f0f921"
            ]
           ]
          },
          "colorway": [
           "#636efa",
           "#EF553B",
           "#00cc96",
           "#ab63fa",
           "#FFA15A",
           "#19d3f3",
           "#FF6692",
           "#B6E880",
           "#FF97FF",
           "#FECB52"
          ],
          "font": {
           "color": "#2a3f5f"
          },
          "geo": {
           "bgcolor": "white",
           "lakecolor": "white",
           "landcolor": "#E5ECF6",
           "showlakes": true,
           "showland": true,
           "subunitcolor": "white"
          },
          "hoverlabel": {
           "align": "left"
          },
          "hovermode": "closest",
          "mapbox": {
           "style": "light"
          },
          "paper_bgcolor": "white",
          "plot_bgcolor": "#E5ECF6",
          "polar": {
           "angularaxis": {
            "gridcolor": "white",
            "linecolor": "white",
            "ticks": ""
           },
           "bgcolor": "#E5ECF6",
           "radialaxis": {
            "gridcolor": "white",
            "linecolor": "white",
            "ticks": ""
           }
          },
          "scene": {
           "xaxis": {
            "backgroundcolor": "#E5ECF6",
            "gridcolor": "white",
            "gridwidth": 2,
            "linecolor": "white",
            "showbackground": true,
            "ticks": "",
            "zerolinecolor": "white"
           },
           "yaxis": {
            "backgroundcolor": "#E5ECF6",
            "gridcolor": "white",
            "gridwidth": 2,
            "linecolor": "white",
            "showbackground": true,
            "ticks": "",
            "zerolinecolor": "white"
           },
           "zaxis": {
            "backgroundcolor": "#E5ECF6",
            "gridcolor": "white",
            "gridwidth": 2,
            "linecolor": "white",
            "showbackground": true,
            "ticks": "",
            "zerolinecolor": "white"
           }
          },
          "shapedefaults": {
           "line": {
            "color": "#2a3f5f"
           }
          },
          "ternary": {
           "aaxis": {
            "gridcolor": "white",
            "linecolor": "white",
            "ticks": ""
           },
           "baxis": {
            "gridcolor": "white",
            "linecolor": "white",
            "ticks": ""
           },
           "bgcolor": "#E5ECF6",
           "caxis": {
            "gridcolor": "white",
            "linecolor": "white",
            "ticks": ""
           }
          },
          "title": {
           "x": 0.05
          },
          "xaxis": {
           "automargin": true,
           "gridcolor": "white",
           "linecolor": "white",
           "ticks": "",
           "title": {
            "standoff": 15
           },
           "zerolinecolor": "white",
           "zerolinewidth": 2
          },
          "yaxis": {
           "automargin": true,
           "gridcolor": "white",
           "linecolor": "white",
           "ticks": "",
           "title": {
            "standoff": 15
           },
           "zerolinecolor": "white",
           "zerolinewidth": 2
          }
         }
        },
        "width": 900
       }
      }
     },
     "metadata": {},
     "output_type": "display_data"
    }
   ],
   "source": [
    "cat_df = get_catdf(model_dfs['gpt-4o-mini-2024-07-18'], num1num2='==')\n",
    "fig = make_sankey(cat_df)\n",
    "# fig.write_image(\"sankey_v2.svg\")     # needs `pip install kaleido`\n",
    "fig"
   ]
  },
  {
   "cell_type": "code",
   "execution_count": 905,
   "id": "2132d81b",
   "metadata": {},
   "outputs": [
    {
     "data": {
      "application/vnd.plotly.v1+json": {
       "config": {
        "plotlyServerURL": "https://plot.ly"
       },
       "data": [
        {
         "arrangement": "fixed",
         "link": {
          "color": [
           "#74A0E0",
           "#74A0E0",
           "#E07474",
           "#74A0E0",
           "#E07474",
           "#74A0E0",
           "#74A0E0",
           "#74A0E0",
           "#E07474",
           "#74A0E0",
           "#74A0E0",
           "#E07474",
           "#74A0E0"
          ],
          "source": {
           "bdata": "AAEBAgIDBAUFBgcHCA==",
           "dtype": "i1"
          },
          "target": {
           "bdata": "CQkKCQoJCQkKCQkKCQ==",
           "dtype": "i1"
          },
          "value": {
           "bdata": "AAAAAAAA8D+eO3fu3LnTP+DAgQMHDpw/hQoVKlSo4D+TJk2aNGnCP1VVVVVVVd0/VVVVVVVV4T8AAAAAAADkP5qZmZmZmdE/mpmZmZmZuT8AAAAAAADgPxEREREREaE/3t3d3d3d3T8=",
           "dtype": "f8"
          }
         },
         "node": {
          "color": [
           "#74a0e0",
           "#7c9cd7",
           "#8b96c8",
           "#74a0e0",
           "#74a0e0",
           "#9592bf",
           "#74a0e0",
           "#7a9dd9",
           "#74a0e0",
           "#74A0E0",
           "#E07474"
          ],
          "line": {
           "color": "rgba(0,0,0,0.25)",
           "width": 0.5
          },
          "pad": 15,
          "thickness": 170,
          "x": [
           0.001,
           0.001,
           0.001,
           0.001,
           0.001,
           0.001,
           0.001,
           0.001,
           0.001,
           0.999,
           0.999
          ],
          "y": [
           0.9272,
           0.7713027397260275,
           0.6895027397260274,
           0.5488916666666666,
           0.46709166666666657,
           0.3035799999999999,
           0.2217799999999999,
           0.11630666666666657,
           0.03450666666666658,
           0.559161792237443,
           0.047661792237442956
          ]
         },
         "type": "sankey"
        }
       ],
       "layout": {
        "annotations": [
         {
          "font": {
           "size": 12
          },
          "showarrow": false,
          "text": "Sparing Humans",
          "x": 0.001,
          "xanchor": "center",
          "y": 0.07279999999999998,
          "yanchor": "middle"
         },
         {
          "font": {
           "size": 12
          },
          "showarrow": false,
          "text": "Sparing Low Status",
          "x": 0.001,
          "xanchor": "center",
          "y": 0.22869726027397252,
          "yanchor": "middle"
         },
         {
          "font": {
           "size": 12
          },
          "showarrow": false,
          "text": "Sparing High Status",
          "x": 0.001,
          "xanchor": "center",
          "y": 0.3104972602739726,
          "yanchor": "middle"
         },
         {
          "font": {
           "size": 12
          },
          "showarrow": false,
          "text": "Sparing Women",
          "x": 0.001,
          "xanchor": "center",
          "y": 0.45110833333333344,
          "yanchor": "middle"
         },
         {
          "font": {
           "size": 12
          },
          "showarrow": false,
          "text": "Sparing Men",
          "x": 0.001,
          "xanchor": "center",
          "y": 0.5329083333333334,
          "yanchor": "middle"
         },
         {
          "font": {
           "size": 12
          },
          "showarrow": false,
          "text": "Sparing Young",
          "x": 0.001,
          "xanchor": "center",
          "y": 0.69642,
          "yanchor": "middle"
         },
         {
          "font": {
           "size": 12
          },
          "showarrow": false,
          "text": "Sparing Old",
          "x": 0.001,
          "xanchor": "center",
          "y": 0.7782200000000001,
          "yanchor": "middle"
         },
         {
          "font": {
           "size": 12
          },
          "showarrow": false,
          "text": "Sparing Unfit",
          "x": 0.001,
          "xanchor": "center",
          "y": 0.8836933333333334,
          "yanchor": "middle"
         },
         {
          "font": {
           "size": 12
          },
          "showarrow": false,
          "text": "Sparing Fit",
          "x": 0.001,
          "xanchor": "center",
          "y": 0.9654933333333334,
          "yanchor": "middle"
         },
         {
          "font": {
           "size": 12
          },
          "showarrow": false,
          "text": "Deontology",
          "x": 0.999,
          "xanchor": "center",
          "y": 0.440838207762557,
          "yanchor": "middle"
         },
         {
          "font": {
           "size": 12
          },
          "showarrow": false,
          "text": "Consequentialism",
          "x": 0.999,
          "xanchor": "center",
          "y": 0.9523382077625571,
          "yanchor": "middle"
         },
         {
          "font": {
           "color": "rgba(0,0,0,0.7)",
           "size": 14
          },
          "showarrow": false,
          "text": "<b>Species</b>",
          "x": -0.215,
          "xanchor": "center",
          "y": 0.08000000000000007,
          "yanchor": "middle"
         },
         {
          "font": {
           "color": "rgba(0,0,0,0.7)",
           "size": 14
          },
          "showarrow": false,
          "text": "<b>SocialValue</b>",
          "x": -0.215,
          "xanchor": "center",
          "y": 0.29000000000000004,
          "yanchor": "middle"
         },
         {
          "font": {
           "color": "rgba(0,0,0,0.7)",
           "size": 14
          },
          "showarrow": false,
          "text": "<b>Gender</b>",
          "x": -0.215,
          "xanchor": "center",
          "y": 0.5,
          "yanchor": "middle"
         },
         {
          "font": {
           "color": "rgba(0,0,0,0.7)",
           "size": 14
          },
          "showarrow": false,
          "text": "<b>Age</b>",
          "x": -0.215,
          "xanchor": "center",
          "y": 0.71,
          "yanchor": "middle"
         },
         {
          "font": {
           "color": "rgba(0,0,0,0.7)",
           "size": 14
          },
          "showarrow": false,
          "text": "<b>Fitness</b>",
          "x": -0.215,
          "xanchor": "center",
          "y": 0.9199999999999999,
          "yanchor": "middle"
         }
        ],
        "font": {
         "size": 12
        },
        "height": 500,
        "margin": {
         "b": 15,
         "l": 185,
         "r": 100,
         "t": 15
        },
        "template": {
         "data": {
          "bar": [
           {
            "error_x": {
             "color": "#2a3f5f"
            },
            "error_y": {
             "color": "#2a3f5f"
            },
            "marker": {
             "line": {
              "color": "#E5ECF6",
              "width": 0.5
             },
             "pattern": {
              "fillmode": "overlay",
              "size": 10,
              "solidity": 0.2
             }
            },
            "type": "bar"
           }
          ],
          "barpolar": [
           {
            "marker": {
             "line": {
              "color": "#E5ECF6",
              "width": 0.5
             },
             "pattern": {
              "fillmode": "overlay",
              "size": 10,
              "solidity": 0.2
             }
            },
            "type": "barpolar"
           }
          ],
          "carpet": [
           {
            "aaxis": {
             "endlinecolor": "#2a3f5f",
             "gridcolor": "white",
             "linecolor": "white",
             "minorgridcolor": "white",
             "startlinecolor": "#2a3f5f"
            },
            "baxis": {
             "endlinecolor": "#2a3f5f",
             "gridcolor": "white",
             "linecolor": "white",
             "minorgridcolor": "white",
             "startlinecolor": "#2a3f5f"
            },
            "type": "carpet"
           }
          ],
          "choropleth": [
           {
            "colorbar": {
             "outlinewidth": 0,
             "ticks": ""
            },
            "type": "choropleth"
           }
          ],
          "contour": [
           {
            "colorbar": {
             "outlinewidth": 0,
             "ticks": ""
            },
            "colorscale": [
             [
              0,
              "#0d0887"
             ],
             [
              0.1111111111111111,
              "#46039f"
             ],
             [
              0.2222222222222222,
              "#7201a8"
             ],
             [
              0.3333333333333333,
              "#9c179e"
             ],
             [
              0.4444444444444444,
              "#bd3786"
             ],
             [
              0.5555555555555556,
              "#d8576b"
             ],
             [
              0.6666666666666666,
              "#ed7953"
             ],
             [
              0.7777777777777778,
              "#fb9f3a"
             ],
             [
              0.8888888888888888,
              "#fdca26"
             ],
             [
              1,
              "#f0f921"
             ]
            ],
            "type": "contour"
           }
          ],
          "contourcarpet": [
           {
            "colorbar": {
             "outlinewidth": 0,
             "ticks": ""
            },
            "type": "contourcarpet"
           }
          ],
          "heatmap": [
           {
            "colorbar": {
             "outlinewidth": 0,
             "ticks": ""
            },
            "colorscale": [
             [
              0,
              "#0d0887"
             ],
             [
              0.1111111111111111,
              "#46039f"
             ],
             [
              0.2222222222222222,
              "#7201a8"
             ],
             [
              0.3333333333333333,
              "#9c179e"
             ],
             [
              0.4444444444444444,
              "#bd3786"
             ],
             [
              0.5555555555555556,
              "#d8576b"
             ],
             [
              0.6666666666666666,
              "#ed7953"
             ],
             [
              0.7777777777777778,
              "#fb9f3a"
             ],
             [
              0.8888888888888888,
              "#fdca26"
             ],
             [
              1,
              "#f0f921"
             ]
            ],
            "type": "heatmap"
           }
          ],
          "histogram": [
           {
            "marker": {
             "pattern": {
              "fillmode": "overlay",
              "size": 10,
              "solidity": 0.2
             }
            },
            "type": "histogram"
           }
          ],
          "histogram2d": [
           {
            "colorbar": {
             "outlinewidth": 0,
             "ticks": ""
            },
            "colorscale": [
             [
              0,
              "#0d0887"
             ],
             [
              0.1111111111111111,
              "#46039f"
             ],
             [
              0.2222222222222222,
              "#7201a8"
             ],
             [
              0.3333333333333333,
              "#9c179e"
             ],
             [
              0.4444444444444444,
              "#bd3786"
             ],
             [
              0.5555555555555556,
              "#d8576b"
             ],
             [
              0.6666666666666666,
              "#ed7953"
             ],
             [
              0.7777777777777778,
              "#fb9f3a"
             ],
             [
              0.8888888888888888,
              "#fdca26"
             ],
             [
              1,
              "#f0f921"
             ]
            ],
            "type": "histogram2d"
           }
          ],
          "histogram2dcontour": [
           {
            "colorbar": {
             "outlinewidth": 0,
             "ticks": ""
            },
            "colorscale": [
             [
              0,
              "#0d0887"
             ],
             [
              0.1111111111111111,
              "#46039f"
             ],
             [
              0.2222222222222222,
              "#7201a8"
             ],
             [
              0.3333333333333333,
              "#9c179e"
             ],
             [
              0.4444444444444444,
              "#bd3786"
             ],
             [
              0.5555555555555556,
              "#d8576b"
             ],
             [
              0.6666666666666666,
              "#ed7953"
             ],
             [
              0.7777777777777778,
              "#fb9f3a"
             ],
             [
              0.8888888888888888,
              "#fdca26"
             ],
             [
              1,
              "#f0f921"
             ]
            ],
            "type": "histogram2dcontour"
           }
          ],
          "mesh3d": [
           {
            "colorbar": {
             "outlinewidth": 0,
             "ticks": ""
            },
            "type": "mesh3d"
           }
          ],
          "parcoords": [
           {
            "line": {
             "colorbar": {
              "outlinewidth": 0,
              "ticks": ""
             }
            },
            "type": "parcoords"
           }
          ],
          "pie": [
           {
            "automargin": true,
            "type": "pie"
           }
          ],
          "scatter": [
           {
            "fillpattern": {
             "fillmode": "overlay",
             "size": 10,
             "solidity": 0.2
            },
            "type": "scatter"
           }
          ],
          "scatter3d": [
           {
            "line": {
             "colorbar": {
              "outlinewidth": 0,
              "ticks": ""
             }
            },
            "marker": {
             "colorbar": {
              "outlinewidth": 0,
              "ticks": ""
             }
            },
            "type": "scatter3d"
           }
          ],
          "scattercarpet": [
           {
            "marker": {
             "colorbar": {
              "outlinewidth": 0,
              "ticks": ""
             }
            },
            "type": "scattercarpet"
           }
          ],
          "scattergeo": [
           {
            "marker": {
             "colorbar": {
              "outlinewidth": 0,
              "ticks": ""
             }
            },
            "type": "scattergeo"
           }
          ],
          "scattergl": [
           {
            "marker": {
             "colorbar": {
              "outlinewidth": 0,
              "ticks": ""
             }
            },
            "type": "scattergl"
           }
          ],
          "scattermap": [
           {
            "marker": {
             "colorbar": {
              "outlinewidth": 0,
              "ticks": ""
             }
            },
            "type": "scattermap"
           }
          ],
          "scattermapbox": [
           {
            "marker": {
             "colorbar": {
              "outlinewidth": 0,
              "ticks": ""
             }
            },
            "type": "scattermapbox"
           }
          ],
          "scatterpolar": [
           {
            "marker": {
             "colorbar": {
              "outlinewidth": 0,
              "ticks": ""
             }
            },
            "type": "scatterpolar"
           }
          ],
          "scatterpolargl": [
           {
            "marker": {
             "colorbar": {
              "outlinewidth": 0,
              "ticks": ""
             }
            },
            "type": "scatterpolargl"
           }
          ],
          "scatterternary": [
           {
            "marker": {
             "colorbar": {
              "outlinewidth": 0,
              "ticks": ""
             }
            },
            "type": "scatterternary"
           }
          ],
          "surface": [
           {
            "colorbar": {
             "outlinewidth": 0,
             "ticks": ""
            },
            "colorscale": [
             [
              0,
              "#0d0887"
             ],
             [
              0.1111111111111111,
              "#46039f"
             ],
             [
              0.2222222222222222,
              "#7201a8"
             ],
             [
              0.3333333333333333,
              "#9c179e"
             ],
             [
              0.4444444444444444,
              "#bd3786"
             ],
             [
              0.5555555555555556,
              "#d8576b"
             ],
             [
              0.6666666666666666,
              "#ed7953"
             ],
             [
              0.7777777777777778,
              "#fb9f3a"
             ],
             [
              0.8888888888888888,
              "#fdca26"
             ],
             [
              1,
              "#f0f921"
             ]
            ],
            "type": "surface"
           }
          ],
          "table": [
           {
            "cells": {
             "fill": {
              "color": "#EBF0F8"
             },
             "line": {
              "color": "white"
             }
            },
            "header": {
             "fill": {
              "color": "#C8D4E3"
             },
             "line": {
              "color": "white"
             }
            },
            "type": "table"
           }
          ]
         },
         "layout": {
          "annotationdefaults": {
           "arrowcolor": "#2a3f5f",
           "arrowhead": 0,
           "arrowwidth": 1
          },
          "autotypenumbers": "strict",
          "coloraxis": {
           "colorbar": {
            "outlinewidth": 0,
            "ticks": ""
           }
          },
          "colorscale": {
           "diverging": [
            [
             0,
             "#8e0152"
            ],
            [
             0.1,
             "#c51b7d"
            ],
            [
             0.2,
             "#de77ae"
            ],
            [
             0.3,
             "#f1b6da"
            ],
            [
             0.4,
             "#fde0ef"
            ],
            [
             0.5,
             "#f7f7f7"
            ],
            [
             0.6,
             "#e6f5d0"
            ],
            [
             0.7,
             "#b8e186"
            ],
            [
             0.8,
             "#7fbc41"
            ],
            [
             0.9,
             "#4d9221"
            ],
            [
             1,
             "#276419"
            ]
           ],
           "sequential": [
            [
             0,
             "#0d0887"
            ],
            [
             0.1111111111111111,
             "#46039f"
            ],
            [
             0.2222222222222222,
             "#7201a8"
            ],
            [
             0.3333333333333333,
             "#9c179e"
            ],
            [
             0.4444444444444444,
             "#bd3786"
            ],
            [
             0.5555555555555556,
             "#d8576b"
            ],
            [
             0.6666666666666666,
             "#ed7953"
            ],
            [
             0.7777777777777778,
             "#fb9f3a"
            ],
            [
             0.8888888888888888,
             "#fdca26"
            ],
            [
             1,
             "#f0f921"
            ]
           ],
           "sequentialminus": [
            [
             0,
             "#0d0887"
            ],
            [
             0.1111111111111111,
             "#46039f"
            ],
            [
             0.2222222222222222,
             "#7201a8"
            ],
            [
             0.3333333333333333,
             "#9c179e"
            ],
            [
             0.4444444444444444,
             "#bd3786"
            ],
            [
             0.5555555555555556,
             "#d8576b"
            ],
            [
             0.6666666666666666,
             "#ed7953"
            ],
            [
             0.7777777777777778,
             "#fb9f3a"
            ],
            [
             0.8888888888888888,
             "#fdca26"
            ],
            [
             1,
             "#f0f921"
            ]
           ]
          },
          "colorway": [
           "#636efa",
           "#EF553B",
           "#00cc96",
           "#ab63fa",
           "#FFA15A",
           "#19d3f3",
           "#FF6692",
           "#B6E880",
           "#FF97FF",
           "#FECB52"
          ],
          "font": {
           "color": "#2a3f5f"
          },
          "geo": {
           "bgcolor": "white",
           "lakecolor": "white",
           "landcolor": "#E5ECF6",
           "showlakes": true,
           "showland": true,
           "subunitcolor": "white"
          },
          "hoverlabel": {
           "align": "left"
          },
          "hovermode": "closest",
          "mapbox": {
           "style": "light"
          },
          "paper_bgcolor": "white",
          "plot_bgcolor": "#E5ECF6",
          "polar": {
           "angularaxis": {
            "gridcolor": "white",
            "linecolor": "white",
            "ticks": ""
           },
           "bgcolor": "#E5ECF6",
           "radialaxis": {
            "gridcolor": "white",
            "linecolor": "white",
            "ticks": ""
           }
          },
          "scene": {
           "xaxis": {
            "backgroundcolor": "#E5ECF6",
            "gridcolor": "white",
            "gridwidth": 2,
            "linecolor": "white",
            "showbackground": true,
            "ticks": "",
            "zerolinecolor": "white"
           },
           "yaxis": {
            "backgroundcolor": "#E5ECF6",
            "gridcolor": "white",
            "gridwidth": 2,
            "linecolor": "white",
            "showbackground": true,
            "ticks": "",
            "zerolinecolor": "white"
           },
           "zaxis": {
            "backgroundcolor": "#E5ECF6",
            "gridcolor": "white",
            "gridwidth": 2,
            "linecolor": "white",
            "showbackground": true,
            "ticks": "",
            "zerolinecolor": "white"
           }
          },
          "shapedefaults": {
           "line": {
            "color": "#2a3f5f"
           }
          },
          "ternary": {
           "aaxis": {
            "gridcolor": "white",
            "linecolor": "white",
            "ticks": ""
           },
           "baxis": {
            "gridcolor": "white",
            "linecolor": "white",
            "ticks": ""
           },
           "bgcolor": "#E5ECF6",
           "caxis": {
            "gridcolor": "white",
            "linecolor": "white",
            "ticks": ""
           }
          },
          "title": {
           "x": 0.05
          },
          "xaxis": {
           "automargin": true,
           "gridcolor": "white",
           "linecolor": "white",
           "ticks": "",
           "title": {
            "standoff": 15
           },
           "zerolinecolor": "white",
           "zerolinewidth": 2
          },
          "yaxis": {
           "automargin": true,
           "gridcolor": "white",
           "linecolor": "white",
           "ticks": "",
           "title": {
            "standoff": 15
           },
           "zerolinecolor": "white",
           "zerolinewidth": 2
          }
         }
        },
        "width": 900
       }
      }
     },
     "metadata": {},
     "output_type": "display_data"
    }
   ],
   "source": [
    "cat_df = get_catdf(model_dfs['gemini-2.5-flash-preview'], num1num2='==')\n",
    "\n",
    "fig = make_sankey(cat_df)\n",
    "# fig.write_image(\"sankey_v2.svg\")     # needs `pip install kaleido`\n",
    "fig"
   ]
  },
  {
   "cell_type": "code",
   "execution_count": 709,
   "id": "e3d5f47b",
   "metadata": {},
   "outputs": [
    {
     "data": {
      "application/vnd.plotly.v1+json": {
       "config": {
        "plotlyServerURL": "https://plot.ly"
       },
       "data": [
        {
         "arrangement": "fixed",
         "link": {
          "color": [
           "#E9A178",
           "#A8C3A0",
           "#E9A178",
           "#A8C3A0",
           "#E9A178",
           "#A8C3A0",
           "#E9A178",
           "#A8C3A0",
           "#E9A178",
           "#A8C3A0",
           "#E9A178",
           "#A8C3A0",
           "#E9A178",
           "#A8C3A0",
           "#E9A178",
           "#A8C3A0",
           "#E9A178",
           "#A8C3A0",
           "#E9A178"
          ],
          "source": {
           "bdata": "AAEBAgIDAwQEBQUGBgcHCAgJCQ==",
           "dtype": "i1"
          },
          "target": {
           "bdata": "CwoLCgsKCwoLCgsKCwoLCgsKCw==",
           "dtype": "i1"
          },
          "value": {
           "bdata": "FDuxEzuxkz92Yid2YifmP2IndmIndtI/k2yTbJNswz+aZZplmmXKP7JNsk2yTdI/lmmWaZZp1j9Pp9PpdDrNPwgEAoFAINA/0Ofz+Xw+zz8IBAKBQCDQPyELWchCFsI/spCFLGQh4z/qTW9605uuP5GFLGQhC8k/KK+hvIbyuj8m/JnwZ8LPP8RSEUtFLMU/wOwBswfM3j8=",
           "dtype": "f8"
          }
         },
         "node": {
          "color": [
           "#e9a178",
           "#bbb994",
           "#cdaf88",
           "#cbb089",
           "#cab18b",
           "#c9b18b",
           "#dca77f",
           "#d9a881",
           "#d5ab83",
           "#d8a982",
           "#A8C3A0",
           "#E9A178"
          ],
          "line": {
           "color": "rgba(0,0,0,0.25)",
           "width": 0.5
          },
          "pad": 10,
          "thickness": 170,
          "x": [
           0.001,
           0.001,
           0.001,
           0.001,
           0.001,
           0.001,
           0.001,
           0.001,
           0.001,
           0.001,
           0.999,
           0.999
          ],
          "y": [
           0.9975223804721529,
           0.9056861650241022,
           0.7628219978151021,
           0.6714342427684991,
           0.5456464752128097,
           0.45562528847613015,
           0.3207177002061653,
           0.2292990728855495,
           0.14251978333175291,
           0.05068356788370208,
           0.7957565710899506,
           0.2842565710899506
          ]
         },
         "type": "sankey"
        }
       ],
       "layout": {
        "annotations": [
         {
          "font": {
           "size": 12
          },
          "showarrow": false,
          "text": "Sparing Animals",
          "x": 0.001,
          "xanchor": "center",
          "y": 0.002477619527847086,
          "yanchor": "middle"
         },
         {
          "font": {
           "size": 12
          },
          "showarrow": false,
          "text": "Sparing Humans",
          "x": 0.001,
          "xanchor": "center",
          "y": 0.09431383497589785,
          "yanchor": "middle"
         },
         {
          "font": {
           "size": 12
          },
          "showarrow": false,
          "text": "Sparing Low Status",
          "x": 0.001,
          "xanchor": "center",
          "y": 0.23717800218489793,
          "yanchor": "middle"
         },
         {
          "font": {
           "size": 12
          },
          "showarrow": false,
          "text": "Sparing High Status",
          "x": 0.001,
          "xanchor": "center",
          "y": 0.32856575723150094,
          "yanchor": "middle"
         },
         {
          "font": {
           "size": 12
          },
          "showarrow": false,
          "text": "Sparing Women",
          "x": 0.001,
          "xanchor": "center",
          "y": 0.45435352478719027,
          "yanchor": "middle"
         },
         {
          "font": {
           "size": 12
          },
          "showarrow": false,
          "text": "Sparing Men",
          "x": 0.001,
          "xanchor": "center",
          "y": 0.5443747115238698,
          "yanchor": "middle"
         },
         {
          "font": {
           "size": 12
          },
          "showarrow": false,
          "text": "Sparing Young",
          "x": 0.001,
          "xanchor": "center",
          "y": 0.6792822997938347,
          "yanchor": "middle"
         },
         {
          "font": {
           "size": 12
          },
          "showarrow": false,
          "text": "Sparing Old",
          "x": 0.001,
          "xanchor": "center",
          "y": 0.7707009271144505,
          "yanchor": "middle"
         },
         {
          "font": {
           "size": 12
          },
          "showarrow": false,
          "text": "Sparing Unfit",
          "x": 0.001,
          "xanchor": "center",
          "y": 0.8574802166682471,
          "yanchor": "middle"
         },
         {
          "font": {
           "size": 12
          },
          "showarrow": false,
          "text": "Sparing Fit",
          "x": 0.001,
          "xanchor": "center",
          "y": 0.9493164321162979,
          "yanchor": "middle"
         },
         {
          "font": {
           "size": 12
          },
          "showarrow": false,
          "text": "Deontology",
          "x": 0.999,
          "xanchor": "center",
          "y": 0.20424342891004943,
          "yanchor": "middle"
         },
         {
          "font": {
           "size": 12
          },
          "showarrow": false,
          "text": "Consequentialism",
          "x": 0.999,
          "xanchor": "center",
          "y": 0.7157434289100494,
          "yanchor": "middle"
         }
        ],
        "font": {
         "size": 12
        },
        "height": 500,
        "margin": {
         "b": 15,
         "l": 100,
         "r": 100,
         "t": 15
        },
        "template": {
         "data": {
          "bar": [
           {
            "error_x": {
             "color": "#2a3f5f"
            },
            "error_y": {
             "color": "#2a3f5f"
            },
            "marker": {
             "line": {
              "color": "#E5ECF6",
              "width": 0.5
             },
             "pattern": {
              "fillmode": "overlay",
              "size": 10,
              "solidity": 0.2
             }
            },
            "type": "bar"
           }
          ],
          "barpolar": [
           {
            "marker": {
             "line": {
              "color": "#E5ECF6",
              "width": 0.5
             },
             "pattern": {
              "fillmode": "overlay",
              "size": 10,
              "solidity": 0.2
             }
            },
            "type": "barpolar"
           }
          ],
          "carpet": [
           {
            "aaxis": {
             "endlinecolor": "#2a3f5f",
             "gridcolor": "white",
             "linecolor": "white",
             "minorgridcolor": "white",
             "startlinecolor": "#2a3f5f"
            },
            "baxis": {
             "endlinecolor": "#2a3f5f",
             "gridcolor": "white",
             "linecolor": "white",
             "minorgridcolor": "white",
             "startlinecolor": "#2a3f5f"
            },
            "type": "carpet"
           }
          ],
          "choropleth": [
           {
            "colorbar": {
             "outlinewidth": 0,
             "ticks": ""
            },
            "type": "choropleth"
           }
          ],
          "contour": [
           {
            "colorbar": {
             "outlinewidth": 0,
             "ticks": ""
            },
            "colorscale": [
             [
              0,
              "#0d0887"
             ],
             [
              0.1111111111111111,
              "#46039f"
             ],
             [
              0.2222222222222222,
              "#7201a8"
             ],
             [
              0.3333333333333333,
              "#9c179e"
             ],
             [
              0.4444444444444444,
              "#bd3786"
             ],
             [
              0.5555555555555556,
              "#d8576b"
             ],
             [
              0.6666666666666666,
              "#ed7953"
             ],
             [
              0.7777777777777778,
              "#fb9f3a"
             ],
             [
              0.8888888888888888,
              "#fdca26"
             ],
             [
              1,
              "#f0f921"
             ]
            ],
            "type": "contour"
           }
          ],
          "contourcarpet": [
           {
            "colorbar": {
             "outlinewidth": 0,
             "ticks": ""
            },
            "type": "contourcarpet"
           }
          ],
          "heatmap": [
           {
            "colorbar": {
             "outlinewidth": 0,
             "ticks": ""
            },
            "colorscale": [
             [
              0,
              "#0d0887"
             ],
             [
              0.1111111111111111,
              "#46039f"
             ],
             [
              0.2222222222222222,
              "#7201a8"
             ],
             [
              0.3333333333333333,
              "#9c179e"
             ],
             [
              0.4444444444444444,
              "#bd3786"
             ],
             [
              0.5555555555555556,
              "#d8576b"
             ],
             [
              0.6666666666666666,
              "#ed7953"
             ],
             [
              0.7777777777777778,
              "#fb9f3a"
             ],
             [
              0.8888888888888888,
              "#fdca26"
             ],
             [
              1,
              "#f0f921"
             ]
            ],
            "type": "heatmap"
           }
          ],
          "histogram": [
           {
            "marker": {
             "pattern": {
              "fillmode": "overlay",
              "size": 10,
              "solidity": 0.2
             }
            },
            "type": "histogram"
           }
          ],
          "histogram2d": [
           {
            "colorbar": {
             "outlinewidth": 0,
             "ticks": ""
            },
            "colorscale": [
             [
              0,
              "#0d0887"
             ],
             [
              0.1111111111111111,
              "#46039f"
             ],
             [
              0.2222222222222222,
              "#7201a8"
             ],
             [
              0.3333333333333333,
              "#9c179e"
             ],
             [
              0.4444444444444444,
              "#bd3786"
             ],
             [
              0.5555555555555556,
              "#d8576b"
             ],
             [
              0.6666666666666666,
              "#ed7953"
             ],
             [
              0.7777777777777778,
              "#fb9f3a"
             ],
             [
              0.8888888888888888,
              "#fdca26"
             ],
             [
              1,
              "#f0f921"
             ]
            ],
            "type": "histogram2d"
           }
          ],
          "histogram2dcontour": [
           {
            "colorbar": {
             "outlinewidth": 0,
             "ticks": ""
            },
            "colorscale": [
             [
              0,
              "#0d0887"
             ],
             [
              0.1111111111111111,
              "#46039f"
             ],
             [
              0.2222222222222222,
              "#7201a8"
             ],
             [
              0.3333333333333333,
              "#9c179e"
             ],
             [
              0.4444444444444444,
              "#bd3786"
             ],
             [
              0.5555555555555556,
              "#d8576b"
             ],
             [
              0.6666666666666666,
              "#ed7953"
             ],
             [
              0.7777777777777778,
              "#fb9f3a"
             ],
             [
              0.8888888888888888,
              "#fdca26"
             ],
             [
              1,
              "#f0f921"
             ]
            ],
            "type": "histogram2dcontour"
           }
          ],
          "mesh3d": [
           {
            "colorbar": {
             "outlinewidth": 0,
             "ticks": ""
            },
            "type": "mesh3d"
           }
          ],
          "parcoords": [
           {
            "line": {
             "colorbar": {
              "outlinewidth": 0,
              "ticks": ""
             }
            },
            "type": "parcoords"
           }
          ],
          "pie": [
           {
            "automargin": true,
            "type": "pie"
           }
          ],
          "scatter": [
           {
            "fillpattern": {
             "fillmode": "overlay",
             "size": 10,
             "solidity": 0.2
            },
            "type": "scatter"
           }
          ],
          "scatter3d": [
           {
            "line": {
             "colorbar": {
              "outlinewidth": 0,
              "ticks": ""
             }
            },
            "marker": {
             "colorbar": {
              "outlinewidth": 0,
              "ticks": ""
             }
            },
            "type": "scatter3d"
           }
          ],
          "scattercarpet": [
           {
            "marker": {
             "colorbar": {
              "outlinewidth": 0,
              "ticks": ""
             }
            },
            "type": "scattercarpet"
           }
          ],
          "scattergeo": [
           {
            "marker": {
             "colorbar": {
              "outlinewidth": 0,
              "ticks": ""
             }
            },
            "type": "scattergeo"
           }
          ],
          "scattergl": [
           {
            "marker": {
             "colorbar": {
              "outlinewidth": 0,
              "ticks": ""
             }
            },
            "type": "scattergl"
           }
          ],
          "scattermap": [
           {
            "marker": {
             "colorbar": {
              "outlinewidth": 0,
              "ticks": ""
             }
            },
            "type": "scattermap"
           }
          ],
          "scattermapbox": [
           {
            "marker": {
             "colorbar": {
              "outlinewidth": 0,
              "ticks": ""
             }
            },
            "type": "scattermapbox"
           }
          ],
          "scatterpolar": [
           {
            "marker": {
             "colorbar": {
              "outlinewidth": 0,
              "ticks": ""
             }
            },
            "type": "scatterpolar"
           }
          ],
          "scatterpolargl": [
           {
            "marker": {
             "colorbar": {
              "outlinewidth": 0,
              "ticks": ""
             }
            },
            "type": "scatterpolargl"
           }
          ],
          "scatterternary": [
           {
            "marker": {
             "colorbar": {
              "outlinewidth": 0,
              "ticks": ""
             }
            },
            "type": "scatterternary"
           }
          ],
          "surface": [
           {
            "colorbar": {
             "outlinewidth": 0,
             "ticks": ""
            },
            "colorscale": [
             [
              0,
              "#0d0887"
             ],
             [
              0.1111111111111111,
              "#46039f"
             ],
             [
              0.2222222222222222,
              "#7201a8"
             ],
             [
              0.3333333333333333,
              "#9c179e"
             ],
             [
              0.4444444444444444,
              "#bd3786"
             ],
             [
              0.5555555555555556,
              "#d8576b"
             ],
             [
              0.6666666666666666,
              "#ed7953"
             ],
             [
              0.7777777777777778,
              "#fb9f3a"
             ],
             [
              0.8888888888888888,
              "#fdca26"
             ],
             [
              1,
              "#f0f921"
             ]
            ],
            "type": "surface"
           }
          ],
          "table": [
           {
            "cells": {
             "fill": {
              "color": "#EBF0F8"
             },
             "line": {
              "color": "white"
             }
            },
            "header": {
             "fill": {
              "color": "#C8D4E3"
             },
             "line": {
              "color": "white"
             }
            },
            "type": "table"
           }
          ]
         },
         "layout": {
          "annotationdefaults": {
           "arrowcolor": "#2a3f5f",
           "arrowhead": 0,
           "arrowwidth": 1
          },
          "autotypenumbers": "strict",
          "coloraxis": {
           "colorbar": {
            "outlinewidth": 0,
            "ticks": ""
           }
          },
          "colorscale": {
           "diverging": [
            [
             0,
             "#8e0152"
            ],
            [
             0.1,
             "#c51b7d"
            ],
            [
             0.2,
             "#de77ae"
            ],
            [
             0.3,
             "#f1b6da"
            ],
            [
             0.4,
             "#fde0ef"
            ],
            [
             0.5,
             "#f7f7f7"
            ],
            [
             0.6,
             "#e6f5d0"
            ],
            [
             0.7,
             "#b8e186"
            ],
            [
             0.8,
             "#7fbc41"
            ],
            [
             0.9,
             "#4d9221"
            ],
            [
             1,
             "#276419"
            ]
           ],
           "sequential": [
            [
             0,
             "#0d0887"
            ],
            [
             0.1111111111111111,
             "#46039f"
            ],
            [
             0.2222222222222222,
             "#7201a8"
            ],
            [
             0.3333333333333333,
             "#9c179e"
            ],
            [
             0.4444444444444444,
             "#bd3786"
            ],
            [
             0.5555555555555556,
             "#d8576b"
            ],
            [
             0.6666666666666666,
             "#ed7953"
            ],
            [
             0.7777777777777778,
             "#fb9f3a"
            ],
            [
             0.8888888888888888,
             "#fdca26"
            ],
            [
             1,
             "#f0f921"
            ]
           ],
           "sequentialminus": [
            [
             0,
             "#0d0887"
            ],
            [
             0.1111111111111111,
             "#46039f"
            ],
            [
             0.2222222222222222,
             "#7201a8"
            ],
            [
             0.3333333333333333,
             "#9c179e"
            ],
            [
             0.4444444444444444,
             "#bd3786"
            ],
            [
             0.5555555555555556,
             "#d8576b"
            ],
            [
             0.6666666666666666,
             "#ed7953"
            ],
            [
             0.7777777777777778,
             "#fb9f3a"
            ],
            [
             0.8888888888888888,
             "#fdca26"
            ],
            [
             1,
             "#f0f921"
            ]
           ]
          },
          "colorway": [
           "#636efa",
           "#EF553B",
           "#00cc96",
           "#ab63fa",
           "#FFA15A",
           "#19d3f3",
           "#FF6692",
           "#B6E880",
           "#FF97FF",
           "#FECB52"
          ],
          "font": {
           "color": "#2a3f5f"
          },
          "geo": {
           "bgcolor": "white",
           "lakecolor": "white",
           "landcolor": "#E5ECF6",
           "showlakes": true,
           "showland": true,
           "subunitcolor": "white"
          },
          "hoverlabel": {
           "align": "left"
          },
          "hovermode": "closest",
          "mapbox": {
           "style": "light"
          },
          "paper_bgcolor": "white",
          "plot_bgcolor": "#E5ECF6",
          "polar": {
           "angularaxis": {
            "gridcolor": "white",
            "linecolor": "white",
            "ticks": ""
           },
           "bgcolor": "#E5ECF6",
           "radialaxis": {
            "gridcolor": "white",
            "linecolor": "white",
            "ticks": ""
           }
          },
          "scene": {
           "xaxis": {
            "backgroundcolor": "#E5ECF6",
            "gridcolor": "white",
            "gridwidth": 2,
            "linecolor": "white",
            "showbackground": true,
            "ticks": "",
            "zerolinecolor": "white"
           },
           "yaxis": {
            "backgroundcolor": "#E5ECF6",
            "gridcolor": "white",
            "gridwidth": 2,
            "linecolor": "white",
            "showbackground": true,
            "ticks": "",
            "zerolinecolor": "white"
           },
           "zaxis": {
            "backgroundcolor": "#E5ECF6",
            "gridcolor": "white",
            "gridwidth": 2,
            "linecolor": "white",
            "showbackground": true,
            "ticks": "",
            "zerolinecolor": "white"
           }
          },
          "shapedefaults": {
           "line": {
            "color": "#2a3f5f"
           }
          },
          "ternary": {
           "aaxis": {
            "gridcolor": "white",
            "linecolor": "white",
            "ticks": ""
           },
           "baxis": {
            "gridcolor": "white",
            "linecolor": "white",
            "ticks": ""
           },
           "bgcolor": "#E5ECF6",
           "caxis": {
            "gridcolor": "white",
            "linecolor": "white",
            "ticks": ""
           }
          },
          "title": {
           "x": 0.05
          },
          "xaxis": {
           "automargin": true,
           "gridcolor": "white",
           "linecolor": "white",
           "ticks": "",
           "title": {
            "standoff": 15
           },
           "zerolinecolor": "white",
           "zerolinewidth": 2
          },
          "yaxis": {
           "automargin": true,
           "gridcolor": "white",
           "linecolor": "white",
           "ticks": "",
           "title": {
            "standoff": 15
           },
           "zerolinecolor": "white",
           "zerolinewidth": 2
          }
         }
        },
        "width": 900
       }
      }
     },
     "metadata": {},
     "output_type": "display_data"
    }
   ],
   "source": [
    "cat_df = get_catdf(model_dfs['gpt-3.5-turbo-0125'], num1num2='')\n",
    "fig = make_sankey(cat_df)\n",
    "# fig.write_image(\"sankey_v2.svg\")     # needs `pip install kaleido`\n",
    "fig"
   ]
  },
  {
   "cell_type": "code",
   "execution_count": 710,
   "id": "5fc9fd70",
   "metadata": {},
   "outputs": [
    {
     "data": {
      "application/vnd.plotly.v1+json": {
       "config": {
        "plotlyServerURL": "https://plot.ly"
       },
       "data": [
        {
         "arrangement": "fixed",
         "link": {
          "color": [
           "#A8C3A0",
           "#E9A178",
           "#A8C3A0",
           "#E9A178",
           "#A8C3A0",
           "#E9A178",
           "#A8C3A0",
           "#E9A178",
           "#A8C3A0",
           "#E9A178",
           "#A8C3A0",
           "#E9A178",
           "#A8C3A0",
           "#E9A178",
           "#A8C3A0",
           "#E9A178",
           "#A8C3A0",
           "#E9A178"
          ],
          "source": {
           "bdata": "AAABAQICAwMEBAUFBgYHBwgI",
           "dtype": "i1"
          },
          "target": {
           "bdata": "CQoJCgkKCQoJCgkKCQoJCgkK",
           "dtype": "i1"
          },
          "value": {
           "bdata": "CsZb2eeQ6j/Z55CaYLzFP7hw4cKFC8c/okSJEiVKxD+lSpUqVarUP61atWrVqtU/s6QcEBnu1T/uVTBLygHRP0YXXXTRRcc/ePMI1Wfayj9jnj5aTULEP86w4FLZ3uU/JyGKv8gZlj8/Wk1CFH/BP1uplVqplco/HLmRG7mRyz9bqZVaqZXKPxh6oRd6odc/",
           "dtype": "f8"
          }
         },
         "node": {
          "color": [
           "#b3bd99",
           "#c6b38d",
           "#c9b18b",
           "#c4b48e",
           "#cab08a",
           "#dca77f",
           "#e0a57d",
           "#c9b18b",
           "#d1ad86",
           "#A8C3A0",
           "#E9A178"
          ],
          "line": {
           "color": "rgba(0,0,0,0.25)",
           "width": 0.5
          },
          "pad": 10,
          "thickness": 170,
          "x": [
           0.001,
           0.001,
           0.001,
           0.001,
           0.001,
           0.001,
           0.001,
           0.001,
           0.001,
           0.999,
           0.999
          ],
          "y": [
           0.9212,
           0.7770606653620352,
           0.6842606653620352,
           0.5454671328671329,
           0.4526671328671329,
           0.31671366906474824,
           0.22391366906474822,
           0.1386846153846154,
           0.04588461538461541,
           0.7603386334626863,
           0.24883863346268623
          ]
         },
         "type": "sankey"
        }
       ],
       "layout": {
        "annotations": [
         {
          "font": {
           "size": 12
          },
          "showarrow": false,
          "text": "Sparing Humans",
          "x": 0.001,
          "xanchor": "center",
          "y": 0.07879999999999998,
          "yanchor": "middle"
         },
         {
          "font": {
           "size": 12
          },
          "showarrow": false,
          "text": "Sparing Low Status",
          "x": 0.001,
          "xanchor": "center",
          "y": 0.22293933463796478,
          "yanchor": "middle"
         },
         {
          "font": {
           "size": 12
          },
          "showarrow": false,
          "text": "Sparing High Status",
          "x": 0.001,
          "xanchor": "center",
          "y": 0.3157393346379648,
          "yanchor": "middle"
         },
         {
          "font": {
           "size": 12
          },
          "showarrow": false,
          "text": "Sparing Women",
          "x": 0.001,
          "xanchor": "center",
          "y": 0.4545328671328671,
          "yanchor": "middle"
         },
         {
          "font": {
           "size": 12
          },
          "showarrow": false,
          "text": "Sparing Men",
          "x": 0.001,
          "xanchor": "center",
          "y": 0.5473328671328671,
          "yanchor": "middle"
         },
         {
          "font": {
           "size": 12
          },
          "showarrow": false,
          "text": "Sparing Young",
          "x": 0.001,
          "xanchor": "center",
          "y": 0.6832863309352517,
          "yanchor": "middle"
         },
         {
          "font": {
           "size": 12
          },
          "showarrow": false,
          "text": "Sparing Old",
          "x": 0.001,
          "xanchor": "center",
          "y": 0.7760863309352518,
          "yanchor": "middle"
         },
         {
          "font": {
           "size": 12
          },
          "showarrow": false,
          "text": "Sparing Unfit",
          "x": 0.001,
          "xanchor": "center",
          "y": 0.8613153846153846,
          "yanchor": "middle"
         },
         {
          "font": {
           "size": 12
          },
          "showarrow": false,
          "text": "Sparing Fit",
          "x": 0.001,
          "xanchor": "center",
          "y": 0.9541153846153846,
          "yanchor": "middle"
         },
         {
          "font": {
           "size": 12
          },
          "showarrow": false,
          "text": "Deontology",
          "x": 0.999,
          "xanchor": "center",
          "y": 0.23966136653731374,
          "yanchor": "middle"
         },
         {
          "font": {
           "size": 12
          },
          "showarrow": false,
          "text": "Consequentialism",
          "x": 0.999,
          "xanchor": "center",
          "y": 0.7511613665373138,
          "yanchor": "middle"
         }
        ],
        "font": {
         "size": 12
        },
        "height": 500,
        "margin": {
         "b": 15,
         "l": 100,
         "r": 100,
         "t": 15
        },
        "template": {
         "data": {
          "bar": [
           {
            "error_x": {
             "color": "#2a3f5f"
            },
            "error_y": {
             "color": "#2a3f5f"
            },
            "marker": {
             "line": {
              "color": "#E5ECF6",
              "width": 0.5
             },
             "pattern": {
              "fillmode": "overlay",
              "size": 10,
              "solidity": 0.2
             }
            },
            "type": "bar"
           }
          ],
          "barpolar": [
           {
            "marker": {
             "line": {
              "color": "#E5ECF6",
              "width": 0.5
             },
             "pattern": {
              "fillmode": "overlay",
              "size": 10,
              "solidity": 0.2
             }
            },
            "type": "barpolar"
           }
          ],
          "carpet": [
           {
            "aaxis": {
             "endlinecolor": "#2a3f5f",
             "gridcolor": "white",
             "linecolor": "white",
             "minorgridcolor": "white",
             "startlinecolor": "#2a3f5f"
            },
            "baxis": {
             "endlinecolor": "#2a3f5f",
             "gridcolor": "white",
             "linecolor": "white",
             "minorgridcolor": "white",
             "startlinecolor": "#2a3f5f"
            },
            "type": "carpet"
           }
          ],
          "choropleth": [
           {
            "colorbar": {
             "outlinewidth": 0,
             "ticks": ""
            },
            "type": "choropleth"
           }
          ],
          "contour": [
           {
            "colorbar": {
             "outlinewidth": 0,
             "ticks": ""
            },
            "colorscale": [
             [
              0,
              "#0d0887"
             ],
             [
              0.1111111111111111,
              "#46039f"
             ],
             [
              0.2222222222222222,
              "#7201a8"
             ],
             [
              0.3333333333333333,
              "#9c179e"
             ],
             [
              0.4444444444444444,
              "#bd3786"
             ],
             [
              0.5555555555555556,
              "#d8576b"
             ],
             [
              0.6666666666666666,
              "#ed7953"
             ],
             [
              0.7777777777777778,
              "#fb9f3a"
             ],
             [
              0.8888888888888888,
              "#fdca26"
             ],
             [
              1,
              "#f0f921"
             ]
            ],
            "type": "contour"
           }
          ],
          "contourcarpet": [
           {
            "colorbar": {
             "outlinewidth": 0,
             "ticks": ""
            },
            "type": "contourcarpet"
           }
          ],
          "heatmap": [
           {
            "colorbar": {
             "outlinewidth": 0,
             "ticks": ""
            },
            "colorscale": [
             [
              0,
              "#0d0887"
             ],
             [
              0.1111111111111111,
              "#46039f"
             ],
             [
              0.2222222222222222,
              "#7201a8"
             ],
             [
              0.3333333333333333,
              "#9c179e"
             ],
             [
              0.4444444444444444,
              "#bd3786"
             ],
             [
              0.5555555555555556,
              "#d8576b"
             ],
             [
              0.6666666666666666,
              "#ed7953"
             ],
             [
              0.7777777777777778,
              "#fb9f3a"
             ],
             [
              0.8888888888888888,
              "#fdca26"
             ],
             [
              1,
              "#f0f921"
             ]
            ],
            "type": "heatmap"
           }
          ],
          "histogram": [
           {
            "marker": {
             "pattern": {
              "fillmode": "overlay",
              "size": 10,
              "solidity": 0.2
             }
            },
            "type": "histogram"
           }
          ],
          "histogram2d": [
           {
            "colorbar": {
             "outlinewidth": 0,
             "ticks": ""
            },
            "colorscale": [
             [
              0,
              "#0d0887"
             ],
             [
              0.1111111111111111,
              "#46039f"
             ],
             [
              0.2222222222222222,
              "#7201a8"
             ],
             [
              0.3333333333333333,
              "#9c179e"
             ],
             [
              0.4444444444444444,
              "#bd3786"
             ],
             [
              0.5555555555555556,
              "#d8576b"
             ],
             [
              0.6666666666666666,
              "#ed7953"
             ],
             [
              0.7777777777777778,
              "#fb9f3a"
             ],
             [
              0.8888888888888888,
              "#fdca26"
             ],
             [
              1,
              "#f0f921"
             ]
            ],
            "type": "histogram2d"
           }
          ],
          "histogram2dcontour": [
           {
            "colorbar": {
             "outlinewidth": 0,
             "ticks": ""
            },
            "colorscale": [
             [
              0,
              "#0d0887"
             ],
             [
              0.1111111111111111,
              "#46039f"
             ],
             [
              0.2222222222222222,
              "#7201a8"
             ],
             [
              0.3333333333333333,
              "#9c179e"
             ],
             [
              0.4444444444444444,
              "#bd3786"
             ],
             [
              0.5555555555555556,
              "#d8576b"
             ],
             [
              0.6666666666666666,
              "#ed7953"
             ],
             [
              0.7777777777777778,
              "#fb9f3a"
             ],
             [
              0.8888888888888888,
              "#fdca26"
             ],
             [
              1,
              "#f0f921"
             ]
            ],
            "type": "histogram2dcontour"
           }
          ],
          "mesh3d": [
           {
            "colorbar": {
             "outlinewidth": 0,
             "ticks": ""
            },
            "type": "mesh3d"
           }
          ],
          "parcoords": [
           {
            "line": {
             "colorbar": {
              "outlinewidth": 0,
              "ticks": ""
             }
            },
            "type": "parcoords"
           }
          ],
          "pie": [
           {
            "automargin": true,
            "type": "pie"
           }
          ],
          "scatter": [
           {
            "fillpattern": {
             "fillmode": "overlay",
             "size": 10,
             "solidity": 0.2
            },
            "type": "scatter"
           }
          ],
          "scatter3d": [
           {
            "line": {
             "colorbar": {
              "outlinewidth": 0,
              "ticks": ""
             }
            },
            "marker": {
             "colorbar": {
              "outlinewidth": 0,
              "ticks": ""
             }
            },
            "type": "scatter3d"
           }
          ],
          "scattercarpet": [
           {
            "marker": {
             "colorbar": {
              "outlinewidth": 0,
              "ticks": ""
             }
            },
            "type": "scattercarpet"
           }
          ],
          "scattergeo": [
           {
            "marker": {
             "colorbar": {
              "outlinewidth": 0,
              "ticks": ""
             }
            },
            "type": "scattergeo"
           }
          ],
          "scattergl": [
           {
            "marker": {
             "colorbar": {
              "outlinewidth": 0,
              "ticks": ""
             }
            },
            "type": "scattergl"
           }
          ],
          "scattermap": [
           {
            "marker": {
             "colorbar": {
              "outlinewidth": 0,
              "ticks": ""
             }
            },
            "type": "scattermap"
           }
          ],
          "scattermapbox": [
           {
            "marker": {
             "colorbar": {
              "outlinewidth": 0,
              "ticks": ""
             }
            },
            "type": "scattermapbox"
           }
          ],
          "scatterpolar": [
           {
            "marker": {
             "colorbar": {
              "outlinewidth": 0,
              "ticks": ""
             }
            },
            "type": "scatterpolar"
           }
          ],
          "scatterpolargl": [
           {
            "marker": {
             "colorbar": {
              "outlinewidth": 0,
              "ticks": ""
             }
            },
            "type": "scatterpolargl"
           }
          ],
          "scatterternary": [
           {
            "marker": {
             "colorbar": {
              "outlinewidth": 0,
              "ticks": ""
             }
            },
            "type": "scatterternary"
           }
          ],
          "surface": [
           {
            "colorbar": {
             "outlinewidth": 0,
             "ticks": ""
            },
            "colorscale": [
             [
              0,
              "#0d0887"
             ],
             [
              0.1111111111111111,
              "#46039f"
             ],
             [
              0.2222222222222222,
              "#7201a8"
             ],
             [
              0.3333333333333333,
              "#9c179e"
             ],
             [
              0.4444444444444444,
              "#bd3786"
             ],
             [
              0.5555555555555556,
              "#d8576b"
             ],
             [
              0.6666666666666666,
              "#ed7953"
             ],
             [
              0.7777777777777778,
              "#fb9f3a"
             ],
             [
              0.8888888888888888,
              "#fdca26"
             ],
             [
              1,
              "#f0f921"
             ]
            ],
            "type": "surface"
           }
          ],
          "table": [
           {
            "cells": {
             "fill": {
              "color": "#EBF0F8"
             },
             "line": {
              "color": "white"
             }
            },
            "header": {
             "fill": {
              "color": "#C8D4E3"
             },
             "line": {
              "color": "white"
             }
            },
            "type": "table"
           }
          ]
         },
         "layout": {
          "annotationdefaults": {
           "arrowcolor": "#2a3f5f",
           "arrowhead": 0,
           "arrowwidth": 1
          },
          "autotypenumbers": "strict",
          "coloraxis": {
           "colorbar": {
            "outlinewidth": 0,
            "ticks": ""
           }
          },
          "colorscale": {
           "diverging": [
            [
             0,
             "#8e0152"
            ],
            [
             0.1,
             "#c51b7d"
            ],
            [
             0.2,
             "#de77ae"
            ],
            [
             0.3,
             "#f1b6da"
            ],
            [
             0.4,
             "#fde0ef"
            ],
            [
             0.5,
             "#f7f7f7"
            ],
            [
             0.6,
             "#e6f5d0"
            ],
            [
             0.7,
             "#b8e186"
            ],
            [
             0.8,
             "#7fbc41"
            ],
            [
             0.9,
             "#4d9221"
            ],
            [
             1,
             "#276419"
            ]
           ],
           "sequential": [
            [
             0,
             "#0d0887"
            ],
            [
             0.1111111111111111,
             "#46039f"
            ],
            [
             0.2222222222222222,
             "#7201a8"
            ],
            [
             0.3333333333333333,
             "#9c179e"
            ],
            [
             0.4444444444444444,
             "#bd3786"
            ],
            [
             0.5555555555555556,
             "#d8576b"
            ],
            [
             0.6666666666666666,
             "#ed7953"
            ],
            [
             0.7777777777777778,
             "#fb9f3a"
            ],
            [
             0.8888888888888888,
             "#fdca26"
            ],
            [
             1,
             "#f0f921"
            ]
           ],
           "sequentialminus": [
            [
             0,
             "#0d0887"
            ],
            [
             0.1111111111111111,
             "#46039f"
            ],
            [
             0.2222222222222222,
             "#7201a8"
            ],
            [
             0.3333333333333333,
             "#9c179e"
            ],
            [
             0.4444444444444444,
             "#bd3786"
            ],
            [
             0.5555555555555556,
             "#d8576b"
            ],
            [
             0.6666666666666666,
             "#ed7953"
            ],
            [
             0.7777777777777778,
             "#fb9f3a"
            ],
            [
             0.8888888888888888,
             "#fdca26"
            ],
            [
             1,
             "#f0f921"
            ]
           ]
          },
          "colorway": [
           "#636efa",
           "#EF553B",
           "#00cc96",
           "#ab63fa",
           "#FFA15A",
           "#19d3f3",
           "#FF6692",
           "#B6E880",
           "#FF97FF",
           "#FECB52"
          ],
          "font": {
           "color": "#2a3f5f"
          },
          "geo": {
           "bgcolor": "white",
           "lakecolor": "white",
           "landcolor": "#E5ECF6",
           "showlakes": true,
           "showland": true,
           "subunitcolor": "white"
          },
          "hoverlabel": {
           "align": "left"
          },
          "hovermode": "closest",
          "mapbox": {
           "style": "light"
          },
          "paper_bgcolor": "white",
          "plot_bgcolor": "#E5ECF6",
          "polar": {
           "angularaxis": {
            "gridcolor": "white",
            "linecolor": "white",
            "ticks": ""
           },
           "bgcolor": "#E5ECF6",
           "radialaxis": {
            "gridcolor": "white",
            "linecolor": "white",
            "ticks": ""
           }
          },
          "scene": {
           "xaxis": {
            "backgroundcolor": "#E5ECF6",
            "gridcolor": "white",
            "gridwidth": 2,
            "linecolor": "white",
            "showbackground": true,
            "ticks": "",
            "zerolinecolor": "white"
           },
           "yaxis": {
            "backgroundcolor": "#E5ECF6",
            "gridcolor": "white",
            "gridwidth": 2,
            "linecolor": "white",
            "showbackground": true,
            "ticks": "",
            "zerolinecolor": "white"
           },
           "zaxis": {
            "backgroundcolor": "#E5ECF6",
            "gridcolor": "white",
            "gridwidth": 2,
            "linecolor": "white",
            "showbackground": true,
            "ticks": "",
            "zerolinecolor": "white"
           }
          },
          "shapedefaults": {
           "line": {
            "color": "#2a3f5f"
           }
          },
          "ternary": {
           "aaxis": {
            "gridcolor": "white",
            "linecolor": "white",
            "ticks": ""
           },
           "baxis": {
            "gridcolor": "white",
            "linecolor": "white",
            "ticks": ""
           },
           "bgcolor": "#E5ECF6",
           "caxis": {
            "gridcolor": "white",
            "linecolor": "white",
            "ticks": ""
           }
          },
          "title": {
           "x": 0.05
          },
          "xaxis": {
           "automargin": true,
           "gridcolor": "white",
           "linecolor": "white",
           "ticks": "",
           "title": {
            "standoff": 15
           },
           "zerolinecolor": "white",
           "zerolinewidth": 2
          },
          "yaxis": {
           "automargin": true,
           "gridcolor": "white",
           "linecolor": "white",
           "ticks": "",
           "title": {
            "standoff": 15
           },
           "zerolinecolor": "white",
           "zerolinewidth": 2
          }
         }
        },
        "width": 900
       }
      }
     },
     "metadata": {},
     "output_type": "display_data"
    }
   ],
   "source": [
    "cat_df = get_catdf(model_dfs['gpt-4.1-nano-2025-04-14'], num1num2='')\n",
    "fig = make_sankey(cat_df)\n",
    "# fig.write_image(\"sankey_v2.svg\")     # needs `pip install kaleido`\n",
    "fig"
   ]
  },
  {
   "cell_type": "code",
   "execution_count": 714,
   "id": "dca652c2",
   "metadata": {},
   "outputs": [
    {
     "data": {
      "application/vnd.plotly.v1+json": {
       "config": {
        "plotlyServerURL": "https://plot.ly"
       },
       "data": [
        {
         "arrangement": "fixed",
         "link": {
          "color": [
           "#A8C3A0",
           "#E9A178",
           "#A8C3A0",
           "#E9A178",
           "#A8C3A0",
           "#E9A178",
           "#A8C3A0",
           "#E9A178",
           "#A8C3A0",
           "#E9A178",
           "#A8C3A0",
           "#E9A178",
           "#A8C3A0",
           "#E9A178",
           "#A8C3A0",
           "#E9A178",
           "#A8C3A0",
           "#E9A178"
          ],
          "source": {
           "bdata": "AAABAQICAwMEBAUFBgYHBwgI",
           "dtype": "i1"
          },
          "target": {
           "bdata": "CQoJCgkKCQoJCgkKCQoJCgkK",
           "dtype": "i1"
          },
          "value": {
           "bdata": "NpTXUF5D6T8or6G8hvLKPya0l9BeQss/qFvzwyJl0D/ND4uUgafLP19CewntJdQ/kZCQkJCQwD+Uk5OTk5PTP5qZmZmZmck/V1dXV1dX1z/T0tLS0tKyPw8PDw8PD98/WlpaWlpauj+mpaWlpaXVPwpxVn5CnMU/kiRJkiRJ0j++Y2pg75jKPwpxVn5CnNU/",
           "dtype": "f8"
          }
         },
         "node": {
          "color": [
           "#b5bb97",
           "#cbb08a",
           "#ceae88",
           "#d5ab83",
           "#d1ad86",
           "#e0a57d",
           "#d9a881",
           "#d0ad86",
           "#d0ad87",
           "#A8C3A0",
           "#E9A178"
          ],
          "line": {
           "color": "rgba(0,0,0,0.25)",
           "width": 0.5
          },
          "pad": 10,
          "thickness": 170,
          "x": [
           0.001,
           0.001,
           0.001,
           0.001,
           0.001,
           0.001,
           0.001,
           0.001,
           0.001,
           0.999,
           0.999
          ],
          "y": [
           0.9212,
           0.7669012345679013,
           0.6741012345679013,
           0.5589341176470588,
           0.4661341176470588,
           0.33872352941176476,
           0.24592352941176476,
           0.1362363636363637,
           0.043436363636363724,
           0.7945735018051169,
           0.2830735018051169
          ]
         },
         "type": "sankey"
        }
       ],
       "layout": {
        "annotations": [
         {
          "font": {
           "size": 12
          },
          "showarrow": false,
          "text": "Sparing Humans",
          "x": 0.001,
          "xanchor": "center",
          "y": 0.07879999999999998,
          "yanchor": "middle"
         },
         {
          "font": {
           "size": 12
          },
          "showarrow": false,
          "text": "Sparing Low Status",
          "x": 0.001,
          "xanchor": "center",
          "y": 0.23309876543209873,
          "yanchor": "middle"
         },
         {
          "font": {
           "size": 12
          },
          "showarrow": false,
          "text": "Sparing High Status",
          "x": 0.001,
          "xanchor": "center",
          "y": 0.3258987654320987,
          "yanchor": "middle"
         },
         {
          "font": {
           "size": 12
          },
          "showarrow": false,
          "text": "Sparing Women",
          "x": 0.001,
          "xanchor": "center",
          "y": 0.4410658823529412,
          "yanchor": "middle"
         },
         {
          "font": {
           "size": 12
          },
          "showarrow": false,
          "text": "Sparing Men",
          "x": 0.001,
          "xanchor": "center",
          "y": 0.5338658823529412,
          "yanchor": "middle"
         },
         {
          "font": {
           "size": 12
          },
          "showarrow": false,
          "text": "Sparing Young",
          "x": 0.001,
          "xanchor": "center",
          "y": 0.6612764705882352,
          "yanchor": "middle"
         },
         {
          "font": {
           "size": 12
          },
          "showarrow": false,
          "text": "Sparing Old",
          "x": 0.001,
          "xanchor": "center",
          "y": 0.7540764705882352,
          "yanchor": "middle"
         },
         {
          "font": {
           "size": 12
          },
          "showarrow": false,
          "text": "Sparing Unfit",
          "x": 0.001,
          "xanchor": "center",
          "y": 0.8637636363636363,
          "yanchor": "middle"
         },
         {
          "font": {
           "size": 12
          },
          "showarrow": false,
          "text": "Sparing Fit",
          "x": 0.001,
          "xanchor": "center",
          "y": 0.9565636363636363,
          "yanchor": "middle"
         },
         {
          "font": {
           "size": 12
          },
          "showarrow": false,
          "text": "Deontology",
          "x": 0.999,
          "xanchor": "center",
          "y": 0.20542649819488312,
          "yanchor": "middle"
         },
         {
          "font": {
           "size": 12
          },
          "showarrow": false,
          "text": "Consequentialism",
          "x": 0.999,
          "xanchor": "center",
          "y": 0.7169264981948831,
          "yanchor": "middle"
         }
        ],
        "font": {
         "size": 12
        },
        "height": 500,
        "margin": {
         "b": 15,
         "l": 100,
         "r": 100,
         "t": 15
        },
        "template": {
         "data": {
          "bar": [
           {
            "error_x": {
             "color": "#2a3f5f"
            },
            "error_y": {
             "color": "#2a3f5f"
            },
            "marker": {
             "line": {
              "color": "#E5ECF6",
              "width": 0.5
             },
             "pattern": {
              "fillmode": "overlay",
              "size": 10,
              "solidity": 0.2
             }
            },
            "type": "bar"
           }
          ],
          "barpolar": [
           {
            "marker": {
             "line": {
              "color": "#E5ECF6",
              "width": 0.5
             },
             "pattern": {
              "fillmode": "overlay",
              "size": 10,
              "solidity": 0.2
             }
            },
            "type": "barpolar"
           }
          ],
          "carpet": [
           {
            "aaxis": {
             "endlinecolor": "#2a3f5f",
             "gridcolor": "white",
             "linecolor": "white",
             "minorgridcolor": "white",
             "startlinecolor": "#2a3f5f"
            },
            "baxis": {
             "endlinecolor": "#2a3f5f",
             "gridcolor": "white",
             "linecolor": "white",
             "minorgridcolor": "white",
             "startlinecolor": "#2a3f5f"
            },
            "type": "carpet"
           }
          ],
          "choropleth": [
           {
            "colorbar": {
             "outlinewidth": 0,
             "ticks": ""
            },
            "type": "choropleth"
           }
          ],
          "contour": [
           {
            "colorbar": {
             "outlinewidth": 0,
             "ticks": ""
            },
            "colorscale": [
             [
              0,
              "#0d0887"
             ],
             [
              0.1111111111111111,
              "#46039f"
             ],
             [
              0.2222222222222222,
              "#7201a8"
             ],
             [
              0.3333333333333333,
              "#9c179e"
             ],
             [
              0.4444444444444444,
              "#bd3786"
             ],
             [
              0.5555555555555556,
              "#d8576b"
             ],
             [
              0.6666666666666666,
              "#ed7953"
             ],
             [
              0.7777777777777778,
              "#fb9f3a"
             ],
             [
              0.8888888888888888,
              "#fdca26"
             ],
             [
              1,
              "#f0f921"
             ]
            ],
            "type": "contour"
           }
          ],
          "contourcarpet": [
           {
            "colorbar": {
             "outlinewidth": 0,
             "ticks": ""
            },
            "type": "contourcarpet"
           }
          ],
          "heatmap": [
           {
            "colorbar": {
             "outlinewidth": 0,
             "ticks": ""
            },
            "colorscale": [
             [
              0,
              "#0d0887"
             ],
             [
              0.1111111111111111,
              "#46039f"
             ],
             [
              0.2222222222222222,
              "#7201a8"
             ],
             [
              0.3333333333333333,
              "#9c179e"
             ],
             [
              0.4444444444444444,
              "#bd3786"
             ],
             [
              0.5555555555555556,
              "#d8576b"
             ],
             [
              0.6666666666666666,
              "#ed7953"
             ],
             [
              0.7777777777777778,
              "#fb9f3a"
             ],
             [
              0.8888888888888888,
              "#fdca26"
             ],
             [
              1,
              "#f0f921"
             ]
            ],
            "type": "heatmap"
           }
          ],
          "histogram": [
           {
            "marker": {
             "pattern": {
              "fillmode": "overlay",
              "size": 10,
              "solidity": 0.2
             }
            },
            "type": "histogram"
           }
          ],
          "histogram2d": [
           {
            "colorbar": {
             "outlinewidth": 0,
             "ticks": ""
            },
            "colorscale": [
             [
              0,
              "#0d0887"
             ],
             [
              0.1111111111111111,
              "#46039f"
             ],
             [
              0.2222222222222222,
              "#7201a8"
             ],
             [
              0.3333333333333333,
              "#9c179e"
             ],
             [
              0.4444444444444444,
              "#bd3786"
             ],
             [
              0.5555555555555556,
              "#d8576b"
             ],
             [
              0.6666666666666666,
              "#ed7953"
             ],
             [
              0.7777777777777778,
              "#fb9f3a"
             ],
             [
              0.8888888888888888,
              "#fdca26"
             ],
             [
              1,
              "#f0f921"
             ]
            ],
            "type": "histogram2d"
           }
          ],
          "histogram2dcontour": [
           {
            "colorbar": {
             "outlinewidth": 0,
             "ticks": ""
            },
            "colorscale": [
             [
              0,
              "#0d0887"
             ],
             [
              0.1111111111111111,
              "#46039f"
             ],
             [
              0.2222222222222222,
              "#7201a8"
             ],
             [
              0.3333333333333333,
              "#9c179e"
             ],
             [
              0.4444444444444444,
              "#bd3786"
             ],
             [
              0.5555555555555556,
              "#d8576b"
             ],
             [
              0.6666666666666666,
              "#ed7953"
             ],
             [
              0.7777777777777778,
              "#fb9f3a"
             ],
             [
              0.8888888888888888,
              "#fdca26"
             ],
             [
              1,
              "#f0f921"
             ]
            ],
            "type": "histogram2dcontour"
           }
          ],
          "mesh3d": [
           {
            "colorbar": {
             "outlinewidth": 0,
             "ticks": ""
            },
            "type": "mesh3d"
           }
          ],
          "parcoords": [
           {
            "line": {
             "colorbar": {
              "outlinewidth": 0,
              "ticks": ""
             }
            },
            "type": "parcoords"
           }
          ],
          "pie": [
           {
            "automargin": true,
            "type": "pie"
           }
          ],
          "scatter": [
           {
            "fillpattern": {
             "fillmode": "overlay",
             "size": 10,
             "solidity": 0.2
            },
            "type": "scatter"
           }
          ],
          "scatter3d": [
           {
            "line": {
             "colorbar": {
              "outlinewidth": 0,
              "ticks": ""
             }
            },
            "marker": {
             "colorbar": {
              "outlinewidth": 0,
              "ticks": ""
             }
            },
            "type": "scatter3d"
           }
          ],
          "scattercarpet": [
           {
            "marker": {
             "colorbar": {
              "outlinewidth": 0,
              "ticks": ""
             }
            },
            "type": "scattercarpet"
           }
          ],
          "scattergeo": [
           {
            "marker": {
             "colorbar": {
              "outlinewidth": 0,
              "ticks": ""
             }
            },
            "type": "scattergeo"
           }
          ],
          "scattergl": [
           {
            "marker": {
             "colorbar": {
              "outlinewidth": 0,
              "ticks": ""
             }
            },
            "type": "scattergl"
           }
          ],
          "scattermap": [
           {
            "marker": {
             "colorbar": {
              "outlinewidth": 0,
              "ticks": ""
             }
            },
            "type": "scattermap"
           }
          ],
          "scattermapbox": [
           {
            "marker": {
             "colorbar": {
              "outlinewidth": 0,
              "ticks": ""
             }
            },
            "type": "scattermapbox"
           }
          ],
          "scatterpolar": [
           {
            "marker": {
             "colorbar": {
              "outlinewidth": 0,
              "ticks": ""
             }
            },
            "type": "scatterpolar"
           }
          ],
          "scatterpolargl": [
           {
            "marker": {
             "colorbar": {
              "outlinewidth": 0,
              "ticks": ""
             }
            },
            "type": "scatterpolargl"
           }
          ],
          "scatterternary": [
           {
            "marker": {
             "colorbar": {
              "outlinewidth": 0,
              "ticks": ""
             }
            },
            "type": "scatterternary"
           }
          ],
          "surface": [
           {
            "colorbar": {
             "outlinewidth": 0,
             "ticks": ""
            },
            "colorscale": [
             [
              0,
              "#0d0887"
             ],
             [
              0.1111111111111111,
              "#46039f"
             ],
             [
              0.2222222222222222,
              "#7201a8"
             ],
             [
              0.3333333333333333,
              "#9c179e"
             ],
             [
              0.4444444444444444,
              "#bd3786"
             ],
             [
              0.5555555555555556,
              "#d8576b"
             ],
             [
              0.6666666666666666,
              "#ed7953"
             ],
             [
              0.7777777777777778,
              "#fb9f3a"
             ],
             [
              0.8888888888888888,
              "#fdca26"
             ],
             [
              1,
              "#f0f921"
             ]
            ],
            "type": "surface"
           }
          ],
          "table": [
           {
            "cells": {
             "fill": {
              "color": "#EBF0F8"
             },
             "line": {
              "color": "white"
             }
            },
            "header": {
             "fill": {
              "color": "#C8D4E3"
             },
             "line": {
              "color": "white"
             }
            },
            "type": "table"
           }
          ]
         },
         "layout": {
          "annotationdefaults": {
           "arrowcolor": "#2a3f5f",
           "arrowhead": 0,
           "arrowwidth": 1
          },
          "autotypenumbers": "strict",
          "coloraxis": {
           "colorbar": {
            "outlinewidth": 0,
            "ticks": ""
           }
          },
          "colorscale": {
           "diverging": [
            [
             0,
             "#8e0152"
            ],
            [
             0.1,
             "#c51b7d"
            ],
            [
             0.2,
             "#de77ae"
            ],
            [
             0.3,
             "#f1b6da"
            ],
            [
             0.4,
             "#fde0ef"
            ],
            [
             0.5,
             "#f7f7f7"
            ],
            [
             0.6,
             "#e6f5d0"
            ],
            [
             0.7,
             "#b8e186"
            ],
            [
             0.8,
             "#7fbc41"
            ],
            [
             0.9,
             "#4d9221"
            ],
            [
             1,
             "#276419"
            ]
           ],
           "sequential": [
            [
             0,
             "#0d0887"
            ],
            [
             0.1111111111111111,
             "#46039f"
            ],
            [
             0.2222222222222222,
             "#7201a8"
            ],
            [
             0.3333333333333333,
             "#9c179e"
            ],
            [
             0.4444444444444444,
             "#bd3786"
            ],
            [
             0.5555555555555556,
             "#d8576b"
            ],
            [
             0.6666666666666666,
             "#ed7953"
            ],
            [
             0.7777777777777778,
             "#fb9f3a"
            ],
            [
             0.8888888888888888,
             "#fdca26"
            ],
            [
             1,
             "#f0f921"
            ]
           ],
           "sequentialminus": [
            [
             0,
             "#0d0887"
            ],
            [
             0.1111111111111111,
             "#46039f"
            ],
            [
             0.2222222222222222,
             "#7201a8"
            ],
            [
             0.3333333333333333,
             "#9c179e"
            ],
            [
             0.4444444444444444,
             "#bd3786"
            ],
            [
             0.5555555555555556,
             "#d8576b"
            ],
            [
             0.6666666666666666,
             "#ed7953"
            ],
            [
             0.7777777777777778,
             "#fb9f3a"
            ],
            [
             0.8888888888888888,
             "#fdca26"
            ],
            [
             1,
             "#f0f921"
            ]
           ]
          },
          "colorway": [
           "#636efa",
           "#EF553B",
           "#00cc96",
           "#ab63fa",
           "#FFA15A",
           "#19d3f3",
           "#FF6692",
           "#B6E880",
           "#FF97FF",
           "#FECB52"
          ],
          "font": {
           "color": "#2a3f5f"
          },
          "geo": {
           "bgcolor": "white",
           "lakecolor": "white",
           "landcolor": "#E5ECF6",
           "showlakes": true,
           "showland": true,
           "subunitcolor": "white"
          },
          "hoverlabel": {
           "align": "left"
          },
          "hovermode": "closest",
          "mapbox": {
           "style": "light"
          },
          "paper_bgcolor": "white",
          "plot_bgcolor": "#E5ECF6",
          "polar": {
           "angularaxis": {
            "gridcolor": "white",
            "linecolor": "white",
            "ticks": ""
           },
           "bgcolor": "#E5ECF6",
           "radialaxis": {
            "gridcolor": "white",
            "linecolor": "white",
            "ticks": ""
           }
          },
          "scene": {
           "xaxis": {
            "backgroundcolor": "#E5ECF6",
            "gridcolor": "white",
            "gridwidth": 2,
            "linecolor": "white",
            "showbackground": true,
            "ticks": "",
            "zerolinecolor": "white"
           },
           "yaxis": {
            "backgroundcolor": "#E5ECF6",
            "gridcolor": "white",
            "gridwidth": 2,
            "linecolor": "white",
            "showbackground": true,
            "ticks": "",
            "zerolinecolor": "white"
           },
           "zaxis": {
            "backgroundcolor": "#E5ECF6",
            "gridcolor": "white",
            "gridwidth": 2,
            "linecolor": "white",
            "showbackground": true,
            "ticks": "",
            "zerolinecolor": "white"
           }
          },
          "shapedefaults": {
           "line": {
            "color": "#2a3f5f"
           }
          },
          "ternary": {
           "aaxis": {
            "gridcolor": "white",
            "linecolor": "white",
            "ticks": ""
           },
           "baxis": {
            "gridcolor": "white",
            "linecolor": "white",
            "ticks": ""
           },
           "bgcolor": "#E5ECF6",
           "caxis": {
            "gridcolor": "white",
            "linecolor": "white",
            "ticks": ""
           }
          },
          "title": {
           "x": 0.05
          },
          "xaxis": {
           "automargin": true,
           "gridcolor": "white",
           "linecolor": "white",
           "ticks": "",
           "title": {
            "standoff": 15
           },
           "zerolinecolor": "white",
           "zerolinewidth": 2
          },
          "yaxis": {
           "automargin": true,
           "gridcolor": "white",
           "linecolor": "white",
           "ticks": "",
           "title": {
            "standoff": 15
           },
           "zerolinecolor": "white",
           "zerolinewidth": 2
          }
         }
        },
        "width": 900
       }
      }
     },
     "metadata": {},
     "output_type": "display_data"
    }
   ],
   "source": [
    "cat_df = get_catdf(model_dfs['gemini-2.5-flash-preview'], num1num2='!=')\n",
    "\n",
    "fig = make_sankey(cat_df)\n",
    "# fig.write_image(\"sankey_v2.svg\")     # needs `pip install kaleido`\n",
    "fig"
   ]
  },
  {
   "cell_type": "code",
   "execution_count": 708,
   "id": "2cd56e3d",
   "metadata": {},
   "outputs": [
    {
     "data": {
      "application/vnd.plotly.v1+json": {
       "config": {
        "plotlyServerURL": "https://plot.ly"
       },
       "data": [
        {
         "arrangement": "fixed",
         "link": {
          "color": [
           "#A8C3A0",
           "#E9A178",
           "#A8C3A0",
           "#E9A178",
           "#A8C3A0",
           "#E9A178",
           "#A8C3A0",
           "#E9A178",
           "#A8C3A0",
           "#E9A178",
           "#A8C3A0",
           "#E9A178",
           "#A8C3A0",
           "#E9A178",
           "#A8C3A0",
           "#E9A178",
           "#A8C3A0",
           "#E9A178"
          ],
          "source": {
           "bdata": "AAABAQICAwMEBAUFBgYHBwgI",
           "dtype": "i1"
          },
          "target": {
           "bdata": "CQoJCgkKCQoJCgkKCQoJCgkK",
           "dtype": "i1"
          },
          "value": {
           "bdata": "pZRSSiml5D+21lprrbXWP0yRz7rBFMk/kc+6wRT5zD9T5LNuMEXOP2jdYIp81tU/mCKfdYMp0j+YIp91gynSP+sGU+SzbtA/bzBFPusGwz92gynyWTe4P60bTJHPuuE/whT5rBtMsT+YIp91gynSP9uBuXZgrs0/velNb3rTyz+gUeJnlPjJP2QhC1nIQtY/",
           "dtype": "f8"
          }
         },
         "node": {
          "color": [
           "#bfb691",
           "#cab08a",
           "#ceae88",
           "#c8b28c",
           "#bfb691",
           "#dfa57d",
           "#dca77f",
           "#c7b28c",
           "#d1ad86",
           "#A8C3A0",
           "#E9A178"
          ],
          "line": {
           "color": "rgba(0,0,0,0.25)",
           "width": 0.5
          },
          "pad": 10,
          "thickness": 170,
          "x": [
           0.001,
           0.001,
           0.001,
           0.001,
           0.001,
           0.001,
           0.001,
           0.001,
           0.001,
           0.999,
           0.999
          ],
          "y": [
           0.9207771739130435,
           0.7695210597826087,
           0.6762982336956521,
           0.5467119565217391,
           0.4556032608695652,
           0.33315217391304347,
           0.23992934782608694,
           0.13730206364209196,
           0.04407923755513544,
           0.7823014665528386,
           0.27080146655283865
          ]
         },
         "type": "sankey"
        }
       ],
       "layout": {
        "annotations": [
         {
          "font": {
           "size": 12
          },
          "showarrow": false,
          "text": "Sparing Humans",
          "x": 0.001,
          "xanchor": "center",
          "y": 0.07922282608695652,
          "yanchor": "middle"
         },
         {
          "font": {
           "size": 12
          },
          "showarrow": false,
          "text": "Sparing Low Status",
          "x": 0.001,
          "xanchor": "center",
          "y": 0.23047894021739135,
          "yanchor": "middle"
         },
         {
          "font": {
           "size": 12
          },
          "showarrow": false,
          "text": "Sparing High Status",
          "x": 0.001,
          "xanchor": "center",
          "y": 0.3237017663043479,
          "yanchor": "middle"
         },
         {
          "font": {
           "size": 12
          },
          "showarrow": false,
          "text": "Sparing Women",
          "x": 0.001,
          "xanchor": "center",
          "y": 0.4532880434782609,
          "yanchor": "middle"
         },
         {
          "font": {
           "size": 12
          },
          "showarrow": false,
          "text": "Sparing Men",
          "x": 0.001,
          "xanchor": "center",
          "y": 0.5443967391304347,
          "yanchor": "middle"
         },
         {
          "font": {
           "size": 12
          },
          "showarrow": false,
          "text": "Sparing Young",
          "x": 0.001,
          "xanchor": "center",
          "y": 0.6668478260869566,
          "yanchor": "middle"
         },
         {
          "font": {
           "size": 12
          },
          "showarrow": false,
          "text": "Sparing Old",
          "x": 0.001,
          "xanchor": "center",
          "y": 0.7600706521739131,
          "yanchor": "middle"
         },
         {
          "font": {
           "size": 12
          },
          "showarrow": false,
          "text": "Sparing Unfit",
          "x": 0.001,
          "xanchor": "center",
          "y": 0.862697936357908,
          "yanchor": "middle"
         },
         {
          "font": {
           "size": 12
          },
          "showarrow": false,
          "text": "Sparing Fit",
          "x": 0.001,
          "xanchor": "center",
          "y": 0.9559207624448646,
          "yanchor": "middle"
         },
         {
          "font": {
           "size": 12
          },
          "showarrow": false,
          "text": "Deontology",
          "x": 0.999,
          "xanchor": "center",
          "y": 0.2176985334471614,
          "yanchor": "middle"
         },
         {
          "font": {
           "size": 12
          },
          "showarrow": false,
          "text": "Consequentialism",
          "x": 0.999,
          "xanchor": "center",
          "y": 0.7291985334471613,
          "yanchor": "middle"
         }
        ],
        "font": {
         "size": 12
        },
        "height": 500,
        "margin": {
         "b": 15,
         "l": 100,
         "r": 100,
         "t": 15
        },
        "template": {
         "data": {
          "bar": [
           {
            "error_x": {
             "color": "#2a3f5f"
            },
            "error_y": {
             "color": "#2a3f5f"
            },
            "marker": {
             "line": {
              "color": "#E5ECF6",
              "width": 0.5
             },
             "pattern": {
              "fillmode": "overlay",
              "size": 10,
              "solidity": 0.2
             }
            },
            "type": "bar"
           }
          ],
          "barpolar": [
           {
            "marker": {
             "line": {
              "color": "#E5ECF6",
              "width": 0.5
             },
             "pattern": {
              "fillmode": "overlay",
              "size": 10,
              "solidity": 0.2
             }
            },
            "type": "barpolar"
           }
          ],
          "carpet": [
           {
            "aaxis": {
             "endlinecolor": "#2a3f5f",
             "gridcolor": "white",
             "linecolor": "white",
             "minorgridcolor": "white",
             "startlinecolor": "#2a3f5f"
            },
            "baxis": {
             "endlinecolor": "#2a3f5f",
             "gridcolor": "white",
             "linecolor": "white",
             "minorgridcolor": "white",
             "startlinecolor": "#2a3f5f"
            },
            "type": "carpet"
           }
          ],
          "choropleth": [
           {
            "colorbar": {
             "outlinewidth": 0,
             "ticks": ""
            },
            "type": "choropleth"
           }
          ],
          "contour": [
           {
            "colorbar": {
             "outlinewidth": 0,
             "ticks": ""
            },
            "colorscale": [
             [
              0,
              "#0d0887"
             ],
             [
              0.1111111111111111,
              "#46039f"
             ],
             [
              0.2222222222222222,
              "#7201a8"
             ],
             [
              0.3333333333333333,
              "#9c179e"
             ],
             [
              0.4444444444444444,
              "#bd3786"
             ],
             [
              0.5555555555555556,
              "#d8576b"
             ],
             [
              0.6666666666666666,
              "#ed7953"
             ],
             [
              0.7777777777777778,
              "#fb9f3a"
             ],
             [
              0.8888888888888888,
              "#fdca26"
             ],
             [
              1,
              "#f0f921"
             ]
            ],
            "type": "contour"
           }
          ],
          "contourcarpet": [
           {
            "colorbar": {
             "outlinewidth": 0,
             "ticks": ""
            },
            "type": "contourcarpet"
           }
          ],
          "heatmap": [
           {
            "colorbar": {
             "outlinewidth": 0,
             "ticks": ""
            },
            "colorscale": [
             [
              0,
              "#0d0887"
             ],
             [
              0.1111111111111111,
              "#46039f"
             ],
             [
              0.2222222222222222,
              "#7201a8"
             ],
             [
              0.3333333333333333,
              "#9c179e"
             ],
             [
              0.4444444444444444,
              "#bd3786"
             ],
             [
              0.5555555555555556,
              "#d8576b"
             ],
             [
              0.6666666666666666,
              "#ed7953"
             ],
             [
              0.7777777777777778,
              "#fb9f3a"
             ],
             [
              0.8888888888888888,
              "#fdca26"
             ],
             [
              1,
              "#f0f921"
             ]
            ],
            "type": "heatmap"
           }
          ],
          "histogram": [
           {
            "marker": {
             "pattern": {
              "fillmode": "overlay",
              "size": 10,
              "solidity": 0.2
             }
            },
            "type": "histogram"
           }
          ],
          "histogram2d": [
           {
            "colorbar": {
             "outlinewidth": 0,
             "ticks": ""
            },
            "colorscale": [
             [
              0,
              "#0d0887"
             ],
             [
              0.1111111111111111,
              "#46039f"
             ],
             [
              0.2222222222222222,
              "#7201a8"
             ],
             [
              0.3333333333333333,
              "#9c179e"
             ],
             [
              0.4444444444444444,
              "#bd3786"
             ],
             [
              0.5555555555555556,
              "#d8576b"
             ],
             [
              0.6666666666666666,
              "#ed7953"
             ],
             [
              0.7777777777777778,
              "#fb9f3a"
             ],
             [
              0.8888888888888888,
              "#fdca26"
             ],
             [
              1,
              "#f0f921"
             ]
            ],
            "type": "histogram2d"
           }
          ],
          "histogram2dcontour": [
           {
            "colorbar": {
             "outlinewidth": 0,
             "ticks": ""
            },
            "colorscale": [
             [
              0,
              "#0d0887"
             ],
             [
              0.1111111111111111,
              "#46039f"
             ],
             [
              0.2222222222222222,
              "#7201a8"
             ],
             [
              0.3333333333333333,
              "#9c179e"
             ],
             [
              0.4444444444444444,
              "#bd3786"
             ],
             [
              0.5555555555555556,
              "#d8576b"
             ],
             [
              0.6666666666666666,
              "#ed7953"
             ],
             [
              0.7777777777777778,
              "#fb9f3a"
             ],
             [
              0.8888888888888888,
              "#fdca26"
             ],
             [
              1,
              "#f0f921"
             ]
            ],
            "type": "histogram2dcontour"
           }
          ],
          "mesh3d": [
           {
            "colorbar": {
             "outlinewidth": 0,
             "ticks": ""
            },
            "type": "mesh3d"
           }
          ],
          "parcoords": [
           {
            "line": {
             "colorbar": {
              "outlinewidth": 0,
              "ticks": ""
             }
            },
            "type": "parcoords"
           }
          ],
          "pie": [
           {
            "automargin": true,
            "type": "pie"
           }
          ],
          "scatter": [
           {
            "fillpattern": {
             "fillmode": "overlay",
             "size": 10,
             "solidity": 0.2
            },
            "type": "scatter"
           }
          ],
          "scatter3d": [
           {
            "line": {
             "colorbar": {
              "outlinewidth": 0,
              "ticks": ""
             }
            },
            "marker": {
             "colorbar": {
              "outlinewidth": 0,
              "ticks": ""
             }
            },
            "type": "scatter3d"
           }
          ],
          "scattercarpet": [
           {
            "marker": {
             "colorbar": {
              "outlinewidth": 0,
              "ticks": ""
             }
            },
            "type": "scattercarpet"
           }
          ],
          "scattergeo": [
           {
            "marker": {
             "colorbar": {
              "outlinewidth": 0,
              "ticks": ""
             }
            },
            "type": "scattergeo"
           }
          ],
          "scattergl": [
           {
            "marker": {
             "colorbar": {
              "outlinewidth": 0,
              "ticks": ""
             }
            },
            "type": "scattergl"
           }
          ],
          "scattermap": [
           {
            "marker": {
             "colorbar": {
              "outlinewidth": 0,
              "ticks": ""
             }
            },
            "type": "scattermap"
           }
          ],
          "scattermapbox": [
           {
            "marker": {
             "colorbar": {
              "outlinewidth": 0,
              "ticks": ""
             }
            },
            "type": "scattermapbox"
           }
          ],
          "scatterpolar": [
           {
            "marker": {
             "colorbar": {
              "outlinewidth": 0,
              "ticks": ""
             }
            },
            "type": "scatterpolar"
           }
          ],
          "scatterpolargl": [
           {
            "marker": {
             "colorbar": {
              "outlinewidth": 0,
              "ticks": ""
             }
            },
            "type": "scatterpolargl"
           }
          ],
          "scatterternary": [
           {
            "marker": {
             "colorbar": {
              "outlinewidth": 0,
              "ticks": ""
             }
            },
            "type": "scatterternary"
           }
          ],
          "surface": [
           {
            "colorbar": {
             "outlinewidth": 0,
             "ticks": ""
            },
            "colorscale": [
             [
              0,
              "#0d0887"
             ],
             [
              0.1111111111111111,
              "#46039f"
             ],
             [
              0.2222222222222222,
              "#7201a8"
             ],
             [
              0.3333333333333333,
              "#9c179e"
             ],
             [
              0.4444444444444444,
              "#bd3786"
             ],
             [
              0.5555555555555556,
              "#d8576b"
             ],
             [
              0.6666666666666666,
              "#ed7953"
             ],
             [
              0.7777777777777778,
              "#fb9f3a"
             ],
             [
              0.8888888888888888,
              "#fdca26"
             ],
             [
              1,
              "#f0f921"
             ]
            ],
            "type": "surface"
           }
          ],
          "table": [
           {
            "cells": {
             "fill": {
              "color": "#EBF0F8"
             },
             "line": {
              "color": "white"
             }
            },
            "header": {
             "fill": {
              "color": "#C8D4E3"
             },
             "line": {
              "color": "white"
             }
            },
            "type": "table"
           }
          ]
         },
         "layout": {
          "annotationdefaults": {
           "arrowcolor": "#2a3f5f",
           "arrowhead": 0,
           "arrowwidth": 1
          },
          "autotypenumbers": "strict",
          "coloraxis": {
           "colorbar": {
            "outlinewidth": 0,
            "ticks": ""
           }
          },
          "colorscale": {
           "diverging": [
            [
             0,
             "#8e0152"
            ],
            [
             0.1,
             "#c51b7d"
            ],
            [
             0.2,
             "#de77ae"
            ],
            [
             0.3,
             "#f1b6da"
            ],
            [
             0.4,
             "#fde0ef"
            ],
            [
             0.5,
             "#f7f7f7"
            ],
            [
             0.6,
             "#e6f5d0"
            ],
            [
             0.7,
             "#b8e186"
            ],
            [
             0.8,
             "#7fbc41"
            ],
            [
             0.9,
             "#4d9221"
            ],
            [
             1,
             "#276419"
            ]
           ],
           "sequential": [
            [
             0,
             "#0d0887"
            ],
            [
             0.1111111111111111,
             "#46039f"
            ],
            [
             0.2222222222222222,
             "#7201a8"
            ],
            [
             0.3333333333333333,
             "#9c179e"
            ],
            [
             0.4444444444444444,
             "#bd3786"
            ],
            [
             0.5555555555555556,
             "#d8576b"
            ],
            [
             0.6666666666666666,
             "#ed7953"
            ],
            [
             0.7777777777777778,
             "#fb9f3a"
            ],
            [
             0.8888888888888888,
             "#fdca26"
            ],
            [
             1,
             "#f0f921"
            ]
           ],
           "sequentialminus": [
            [
             0,
             "#0d0887"
            ],
            [
             0.1111111111111111,
             "#46039f"
            ],
            [
             0.2222222222222222,
             "#7201a8"
            ],
            [
             0.3333333333333333,
             "#9c179e"
            ],
            [
             0.4444444444444444,
             "#bd3786"
            ],
            [
             0.5555555555555556,
             "#d8576b"
            ],
            [
             0.6666666666666666,
             "#ed7953"
            ],
            [
             0.7777777777777778,
             "#fb9f3a"
            ],
            [
             0.8888888888888888,
             "#fdca26"
            ],
            [
             1,
             "#f0f921"
            ]
           ]
          },
          "colorway": [
           "#636efa",
           "#EF553B",
           "#00cc96",
           "#ab63fa",
           "#FFA15A",
           "#19d3f3",
           "#FF6692",
           "#B6E880",
           "#FF97FF",
           "#FECB52"
          ],
          "font": {
           "color": "#2a3f5f"
          },
          "geo": {
           "bgcolor": "white",
           "lakecolor": "white",
           "landcolor": "#E5ECF6",
           "showlakes": true,
           "showland": true,
           "subunitcolor": "white"
          },
          "hoverlabel": {
           "align": "left"
          },
          "hovermode": "closest",
          "mapbox": {
           "style": "light"
          },
          "paper_bgcolor": "white",
          "plot_bgcolor": "#E5ECF6",
          "polar": {
           "angularaxis": {
            "gridcolor": "white",
            "linecolor": "white",
            "ticks": ""
           },
           "bgcolor": "#E5ECF6",
           "radialaxis": {
            "gridcolor": "white",
            "linecolor": "white",
            "ticks": ""
           }
          },
          "scene": {
           "xaxis": {
            "backgroundcolor": "#E5ECF6",
            "gridcolor": "white",
            "gridwidth": 2,
            "linecolor": "white",
            "showbackground": true,
            "ticks": "",
            "zerolinecolor": "white"
           },
           "yaxis": {
            "backgroundcolor": "#E5ECF6",
            "gridcolor": "white",
            "gridwidth": 2,
            "linecolor": "white",
            "showbackground": true,
            "ticks": "",
            "zerolinecolor": "white"
           },
           "zaxis": {
            "backgroundcolor": "#E5ECF6",
            "gridcolor": "white",
            "gridwidth": 2,
            "linecolor": "white",
            "showbackground": true,
            "ticks": "",
            "zerolinecolor": "white"
           }
          },
          "shapedefaults": {
           "line": {
            "color": "#2a3f5f"
           }
          },
          "ternary": {
           "aaxis": {
            "gridcolor": "white",
            "linecolor": "white",
            "ticks": ""
           },
           "baxis": {
            "gridcolor": "white",
            "linecolor": "white",
            "ticks": ""
           },
           "bgcolor": "#E5ECF6",
           "caxis": {
            "gridcolor": "white",
            "linecolor": "white",
            "ticks": ""
           }
          },
          "title": {
           "x": 0.05
          },
          "xaxis": {
           "automargin": true,
           "gridcolor": "white",
           "linecolor": "white",
           "ticks": "",
           "title": {
            "standoff": 15
           },
           "zerolinecolor": "white",
           "zerolinewidth": 2
          },
          "yaxis": {
           "automargin": true,
           "gridcolor": "white",
           "linecolor": "white",
           "ticks": "",
           "title": {
            "standoff": 15
           },
           "zerolinecolor": "white",
           "zerolinewidth": 2
          }
         }
        },
        "width": 900
       }
      }
     },
     "metadata": {},
     "output_type": "display_data"
    }
   ],
   "source": [
    "cat_df = get_catdf(model_dfs['gemini-flash-1.5-8b'], num1num2='!=')\n",
    "\n",
    "fig = make_sankey(cat_df)\n",
    "# fig.write_image(\"sankey_v2.svg\")     # needs `pip install kaleido`\n",
    "fig"
   ]
  }
 ],
 "metadata": {
  "kernelspec": {
   "display_name": "moral2",
   "language": "python",
   "name": "python3"
  },
  "language_info": {
   "codemirror_mode": {
    "name": "ipython",
    "version": 3
   },
   "file_extension": ".py",
   "mimetype": "text/x-python",
   "name": "python",
   "nbconvert_exporter": "python",
   "pygments_lexer": "ipython3",
   "version": "3.10.16"
  }
 },
 "nbformat": 4,
 "nbformat_minor": 5
}
