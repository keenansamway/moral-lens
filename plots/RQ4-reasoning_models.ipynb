{
 "cells": [
  {
   "cell_type": "markdown",
   "id": "11209968",
   "metadata": {},
   "source": [
    "## Setup"
   ]
  },
  {
   "cell_type": "code",
   "execution_count": null,
   "id": "9c7719ec",
   "metadata": {},
   "outputs": [],
   "source": [
    "%load_ext autoreload\n",
    "%autoreload 2\n",
    "from glob import glob\n",
    "import os\n",
    "import pandas as pd\n",
    "\n",
    "from plots.plotting_functions import *"
   ]
  },
  {
   "cell_type": "code",
   "execution_count": null,
   "id": "3bcc582c",
   "metadata": {},
   "outputs": [],
   "source": [
    "decision_model_ids = [\n",
    "    # \"qwen/qwq-32b\",\n",
    "    \"qwen/qwen-max\",\n",
    "\n",
    "    \"deepseek/deepseek-chat-v3-0324\",\n",
    "    # \"deepseek/deepseek-r1\",\n",
    "    # \"deepseek/deepseek-r1-distill-llama-70b\",\n",
    "]\n",
    "RESULTS_DIR = \"data/20250422/all_models/\"\n"
   ]
  },
  {
   "cell_type": "markdown",
   "id": "0bda2822",
   "metadata": {},
   "source": [
    "## Plots"
   ]
  },
  {
   "cell_type": "code",
   "execution_count": null,
   "id": "09ea4cad",
   "metadata": {},
   "outputs": [],
   "source": [
    "file_paths = [fp for fp in glob(f\"{RESULTS_DIR}/judge/*.csv\")]\n",
    "file_paths = [fp for fp in file_paths if any(model_id in fp for model_id in decision_model_ids)]\n",
    "file_paths.sort(key=lambda x: next((i for i, model_id in enumerate(decision_model_ids) if model_id in x), len(decision_model_ids)))\n",
    "\n",
    "# Create a dictionary to store dataframes by model\n",
    "model_dfs = {}\n",
    "\n",
    "# Group dataframes by model\n",
    "for file in file_paths:\n",
    "    # Extract model_id and sample number from filename\n",
    "    filename = os.path.basename(file)\n",
    "    model_id = filename.split('_s')[0]\n",
    "    sample_num = filename.split('_s')[1].replace('.csv', '')\n",
    "\n",
    "    if model_id not in model_dfs:\n",
    "        model_dfs[model_id] = {}\n",
    "\n",
    "    model_dfs[model_id][sample_num] = pd.read_csv(file, keep_default_na=False)"
   ]
  },
  {
   "cell_type": "code",
   "execution_count": null,
   "id": "e71132a4",
   "metadata": {},
   "outputs": [],
   "source": [
    "%load_ext autoreload\n",
    "%autoreload 2\n",
    "from plots.plotting_functions import *\n",
    "\n",
    "file_paths = [fp for fp in glob(f\"{RESULTS_DIR}/judge/*.csv\")]\n",
    "file_paths = [fp for fp in file_paths if any(model_id in fp for model_id in decision_model_ids)]\n",
    "file_paths.sort(key=lambda x: next((i for i, model_id in enumerate(decision_model_ids) if model_id in x), len(decision_model_ids)))\n",
    "\n",
    "df_rationales = create_stacked_rationales_barchart(\n",
    "    file_paths,\n",
    "    figsize=(9, 8),\n",
    "    # save_dir=f'{FIGURE_SAVE_DIR}/MLR-reasoning_model.pdf',\n",
    "    # first_reason_only=True,\n",
    "    # sort_consequentialist=True,\n",
    "    skip_refusals=True,\n",
    "    normalize_by_count=False,\n",
    "    normalize_by_phenomenon=True,\n",
    "    return_dataframe=True,\n",
    ")\n",
    "df = df_rationales.copy()"
   ]
  },
  {
   "cell_type": "code",
   "execution_count": null,
   "id": "01d02d3c",
   "metadata": {},
   "outputs": [],
   "source": []
  }
 ],
 "metadata": {
  "kernelspec": {
   "display_name": "moral2",
   "language": "python",
   "name": "python3"
  },
  "language_info": {
   "codemirror_mode": {
    "name": "ipython",
    "version": 3
   },
   "file_extension": ".py",
   "mimetype": "text/x-python",
   "name": "python",
   "nbconvert_exporter": "python",
   "pygments_lexer": "ipython3",
   "version": "3.10.16"
  }
 },
 "nbformat": 4,
 "nbformat_minor": 5
}
