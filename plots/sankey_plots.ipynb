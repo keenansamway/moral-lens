{
 "cells": [
  {
   "cell_type": "code",
   "execution_count": 2,
   "id": "402860d5",
   "metadata": {},
   "outputs": [],
   "source": [
    "import json\n",
    "from glob import glob\n",
    "import os\n",
    "from datetime import datetime\n",
    "from matplotlib.legend import Legend\n",
    "import matplotlib.pyplot as plt\n",
    "import matplotlib.dates as mdates\n",
    "from collections import Counter\n",
    "import pandas as pd\n",
    "import numpy as np\n",
    "import colorsys\n",
    "from pathlib import Path\n",
    "from matplotlib.lines import Line2D\n",
    "import matplotlib.patches as mpatches\n",
    "import seaborn as sns\n",
    "import plotly.graph_objects as go\n",
    "from itertools import combinations\n",
    "\n",
    "category2two_groups = {\n",
    "    'SocialValue':    ['Low', 'High'],\n",
    "    'Gender':         ['Female', 'Male'],\n",
    "    'Age':            ['Young', 'Old'],\n",
    "    'Fitness':        ['Unfit', 'Fit'],\n",
    "}\n",
    "\n",
    "TAXONOMY_MACRO = {\n",
    "    \"Consequentialism\": [\"MaxDependents\", \"MaxFutureContribution\", \"MaxHope\", \"MaxLifeLength\", \"MaxNumOfLives\", \"SaveTheStrong\", \"MaxInspiration\", \"MaxPastContribution\"],\n",
    "    \"Deontology\": [\"SaveTheUnderprivileged\", \"Egalitarianism\", \"SaveTheVulnerable\", \"AnimalRights\", \"PickRandomly\", \"AppealToLaw\", \"RetributiveJustice\", \"FavorHumans\"],\n",
    "    \"Other\": [\"Other\"],\n",
    "    \"Refusal\": [\"Refusal\", \"\"],\n",
    "}\n",
    "\n",
    "TAXONOMY_MACRO_MAP = {\n",
    "    micro: macro\n",
    "    for macro, micro_list in TAXONOMY_MACRO.items()\n",
    "    for micro in micro_list\n",
    "}"
   ]
  },
  {
   "cell_type": "markdown",
   "id": "7b09f795",
   "metadata": {},
   "source": [
    "## Plotting functions"
   ]
  },
  {
   "cell_type": "code",
   "execution_count": 8,
   "id": "894c1750",
   "metadata": {},
   "outputs": [],
   "source": [
    "def get_catdf_single(df: pd.DataFrame, num1num2):\n",
    "    results = {}\n",
    "\n",
    "    for category, two_groups in category2two_groups.items():\n",
    "        # Filter dataframe for current phenomenon category\n",
    "        category_df = df[df['phenomenon_category'] == category]\n",
    "\n",
    "        if num1num2 == '<':\n",
    "            # Compute < for odd rows and > for even rows\n",
    "            # For filtering data based on number comparison and row position\n",
    "            filtered_rows = []\n",
    "            for idx, row in category_df.iterrows():\n",
    "                if idx % 2 == 0:  # Even row (0-indexed)\n",
    "                    if row['num1'] < row['num2']:\n",
    "                        filtered_rows.append(idx)\n",
    "                else:  # Odd row\n",
    "                    if row['num1'] > row['num2']:\n",
    "                        filtered_rows.append(idx)\n",
    "\n",
    "            category_df = category_df.loc[filtered_rows]\n",
    "\n",
    "        elif num1num2 == '>':\n",
    "            # Compute > for odd rows and < for even rows\n",
    "            # For filtering data based on number comparison and row position\n",
    "            filtered_rows = []\n",
    "            for idx, row in category_df.iterrows():\n",
    "                if idx % 2 == 0:\n",
    "                    if row['num1'] > row['num2']:\n",
    "                        filtered_rows.append(idx)\n",
    "                else:\n",
    "                    if row['num1'] < row['num2']:\n",
    "                        filtered_rows.append(idx)\n",
    "\n",
    "            category_df = category_df.loc[filtered_rows]\n",
    "        elif num1num2 == '==':\n",
    "            category_df = category_df[category_df['num1'] == category_df['num2']]\n",
    "        elif num1num2 == '!=':\n",
    "            category_df = category_df[category_df['num1'] != category_df['num2']]\n",
    "        else:\n",
    "            pass\n",
    "\n",
    "        # Process each group in the category\n",
    "        for group in two_groups:\n",
    "            group_df = category_df[category_df['decision_category'] == group]\n",
    "\n",
    "            # Initialize counters\n",
    "            macro_counts = {}\n",
    "            total_rationales = 0\n",
    "\n",
    "            # Process each row's rationales\n",
    "            for rationales_str in group_df['rationales']:\n",
    "                if isinstance(rationales_str, str) and rationales_str:\n",
    "                    rationales_list = rationales_str.split('; ')\n",
    "                    for rationale in rationales_list:\n",
    "                        total_rationales += 1\n",
    "                        # Use TAXONOMY_MACRO_MAP to categorize each rationale\n",
    "                        if rationale in TAXONOMY_MACRO_MAP:\n",
    "                            macro_category = TAXONOMY_MACRO_MAP[rationale]\n",
    "                            if macro_category not in macro_counts:\n",
    "                                macro_counts[macro_category] = 0\n",
    "                            macro_counts[macro_category] += 1\n",
    "\n",
    "            # Calculate proportions\n",
    "            if total_rationales > 0:\n",
    "                if category not in results:\n",
    "                    results[category] = {}\n",
    "\n",
    "                results[category][group] = {\n",
    "                    macro: count / total_rationales for macro, count in macro_counts.items()\n",
    "                }\n",
    "\n",
    "                # Add totals for reference\n",
    "                results[category][group]['Total_Rationales'] = total_rationales\n",
    "                results[category][group]['Count'] = len(group_df)\n",
    "                results[category][group]['ConsequentialismCount'] = macro_counts.get('Consequentialism', 0)\n",
    "                results[category][group]['DeontologyCount'] = macro_counts.get('Deontology', 0)\n",
    "                results[category][group]['OtherCount'] = macro_counts.get('Other', 0)\n",
    "            else:\n",
    "                # Handle the case where there are no rationales\n",
    "                if category not in results:\n",
    "                    results[category] = {}\n",
    "\n",
    "                results[category][group] = {\n",
    "                    'Consequentialism': 0.0, 'Deontology': 0.0, 'Other': 0.0,\n",
    "                    'Total_Rationales': 0, 'Count': len(group_df)\n",
    "                }\n",
    "\n",
    "    # Create a DataFrame for better visualization\n",
    "    cat_df = pd.DataFrame()\n",
    "\n",
    "    for category, groups in results.items():\n",
    "        for group, values in groups.items():\n",
    "            row_data = {\n",
    "                'Category': category,\n",
    "                'Subcategory': group,\n",
    "            }\n",
    "\n",
    "            # for macro in ['Consequentialism', 'Deontology', 'Other']:\n",
    "            #     row_data[macro] = values.get(macro, 0)\n",
    "\n",
    "            for macro in ['Count', 'ConsequentialismCount', 'DeontologyCount', 'OtherCount']:\n",
    "                row_data[macro] = values.get(macro, 0)\n",
    "\n",
    "            row_data['Total_Rationales'] = values.get('Total_Rationales', 0)\n",
    "\n",
    "            cat_df = pd.concat([cat_df, pd.DataFrame([row_data])], ignore_index=True)\n",
    "\n",
    "    # Organize the DataFrame\n",
    "    cat_df = cat_df.sort_values(['Category', 'Subcategory'])\n",
    "    # subcategory_df = subcategory_df[['Category', 'Subcategory', 'Count', 'Consequentialism', 'Deontology', 'Other', 'Total_Rationales']]\n",
    "\n",
    "    cat_df['DecisionCount'] = cat_df.groupby('Category')['Count'].transform('sum').astype(int)\n",
    "\n",
    "    # Display results\n",
    "    return cat_df\n",
    "\n",
    "\n",
    "def get_catdf_all_samples(dfs: dict, num1num2):\n",
    "    \"\"\"Get the category dataframe for all samples in a model.\"\"\"\n",
    "    all_cat_dfs = []\n",
    "    for sample_num, df in dfs.items():\n",
    "        cat_df = get_catdf_single(df, num1num2)\n",
    "        cat_df['Sample'] = sample_num\n",
    "        all_cat_dfs.append(cat_df)\n",
    "\n",
    "    # Concatenate all dataframes\n",
    "    all_cat_df = pd.concat(all_cat_dfs, ignore_index=True)\n",
    "\n",
    "    # Sum counts for each category and subcategory\n",
    "    all_cat_df = all_cat_df.groupby(['Category', 'Subcategory']).sum().reset_index()\n",
    "    all_cat_df = all_cat_df.drop(columns=['Sample'])\n",
    "    return all_cat_df\n",
    "\n",
    "\n",
    "def get_catdf(df: dict | pd.DataFrame, num1num2=''):\n",
    "    if isinstance(df, dict):\n",
    "        return get_catdf_all_samples(df, num1num2)\n",
    "    elif isinstance(df, pd.DataFrame):\n",
    "        return get_catdf_single(df, num1num2)\n",
    "    else:\n",
    "        raise ValueError(\"Input must be a dictionary of dataframes or a single dataframe.\")"
   ]
  },
  {
   "cell_type": "code",
   "execution_count": 16,
   "id": "01551884",
   "metadata": {},
   "outputs": [],
   "source": [
    "\n",
    "# -----------------------------------------------------------\n",
    "#  the sankey function\n",
    "# -----------------------------------------------------------\n",
    "def make_sankey(\n",
    "        df: pd.DataFrame,\n",
    "        node_pad: int = 15,\n",
    "        node_thickness: int = 170,\n",
    "        width: int = 700,\n",
    "        height: int = 500,\n",
    ") -> go.Figure:\n",
    "    \"\"\"\n",
    "    Build a static Sankey / alluvial plot where:\n",
    "      • Left-hand nodes (sub-categories) follow the order of\n",
    "        `category2two_groups`.\n",
    "      • All links (“snakes”) are coloured by ethical stance.\n",
    "      • Right-hand nodes (stances) use the same palette.\n",
    "    \"\"\"\n",
    "    # -----------------------------------------------------------\n",
    "    #  setup\n",
    "    # -----------------------------------------------------------\n",
    "    STANCE_COLOURS = {\n",
    "        # \"Consequentialism\": \"#E0B274\", # goldish-yellow\n",
    "        # \"Deontology\":       \"#8CC888\", # light-green\n",
    "\n",
    "        # \"Consequentialism\": \"#E07474\",  # Deeper pastel red\n",
    "        \"Deontology\":       \"#74A0E0\",  # Deeper pastel blue\n",
    "\n",
    "        \"Consequentialism\": \"#E9A178\",  # Dusty Orange\n",
    "        # \"Deontology\":       \"#A8C3A0\",  # Muted Sage Green\n",
    "\n",
    "        \"Other\":            \"#D9D9D9\",\n",
    "        \"None\":             \"#000000\",\n",
    "    }\n",
    "\n",
    "    # stance_cols = [\"Consequentialism\", \"Deontology\", \"Other\"]\n",
    "    stance_cols = [\"Other\", \"Deontology\", \"Consequentialism\"]\n",
    "\n",
    "    category2two_groups = {\n",
    "        # 'Species':        ['Animals', 'Humans'],\n",
    "        'SocialValue':    ['Low', 'High'],\n",
    "        'Gender':         ['Female', 'Male'],\n",
    "        'Age':            ['Young', 'Old'],\n",
    "        'Fitness':        ['Unfit', 'Fit'],\n",
    "        # 'Utilitarianism': ['Less', 'More'],\n",
    "    }\n",
    "\n",
    "    label_map = {\n",
    "        \"Animals\": \"Sparing Animals\",\n",
    "        \"Humans\": \"Sparing Humans\",\n",
    "        \"Low\": \"Sparing Low Status\",\n",
    "        \"High\": \"Sparing High Status\",\n",
    "        \"Female\": \"Sparing Women\",\n",
    "        \"Male\": \"Sparing Men\",\n",
    "        \"Young\": \"Sparing Young\",\n",
    "        \"Old\": \"Sparing Old\",\n",
    "        \"Unfit\": \"Sparing Unfit\",\n",
    "        \"Fit\": \"Sparing Fit\",\n",
    "        \"Less\": \"Sparing Individuals\",\n",
    "        \"More\": \"Sparing Groups\",\n",
    "        \"Consequentialism\": \"Consequentialism\",\n",
    "        \"Deontology\": \"Deontology\",\n",
    "        \"Other\": \"Other\",\n",
    "    }\n",
    "\n",
    "    # ------------------------------------------------------------------\n",
    "    # 1) Figure out ordered sub-category list from the dict’s insertion order\n",
    "    # ------------------------------------------------------------------\n",
    "    subcats_ordered = [\n",
    "        subgroup\n",
    "        for _, two in category2two_groups.items()\n",
    "        for subgroup in two\n",
    "    ]\n",
    "\n",
    "    # ------------------------------------------------------------------\n",
    "    # 2) Re-index dataframe so rows follow that order\n",
    "    # ------------------------------------------------------------------\n",
    "    df_ord = (\n",
    "        df.set_index(\"Subcategory\")\n",
    "            .reindex(subcats_ordered)    # will raise if a subcat is missing\n",
    "            .reset_index()\n",
    "    )\n",
    "\n",
    "    # ------------------------------------------------------------------\n",
    "    # 3) Explode into one row per (subcat, stance) with absolute flow value\n",
    "    # ------------------------------------------------------------------\n",
    "    flows = []\n",
    "    for _, row in df_ord.iterrows():\n",
    "        for stance in stance_cols:\n",
    "            # Values are raw counts of rationales per macro category\n",
    "            # flow_value = row[stance+\"Count\"]\n",
    "\n",
    "            # Values are relative counts per row\n",
    "            # row_count = row['Total_Rationales']\n",
    "            # flow_value = row[stance+\"Count\"] / row_count if row_count > 0 else 0\n",
    "\n",
    "            # Values are relative counts of rationales per sub-category\n",
    "            category = row[\"Category\"]\n",
    "            cat_count = df_ord[df_ord['Category'] == category]['Total_Rationales'].sum()\n",
    "            flow_value = row[stance+\"Count\"] / cat_count if cat_count > 0 else 0\n",
    "\n",
    "            if flow_value > 0 and not any(stance == r for r in [\"Refusal\", \"\", \"Other\"]):   # omit empty ribbons\n",
    "                flows.append(\n",
    "                    dict(\n",
    "                        source=row[\"Subcategory\"],\n",
    "                        target=stance,\n",
    "                        value=flow_value,\n",
    "                    )\n",
    "                )\n",
    "    flow_df = pd.DataFrame(flows)\n",
    "\n",
    "    # ------------------------------------------------------------------\n",
    "    # 4) Build node & link arrays that Plotly expects\n",
    "    # ------------------------------------------------------------------\n",
    "    # subcats_present = [s for s in flow_df.source.unique() if s in subcats_ordered]\n",
    "    # stance_present = [s for s in flow_df.target.unique() if s in stance_cols]\n",
    "\n",
    "    subcats_present = [s for s in subcats_ordered if s in flow_df.source.unique()]\n",
    "    stance_present = [s for s in stance_cols if s in flow_df.target.unique()]\n",
    "\n",
    "    nodes = subcats_present + stance_present\n",
    "    node_index = {name: i for i, name in enumerate(nodes)}\n",
    "\n",
    "    link_source = flow_df[\"source\"].map(node_index)\n",
    "    link_target = flow_df[\"target\"].map(node_index)\n",
    "    link_value  = flow_df[\"value\"]\n",
    "    link_colour = flow_df[\"target\"].map(STANCE_COLOURS)   # <-- stance colours\n",
    "\n",
    "    eps = 1e-3\n",
    "    x = [eps] * len(subcats_present) + [1 - eps] * len(stance_present)\n",
    "    y = (\n",
    "        [0.0] * len(subcats_present) +\n",
    "        [0.0] * len(stance_present)  # Placeholder values that will be updated\n",
    "    )\n",
    "\n",
    "    # Update y positions for source nodes\n",
    "    gap_intra = 0.010     # spacing between nodes in the same category\n",
    "    gap_inter = 0.060     # spacing between categories\n",
    "\n",
    "    # Build a helper table with the total flow leaving every sub-category\n",
    "    source_df = (\n",
    "        flow_df.groupby('source', as_index=False)['value']\n",
    "        .sum()\n",
    "        .assign(percentage=lambda d: d['value'] / d['value'].sum())\n",
    "    )\n",
    "\n",
    "    # Preserve the dict insertion order of the macro-categories,\n",
    "    # but keep only the sub-categories that are actually present.\n",
    "    cats_present = [\n",
    "        (cat, [s for s in category2two_groups[cat] if s in subcats_present])\n",
    "        for cat in category2two_groups\n",
    "        if any(s in subcats_present for s in category2two_groups[cat])\n",
    "    ]\n",
    "\n",
    "    # Count how many gaps we will need\n",
    "    n_intra  = sum(max(len(subs) - 1, 0) for _, subs in cats_present)\n",
    "    n_inter  = max(len(cats_present) - 1, 0)\n",
    "\n",
    "    # Vertical real-estate left for the bars after the gaps\n",
    "    space_for_bars = 1 - 2 * eps - n_intra * gap_intra - n_inter * gap_inter\n",
    "\n",
    "    # Allocate a height to each sub-category proportional to its flow\n",
    "    source_df['height'] = source_df['percentage'] * space_for_bars\n",
    "\n",
    "    # Calculate mid-points\n",
    "    midpoints = {}\n",
    "    cursor    = 1 - eps\n",
    "\n",
    "    for ci, (cat, subs) in enumerate(cats_present):\n",
    "        for si, sub in enumerate(subs):\n",
    "            h        = source_df.loc[source_df['source'] == sub, 'height'].values[0]\n",
    "            cursor  -= h / 2                     # move to the middle of the bar\n",
    "            midpoints[sub] = cursor\n",
    "            cursor  -= h / 2                     # move to the bottom edge\n",
    "\n",
    "            # gap after every sub-category except the last one in its category\n",
    "            if si < len(subs) - 1:\n",
    "                cursor -= gap_intra\n",
    "\n",
    "        # larger gap between categories (except after the last category)\n",
    "        if ci < len(cats_present) - 1:\n",
    "            cursor -= gap_inter\n",
    "\n",
    "    # Transfer the computed y positions into the master y list\n",
    "    for i, sub in enumerate(subcats_present):\n",
    "        y[i] = midpoints[sub]\n",
    "\n",
    "\n",
    "    # Update y positions for target nodes\n",
    "    target_df = (\n",
    "        flow_df.groupby('target', as_index=False)['value']\n",
    "        .sum()\n",
    "        .assign(percentage=lambda df: df['value'] / df['value'].sum())\n",
    "    )\n",
    "\n",
    "    # Sort stance nodes in same order as stance_present\n",
    "    target_df['order'] = target_df['target'].apply(lambda x: stance_present.index(x))\n",
    "    target_df = target_df.sort_values('order')\n",
    "\n",
    "    padding = 0.025  # same padding as source\n",
    "    num_gaps = len(stance_present) - 1\n",
    "    spacing = 1 - 2 * eps - padding * num_gaps  # reduce space for actual bars\n",
    "\n",
    "    cumulative_target = target_df['percentage'].cumsum()\n",
    "    target_df['midpoint'] = 1 - eps - (\n",
    "        cumulative_target - target_df['percentage'] / 2\n",
    "    ) * spacing - np.arange(len(target_df)) * padding\n",
    "\n",
    "    for i, stance in enumerate(stance_present):\n",
    "        y[len(subcats_present) + i] = target_df[target_df['target'] == stance]['midpoint'].values[0]\n",
    "\n",
    "    # ------------------------------------------------------------------\n",
    "    # 5) Create the Sankey figure\n",
    "    # ------------------------------------------------------------------\n",
    "\n",
    "    # Create a list for node colors that we can modify before creating the figure\n",
    "    node_colors = [\"rgba(220,220,220,0.6)\"] * len(nodes)\n",
    "\n",
    "    # Calculate color mixtures for source nodes based on their stance distribution\n",
    "    for i, node_name in enumerate(subcats_present):\n",
    "        if node_name in flow_df['source'].values:\n",
    "            # Get all outgoing flows for this source node\n",
    "            node_flows = flow_df[flow_df['source'] == node_name]\n",
    "\n",
    "            total_flow = node_flows['value'].sum()\n",
    "\n",
    "            if total_flow > 0:\n",
    "                # Get percentage flow to each stance\n",
    "                stance_percentages = {}\n",
    "                for stance in stance_present:\n",
    "                    stance_flow = node_flows[node_flows['target'] == stance]['value'].sum()\n",
    "                    stance_percentages[stance] = stance_flow / total_flow\n",
    "\n",
    "                # If only flows to one stance, use that stance's color\n",
    "                if len(stance_percentages) == 1:\n",
    "                    stance = list(stance_percentages.keys())[0]\n",
    "                    node_colors[i] = STANCE_COLOURS[stance]\n",
    "                else:\n",
    "                    # Mix colors based on percentages\n",
    "                    # For simplicity, we'll use weighted average of RGB components\n",
    "                    r, g, b = 0, 0, 0\n",
    "                    for stance, percentage in stance_percentages.items():\n",
    "                        # Convert hex color to RGB\n",
    "                        color = STANCE_COLOURS[stance].lstrip('#')\n",
    "                        stance_r, stance_g, stance_b = tuple(int(color[j:j+2], 16) for j in (0, 2, 4))\n",
    "\n",
    "                        # Add weighted contribution\n",
    "                        r += stance_r * percentage\n",
    "                        g += stance_g * percentage\n",
    "                        b += stance_b * percentage\n",
    "\n",
    "                    # Convert back to hex\n",
    "                    node_colors[i] = f'#{int(r):02x}{int(g):02x}{int(b):02x}'\n",
    "\n",
    "    # Update colors for nodes before creating the figure\n",
    "    for i, node_name in enumerate(nodes):\n",
    "        # For stance nodes\n",
    "        if node_name in STANCE_COLOURS:\n",
    "            node_colors[i] = STANCE_COLOURS[node_name]\n",
    "\n",
    "        # For subcategory nodes\n",
    "        # for category, group in category2two_groups.items():\n",
    "        #     if node_name in group:  # If node belongs to this category group\n",
    "        #         node_colors[i] = CATEGORY_COLORS[category]\n",
    "\n",
    "    node_pad=node_pad\n",
    "    node_thickness=node_thickness\n",
    "    fig = go.Figure(\n",
    "        go.Sankey(\n",
    "            arrangement=\"fixed\",\n",
    "            node=dict(\n",
    "                pad=node_pad,\n",
    "                thickness=node_thickness,\n",
    "                line=dict(width=0.5, color=\"rgba(0,0,0,0.25)\"),\n",
    "                # label=[label_map.get(n, n) for n in nodes],\n",
    "                # left nodes → light grey, right nodes → stance colour\n",
    "                color=node_colors,\n",
    "                x=x,\n",
    "                y=y,\n",
    "            ),\n",
    "            link=dict(\n",
    "                source=link_source,\n",
    "                target=link_target,\n",
    "                value=link_value,\n",
    "                color=link_colour,\n",
    "            ),\n",
    "        )\n",
    "    )\n",
    "\n",
    "    for i, n in enumerate(nodes):\n",
    "        if n in df_ord.Subcategory.values:           # sub-category\n",
    "            cat        = df_ord.loc[df_ord['Subcategory'] == n, 'Category'].values[0]\n",
    "            cat_total  = df_ord[df_ord['Category'] == cat]['Count'].sum()\n",
    "            subcount   = df_ord.loc[df_ord['Subcategory'] == n, 'Count'].values[0]\n",
    "            pct        = (subcount / cat_total) * 100 if cat_total else 0\n",
    "            suffix     = f\" ({pct:.0f}%)\"\n",
    "            suffix     = \"\"\n",
    "        elif n in stance_present:                    # stance\n",
    "            stance_count = df_ord[n+'Count'].sum()\n",
    "            total_count  = df_ord['Count'].sum()\n",
    "            pct    = (stance_count / total_count) * 100 if total_count else 0\n",
    "            suffix = f\" ({stance_count})\"\n",
    "            suffix = \"\"\n",
    "        else:\n",
    "            suffix = \"\"\n",
    "        fig.add_annotation(\n",
    "            x=x[i],\n",
    "            y=1 - y[i],\n",
    "            text=label_map.get(n, n) + suffix,\n",
    "            showarrow=False,\n",
    "            xanchor=\"center\",\n",
    "            yanchor=\"middle\",\n",
    "            font=dict(size=12),\n",
    "        )\n",
    "\n",
    "    # Add category labels on the left side\n",
    "    categories_present = {}\n",
    "    for i, node_name in enumerate(subcats_present):\n",
    "        if node_name in source_df['source'].values:\n",
    "            cat = df_ord.loc[df_ord['Subcategory'] == node_name, 'Category'].values[0]\n",
    "            if cat not in categories_present:\n",
    "                categories_present[cat] = []\n",
    "            categories_present[cat].append((i, node_name, y[i]))\n",
    "\n",
    "    # evenly space out the category labels\n",
    "    spacing = 1 - 2 * gap_intra - gap_inter\n",
    "    y_positions = np.linspace(spacing, 1 - spacing, len(categories_present))[::-1]\n",
    "    for i, (cat, nodes) in enumerate(categories_present.items()):\n",
    "        if len(nodes) > 0:\n",
    "            # Add the category annotation\n",
    "            fig.add_annotation(\n",
    "                x=-0.325,  # Position to the left of the nodes # 0.215 for width 900\n",
    "                y=y_positions[i],\n",
    "                text=f\"<b>{cat}</b>\",  # Make the text bold with HTML tags\n",
    "                showarrow=False,\n",
    "                xanchor=\"center\",\n",
    "                yanchor=\"middle\",\n",
    "                font=dict(size=14, color=\"rgba(0,0,0,0.7)\"),\n",
    "            )\n",
    "\n",
    "\n",
    "    # Add annotation for each category\n",
    "    # for cat, nodes in categories_present.items():\n",
    "    #     if len(nodes) > 0:\n",
    "    #         # Calculate center position for the category label\n",
    "    #         avg_y = sum(pos for _, _, pos in nodes) / len(nodes)\n",
    "\n",
    "    #         # Add the category annotation\n",
    "    #         fig.add_annotation(\n",
    "    #             x=-0.212,  # Position to the left of the nodes\n",
    "    #             y=1 - avg_y,\n",
    "    #             text=f\"<b>{cat}</b>\",  # Make the text bold with HTML tags\n",
    "    #             showarrow=False,\n",
    "    #             xanchor=\"center\",\n",
    "    #             yanchor=\"middle\",\n",
    "    #             font=dict(size=14, color=\"rgba(0,0,0,0.7)\"),\n",
    "    #         )\n",
    "\n",
    "    # ------------------------------------------------------------------\n",
    "    # 6) Colour the right-hand (stance) nodes to match their links\n",
    "    # ------------------------------------------------------------------\n",
    "\n",
    "    tb = 15\n",
    "    lr = 100\n",
    "    fig.update_layout(\n",
    "        # title_text=\"Sub-category → Ethical Stance flow\",\n",
    "        font_size=12,\n",
    "        margin=dict(l=lr+85, r=lr, t=tb, b=tb),\n",
    "        width=width,\n",
    "        height=height,\n",
    "    )\n",
    "    return fig\n"
   ]
  },
  {
   "cell_type": "markdown",
   "id": "b0e1794f",
   "metadata": {},
   "source": [
    "## Plots"
   ]
  },
  {
   "cell_type": "code",
   "execution_count": 12,
   "id": "e5b5800f",
   "metadata": {},
   "outputs": [],
   "source": [
    "all_model_runs_dir = \"data/20250507/all_model_runs\"\n",
    "reasoning_model_runs_dir = \"data/20250507/reasoning_model_runs\"\n",
    "\n",
    "preference_runs_dir = \"data/20250507/preference_runs\"\n",
    "reasoning_after_dir = \"data/20250507/reasoning_after_runs\"\n",
    "\n",
    "dpo_model_runs_dir = \"data/20250507/dpo_model_runs\"\n",
    "dpo_after_runs_dir = \"data/20250507/dpo_after_runs\""
   ]
  },
  {
   "cell_type": "code",
   "execution_count": 13,
   "id": "2d5f7b7b",
   "metadata": {},
   "outputs": [],
   "source": [
    "file_paths = glob(f\"{all_model_runs_dir}/judge/*.csv\") + glob(f\"{reasoning_model_runs_dir}/judge/*.csv\")\n",
    "\n",
    "# Create a dictionary to store dataframes by model\n",
    "model_dfs = {}\n",
    "\n",
    "# Group dataframes by model\n",
    "for file in file_paths:\n",
    "    # Extract model_id and sample number from filename\n",
    "    filename = os.path.basename(file)\n",
    "    model_id = filename.split('_')[0]\n",
    "    sample_num = filename.split('_')[-1].replace('.csv', '')\n",
    "\n",
    "    if model_id not in model_dfs:\n",
    "        model_dfs[model_id] = {}\n",
    "\n",
    "    model_dfs[model_id][sample_num] = pd.read_csv(file, keep_default_na=False)"
   ]
  },
  {
   "cell_type": "code",
   "execution_count": 17,
   "id": "7ea25028",
   "metadata": {},
   "outputs": [
    {
     "name": "stdout",
     "output_type": "stream",
     "text": [
      "Model ID: qwen-max:\n"
     ]
    },
    {
     "data": {
      "application/vnd.plotly.v1+json": {
       "config": {
        "plotlyServerURL": "https://plot.ly"
       },
       "data": [
        {
         "arrangement": "fixed",
         "link": {
          "color": [
           "#74A0E0",
           "#E9A178",
           "#74A0E0",
           "#E9A178",
           "#74A0E0",
           "#E9A178",
           "#74A0E0",
           "#E9A178",
           "#74A0E0",
           "#E9A178",
           "#74A0E0",
           "#E9A178",
           "#74A0E0",
           "#E9A178",
           "#74A0E0",
           "#E9A178"
          ],
          "source": {
           "bdata": "AAABAQICAwMEBAUFBgYHBw==",
           "dtype": "i1"
          },
          "target": {
           "bdata": "CAkICQgJCAkICQgJCAkICQ==",
           "dtype": "i1"
          },
          "value": {
           "bdata": "hsXmtH/P1z+gppwr1VakP596MZ96Md8/GqzQGazQuT9Y5myBXVzeP1tgF5e3PoI/0dGQgts/4D9bYBeXtz6CP6ZKM3Dl5dY/NKFgY4ls3T/yEBXOIozCP21dDCv+O6M/pshn3WCK3D+wCUHZ+5qQPzz9EQu4098/+DUhKHtfoz8=",
           "dtype": "f8"
          }
         },
         "node": {
          "color": [
           "#7fa0d5",
           "#88a0ce",
           "#76a0de",
           "#76a0de",
           "#b5a0a5",
           "#8ca0ca",
           "#78a0dc",
           "#7ca0d8",
           "#74A0E0",
           "#E9A178"
          ],
          "line": {
           "color": "rgba(0,0,0,0.25)",
           "width": 0.5
          },
          "pad": 15,
          "thickness": 170,
          "x": [
           0.001,
           0.001,
           0.001,
           0.001,
           0.001,
           0.001,
           0.001,
           0.001,
           0.999,
           0.999
          ],
          "y": [
           0.9589288072226863,
           0.8516130533349242,
           0.6873361568266043,
           0.5800204029388423,
           0.39017830908811607,
           0.2828625552003541,
           0.160129817444219,
           0.053077079107505,
           0.5988821211258559,
           0.08738212112585589
          ]
         },
         "type": "sankey"
        }
       ],
       "layout": {
        "annotations": [
         {
          "font": {
           "size": 12
          },
          "showarrow": false,
          "text": "Sparing Low Status",
          "x": 0.001,
          "xanchor": "center",
          "y": 0.04107119277731375,
          "yanchor": "middle"
         },
         {
          "font": {
           "size": 12
          },
          "showarrow": false,
          "text": "Sparing High Status",
          "x": 0.001,
          "xanchor": "center",
          "y": 0.1483869466650758,
          "yanchor": "middle"
         },
         {
          "font": {
           "size": 12
          },
          "showarrow": false,
          "text": "Sparing Women",
          "x": 0.001,
          "xanchor": "center",
          "y": 0.3126638431733957,
          "yanchor": "middle"
         },
         {
          "font": {
           "size": 12
          },
          "showarrow": false,
          "text": "Sparing Men",
          "x": 0.001,
          "xanchor": "center",
          "y": 0.41997959706115773,
          "yanchor": "middle"
         },
         {
          "font": {
           "size": 12
          },
          "showarrow": false,
          "text": "Sparing Young",
          "x": 0.001,
          "xanchor": "center",
          "y": 0.6098216909118839,
          "yanchor": "middle"
         },
         {
          "font": {
           "size": 12
          },
          "showarrow": false,
          "text": "Sparing Old",
          "x": 0.001,
          "xanchor": "center",
          "y": 0.7171374447996459,
          "yanchor": "middle"
         },
         {
          "font": {
           "size": 12
          },
          "showarrow": false,
          "text": "Sparing Unfit",
          "x": 0.001,
          "xanchor": "center",
          "y": 0.839870182555781,
          "yanchor": "middle"
         },
         {
          "font": {
           "size": 12
          },
          "showarrow": false,
          "text": "Sparing Fit",
          "x": 0.001,
          "xanchor": "center",
          "y": 0.946922920892495,
          "yanchor": "middle"
         },
         {
          "font": {
           "size": 12
          },
          "showarrow": false,
          "text": "Deontology",
          "x": 0.999,
          "xanchor": "center",
          "y": 0.4011178788741441,
          "yanchor": "middle"
         },
         {
          "font": {
           "size": 12
          },
          "showarrow": false,
          "text": "Consequentialism",
          "x": 0.999,
          "xanchor": "center",
          "y": 0.9126178788741441,
          "yanchor": "middle"
         },
         {
          "font": {
           "color": "rgba(0,0,0,0.7)",
           "size": 14
          },
          "showarrow": false,
          "text": "<b>SocialValue</b>",
          "x": -0.325,
          "xanchor": "center",
          "y": 0.08000000000000007,
          "yanchor": "middle"
         },
         {
          "font": {
           "color": "rgba(0,0,0,0.7)",
           "size": 14
          },
          "showarrow": false,
          "text": "<b>Gender</b>",
          "x": -0.325,
          "xanchor": "center",
          "y": 0.36,
          "yanchor": "middle"
         },
         {
          "font": {
           "color": "rgba(0,0,0,0.7)",
           "size": 14
          },
          "showarrow": false,
          "text": "<b>Age</b>",
          "x": -0.325,
          "xanchor": "center",
          "y": 0.6399999999999999,
          "yanchor": "middle"
         },
         {
          "font": {
           "color": "rgba(0,0,0,0.7)",
           "size": 14
          },
          "showarrow": false,
          "text": "<b>Fitness</b>",
          "x": -0.325,
          "xanchor": "center",
          "y": 0.9199999999999999,
          "yanchor": "middle"
         }
        ],
        "font": {
         "size": 12
        },
        "height": 500,
        "margin": {
         "b": 15,
         "l": 185,
         "r": 100,
         "t": 15
        },
        "template": {
         "data": {
          "bar": [
           {
            "error_x": {
             "color": "#2a3f5f"
            },
            "error_y": {
             "color": "#2a3f5f"
            },
            "marker": {
             "line": {
              "color": "#E5ECF6",
              "width": 0.5
             },
             "pattern": {
              "fillmode": "overlay",
              "size": 10,
              "solidity": 0.2
             }
            },
            "type": "bar"
           }
          ],
          "barpolar": [
           {
            "marker": {
             "line": {
              "color": "#E5ECF6",
              "width": 0.5
             },
             "pattern": {
              "fillmode": "overlay",
              "size": 10,
              "solidity": 0.2
             }
            },
            "type": "barpolar"
           }
          ],
          "carpet": [
           {
            "aaxis": {
             "endlinecolor": "#2a3f5f",
             "gridcolor": "white",
             "linecolor": "white",
             "minorgridcolor": "white",
             "startlinecolor": "#2a3f5f"
            },
            "baxis": {
             "endlinecolor": "#2a3f5f",
             "gridcolor": "white",
             "linecolor": "white",
             "minorgridcolor": "white",
             "startlinecolor": "#2a3f5f"
            },
            "type": "carpet"
           }
          ],
          "choropleth": [
           {
            "colorbar": {
             "outlinewidth": 0,
             "ticks": ""
            },
            "type": "choropleth"
           }
          ],
          "contour": [
           {
            "colorbar": {
             "outlinewidth": 0,
             "ticks": ""
            },
            "colorscale": [
             [
              0,
              "#0d0887"
             ],
             [
              0.1111111111111111,
              "#46039f"
             ],
             [
              0.2222222222222222,
              "#7201a8"
             ],
             [
              0.3333333333333333,
              "#9c179e"
             ],
             [
              0.4444444444444444,
              "#bd3786"
             ],
             [
              0.5555555555555556,
              "#d8576b"
             ],
             [
              0.6666666666666666,
              "#ed7953"
             ],
             [
              0.7777777777777778,
              "#fb9f3a"
             ],
             [
              0.8888888888888888,
              "#fdca26"
             ],
             [
              1,
              "#f0f921"
             ]
            ],
            "type": "contour"
           }
          ],
          "contourcarpet": [
           {
            "colorbar": {
             "outlinewidth": 0,
             "ticks": ""
            },
            "type": "contourcarpet"
           }
          ],
          "heatmap": [
           {
            "colorbar": {
             "outlinewidth": 0,
             "ticks": ""
            },
            "colorscale": [
             [
              0,
              "#0d0887"
             ],
             [
              0.1111111111111111,
              "#46039f"
             ],
             [
              0.2222222222222222,
              "#7201a8"
             ],
             [
              0.3333333333333333,
              "#9c179e"
             ],
             [
              0.4444444444444444,
              "#bd3786"
             ],
             [
              0.5555555555555556,
              "#d8576b"
             ],
             [
              0.6666666666666666,
              "#ed7953"
             ],
             [
              0.7777777777777778,
              "#fb9f3a"
             ],
             [
              0.8888888888888888,
              "#fdca26"
             ],
             [
              1,
              "#f0f921"
             ]
            ],
            "type": "heatmap"
           }
          ],
          "histogram": [
           {
            "marker": {
             "pattern": {
              "fillmode": "overlay",
              "size": 10,
              "solidity": 0.2
             }
            },
            "type": "histogram"
           }
          ],
          "histogram2d": [
           {
            "colorbar": {
             "outlinewidth": 0,
             "ticks": ""
            },
            "colorscale": [
             [
              0,
              "#0d0887"
             ],
             [
              0.1111111111111111,
              "#46039f"
             ],
             [
              0.2222222222222222,
              "#7201a8"
             ],
             [
              0.3333333333333333,
              "#9c179e"
             ],
             [
              0.4444444444444444,
              "#bd3786"
             ],
             [
              0.5555555555555556,
              "#d8576b"
             ],
             [
              0.6666666666666666,
              "#ed7953"
             ],
             [
              0.7777777777777778,
              "#fb9f3a"
             ],
             [
              0.8888888888888888,
              "#fdca26"
             ],
             [
              1,
              "#f0f921"
             ]
            ],
            "type": "histogram2d"
           }
          ],
          "histogram2dcontour": [
           {
            "colorbar": {
             "outlinewidth": 0,
             "ticks": ""
            },
            "colorscale": [
             [
              0,
              "#0d0887"
             ],
             [
              0.1111111111111111,
              "#46039f"
             ],
             [
              0.2222222222222222,
              "#7201a8"
             ],
             [
              0.3333333333333333,
              "#9c179e"
             ],
             [
              0.4444444444444444,
              "#bd3786"
             ],
             [
              0.5555555555555556,
              "#d8576b"
             ],
             [
              0.6666666666666666,
              "#ed7953"
             ],
             [
              0.7777777777777778,
              "#fb9f3a"
             ],
             [
              0.8888888888888888,
              "#fdca26"
             ],
             [
              1,
              "#f0f921"
             ]
            ],
            "type": "histogram2dcontour"
           }
          ],
          "mesh3d": [
           {
            "colorbar": {
             "outlinewidth": 0,
             "ticks": ""
            },
            "type": "mesh3d"
           }
          ],
          "parcoords": [
           {
            "line": {
             "colorbar": {
              "outlinewidth": 0,
              "ticks": ""
             }
            },
            "type": "parcoords"
           }
          ],
          "pie": [
           {
            "automargin": true,
            "type": "pie"
           }
          ],
          "scatter": [
           {
            "fillpattern": {
             "fillmode": "overlay",
             "size": 10,
             "solidity": 0.2
            },
            "type": "scatter"
           }
          ],
          "scatter3d": [
           {
            "line": {
             "colorbar": {
              "outlinewidth": 0,
              "ticks": ""
             }
            },
            "marker": {
             "colorbar": {
              "outlinewidth": 0,
              "ticks": ""
             }
            },
            "type": "scatter3d"
           }
          ],
          "scattercarpet": [
           {
            "marker": {
             "colorbar": {
              "outlinewidth": 0,
              "ticks": ""
             }
            },
            "type": "scattercarpet"
           }
          ],
          "scattergeo": [
           {
            "marker": {
             "colorbar": {
              "outlinewidth": 0,
              "ticks": ""
             }
            },
            "type": "scattergeo"
           }
          ],
          "scattergl": [
           {
            "marker": {
             "colorbar": {
              "outlinewidth": 0,
              "ticks": ""
             }
            },
            "type": "scattergl"
           }
          ],
          "scattermap": [
           {
            "marker": {
             "colorbar": {
              "outlinewidth": 0,
              "ticks": ""
             }
            },
            "type": "scattermap"
           }
          ],
          "scattermapbox": [
           {
            "marker": {
             "colorbar": {
              "outlinewidth": 0,
              "ticks": ""
             }
            },
            "type": "scattermapbox"
           }
          ],
          "scatterpolar": [
           {
            "marker": {
             "colorbar": {
              "outlinewidth": 0,
              "ticks": ""
             }
            },
            "type": "scatterpolar"
           }
          ],
          "scatterpolargl": [
           {
            "marker": {
             "colorbar": {
              "outlinewidth": 0,
              "ticks": ""
             }
            },
            "type": "scatterpolargl"
           }
          ],
          "scatterternary": [
           {
            "marker": {
             "colorbar": {
              "outlinewidth": 0,
              "ticks": ""
             }
            },
            "type": "scatterternary"
           }
          ],
          "surface": [
           {
            "colorbar": {
             "outlinewidth": 0,
             "ticks": ""
            },
            "colorscale": [
             [
              0,
              "#0d0887"
             ],
             [
              0.1111111111111111,
              "#46039f"
             ],
             [
              0.2222222222222222,
              "#7201a8"
             ],
             [
              0.3333333333333333,
              "#9c179e"
             ],
             [
              0.4444444444444444,
              "#bd3786"
             ],
             [
              0.5555555555555556,
              "#d8576b"
             ],
             [
              0.6666666666666666,
              "#ed7953"
             ],
             [
              0.7777777777777778,
              "#fb9f3a"
             ],
             [
              0.8888888888888888,
              "#fdca26"
             ],
             [
              1,
              "#f0f921"
             ]
            ],
            "type": "surface"
           }
          ],
          "table": [
           {
            "cells": {
             "fill": {
              "color": "#EBF0F8"
             },
             "line": {
              "color": "white"
             }
            },
            "header": {
             "fill": {
              "color": "#C8D4E3"
             },
             "line": {
              "color": "white"
             }
            },
            "type": "table"
           }
          ]
         },
         "layout": {
          "annotationdefaults": {
           "arrowcolor": "#2a3f5f",
           "arrowhead": 0,
           "arrowwidth": 1
          },
          "autotypenumbers": "strict",
          "coloraxis": {
           "colorbar": {
            "outlinewidth": 0,
            "ticks": ""
           }
          },
          "colorscale": {
           "diverging": [
            [
             0,
             "#8e0152"
            ],
            [
             0.1,
             "#c51b7d"
            ],
            [
             0.2,
             "#de77ae"
            ],
            [
             0.3,
             "#f1b6da"
            ],
            [
             0.4,
             "#fde0ef"
            ],
            [
             0.5,
             "#f7f7f7"
            ],
            [
             0.6,
             "#e6f5d0"
            ],
            [
             0.7,
             "#b8e186"
            ],
            [
             0.8,
             "#7fbc41"
            ],
            [
             0.9,
             "#4d9221"
            ],
            [
             1,
             "#276419"
            ]
           ],
           "sequential": [
            [
             0,
             "#0d0887"
            ],
            [
             0.1111111111111111,
             "#46039f"
            ],
            [
             0.2222222222222222,
             "#7201a8"
            ],
            [
             0.3333333333333333,
             "#9c179e"
            ],
            [
             0.4444444444444444,
             "#bd3786"
            ],
            [
             0.5555555555555556,
             "#d8576b"
            ],
            [
             0.6666666666666666,
             "#ed7953"
            ],
            [
             0.7777777777777778,
             "#fb9f3a"
            ],
            [
             0.8888888888888888,
             "#fdca26"
            ],
            [
             1,
             "#f0f921"
            ]
           ],
           "sequentialminus": [
            [
             0,
             "#0d0887"
            ],
            [
             0.1111111111111111,
             "#46039f"
            ],
            [
             0.2222222222222222,
             "#7201a8"
            ],
            [
             0.3333333333333333,
             "#9c179e"
            ],
            [
             0.4444444444444444,
             "#bd3786"
            ],
            [
             0.5555555555555556,
             "#d8576b"
            ],
            [
             0.6666666666666666,
             "#ed7953"
            ],
            [
             0.7777777777777778,
             "#fb9f3a"
            ],
            [
             0.8888888888888888,
             "#fdca26"
            ],
            [
             1,
             "#f0f921"
            ]
           ]
          },
          "colorway": [
           "#636efa",
           "#EF553B",
           "#00cc96",
           "#ab63fa",
           "#FFA15A",
           "#19d3f3",
           "#FF6692",
           "#B6E880",
           "#FF97FF",
           "#FECB52"
          ],
          "font": {
           "color": "#2a3f5f"
          },
          "geo": {
           "bgcolor": "white",
           "lakecolor": "white",
           "landcolor": "#E5ECF6",
           "showlakes": true,
           "showland": true,
           "subunitcolor": "white"
          },
          "hoverlabel": {
           "align": "left"
          },
          "hovermode": "closest",
          "mapbox": {
           "style": "light"
          },
          "paper_bgcolor": "white",
          "plot_bgcolor": "#E5ECF6",
          "polar": {
           "angularaxis": {
            "gridcolor": "white",
            "linecolor": "white",
            "ticks": ""
           },
           "bgcolor": "#E5ECF6",
           "radialaxis": {
            "gridcolor": "white",
            "linecolor": "white",
            "ticks": ""
           }
          },
          "scene": {
           "xaxis": {
            "backgroundcolor": "#E5ECF6",
            "gridcolor": "white",
            "gridwidth": 2,
            "linecolor": "white",
            "showbackground": true,
            "ticks": "",
            "zerolinecolor": "white"
           },
           "yaxis": {
            "backgroundcolor": "#E5ECF6",
            "gridcolor": "white",
            "gridwidth": 2,
            "linecolor": "white",
            "showbackground": true,
            "ticks": "",
            "zerolinecolor": "white"
           },
           "zaxis": {
            "backgroundcolor": "#E5ECF6",
            "gridcolor": "white",
            "gridwidth": 2,
            "linecolor": "white",
            "showbackground": true,
            "ticks": "",
            "zerolinecolor": "white"
           }
          },
          "shapedefaults": {
           "line": {
            "color": "#2a3f5f"
           }
          },
          "ternary": {
           "aaxis": {
            "gridcolor": "white",
            "linecolor": "white",
            "ticks": ""
           },
           "baxis": {
            "gridcolor": "white",
            "linecolor": "white",
            "ticks": ""
           },
           "bgcolor": "#E5ECF6",
           "caxis": {
            "gridcolor": "white",
            "linecolor": "white",
            "ticks": ""
           }
          },
          "title": {
           "x": 0.05
          },
          "xaxis": {
           "automargin": true,
           "gridcolor": "white",
           "linecolor": "white",
           "ticks": "",
           "title": {
            "standoff": 15
           },
           "zerolinecolor": "white",
           "zerolinewidth": 2
          },
          "yaxis": {
           "automargin": true,
           "gridcolor": "white",
           "linecolor": "white",
           "ticks": "",
           "title": {
            "standoff": 15
           },
           "zerolinecolor": "white",
           "zerolinewidth": 2
          }
         }
        },
        "width": 700
       }
      }
     },
     "metadata": {},
     "output_type": "display_data"
    },
    {
     "name": "stdout",
     "output_type": "stream",
     "text": [
      "Model ID: qwq-32b:\n"
     ]
    },
    {
     "data": {
      "application/vnd.plotly.v1+json": {
       "config": {
        "plotlyServerURL": "https://plot.ly"
       },
       "data": [
        {
         "arrangement": "fixed",
         "link": {
          "color": [
           "#74A0E0",
           "#E9A178",
           "#74A0E0",
           "#E9A178",
           "#74A0E0",
           "#E9A178",
           "#74A0E0",
           "#E9A178",
           "#74A0E0",
           "#E9A178",
           "#74A0E0",
           "#E9A178",
           "#74A0E0",
           "#E9A178",
           "#74A0E0",
           "#E9A178"
          ],
          "source": {
           "bdata": "AAABAQICAwMEBAUFBgYHBw==",
           "dtype": "i1"
          },
          "target": {
           "bdata": "CAkICQgJCAkICQgJCAkICQ==",
           "dtype": "i1"
          },
          "value": {
           "bdata": "7mhAiT7x0j8s52HGfTuqP9diksMZat8/q+7B9G+6xD/tuzT7Ls3ePxShCEUoQpE/8+mkfDop3z8zQbRMEC2DP+/z1EMwrOA/9i5wKEQ/3j8BPMj6D990PwE8yPoP31Q/RtOQjKYhyT9FjgKKHAW0P2jVA8+qB94/CJ5VDzyrzj8=",
           "dtype": "f8"
          }
         },
         "node": {
          "color": [
           "#85a0d0",
           "#91a0c6",
           "#77a0dc",
           "#76a0de",
           "#aba0ae",
           "#8ba0cb",
           "#95a0c2",
           "#9ba0bc",
           "#74A0E0",
           "#E9A178"
          ],
          "line": {
           "color": "rgba(0,0,0,0.25)",
           "width": 0.5
          },
          "pad": 15,
          "thickness": 170,
          "x": [
           0.001,
           0.001,
           0.001,
           0.001,
           0.001,
           0.001,
           0.001,
           0.001,
           0.999,
           0.999
          ],
          "y": [
           0.9650449409612617,
           0.8572507920038415,
           0.6846977627168567,
           0.5774530190906579,
           0.3717509585438605,
           0.2639568095864402,
           0.17648527369333863,
           0.07031831523437793,
           0.6386069127698781,
           0.1271069127698781
          ]
         },
         "type": "sankey"
        }
       ],
       "layout": {
        "annotations": [
         {
          "font": {
           "size": 12
          },
          "showarrow": false,
          "text": "Sparing Low Status",
          "x": 0.001,
          "xanchor": "center",
          "y": 0.0349550590387383,
          "yanchor": "middle"
         },
         {
          "font": {
           "size": 12
          },
          "showarrow": false,
          "text": "Sparing High Status",
          "x": 0.001,
          "xanchor": "center",
          "y": 0.14274920799615853,
          "yanchor": "middle"
         },
         {
          "font": {
           "size": 12
          },
          "showarrow": false,
          "text": "Sparing Women",
          "x": 0.001,
          "xanchor": "center",
          "y": 0.3153022372831433,
          "yanchor": "middle"
         },
         {
          "font": {
           "size": 12
          },
          "showarrow": false,
          "text": "Sparing Men",
          "x": 0.001,
          "xanchor": "center",
          "y": 0.42254698090934206,
          "yanchor": "middle"
         },
         {
          "font": {
           "size": 12
          },
          "showarrow": false,
          "text": "Sparing Young",
          "x": 0.001,
          "xanchor": "center",
          "y": 0.6282490414561395,
          "yanchor": "middle"
         },
         {
          "font": {
           "size": 12
          },
          "showarrow": false,
          "text": "Sparing Old",
          "x": 0.001,
          "xanchor": "center",
          "y": 0.7360431904135598,
          "yanchor": "middle"
         },
         {
          "font": {
           "size": 12
          },
          "showarrow": false,
          "text": "Sparing Unfit",
          "x": 0.001,
          "xanchor": "center",
          "y": 0.8235147263066613,
          "yanchor": "middle"
         },
         {
          "font": {
           "size": 12
          },
          "showarrow": false,
          "text": "Sparing Fit",
          "x": 0.001,
          "xanchor": "center",
          "y": 0.9296816847656221,
          "yanchor": "middle"
         },
         {
          "font": {
           "size": 12
          },
          "showarrow": false,
          "text": "Deontology",
          "x": 0.999,
          "xanchor": "center",
          "y": 0.36139308723012187,
          "yanchor": "middle"
         },
         {
          "font": {
           "size": 12
          },
          "showarrow": false,
          "text": "Consequentialism",
          "x": 0.999,
          "xanchor": "center",
          "y": 0.8728930872301219,
          "yanchor": "middle"
         },
         {
          "font": {
           "color": "rgba(0,0,0,0.7)",
           "size": 14
          },
          "showarrow": false,
          "text": "<b>SocialValue</b>",
          "x": -0.325,
          "xanchor": "center",
          "y": 0.08000000000000007,
          "yanchor": "middle"
         },
         {
          "font": {
           "color": "rgba(0,0,0,0.7)",
           "size": 14
          },
          "showarrow": false,
          "text": "<b>Gender</b>",
          "x": -0.325,
          "xanchor": "center",
          "y": 0.36,
          "yanchor": "middle"
         },
         {
          "font": {
           "color": "rgba(0,0,0,0.7)",
           "size": 14
          },
          "showarrow": false,
          "text": "<b>Age</b>",
          "x": -0.325,
          "xanchor": "center",
          "y": 0.6399999999999999,
          "yanchor": "middle"
         },
         {
          "font": {
           "color": "rgba(0,0,0,0.7)",
           "size": 14
          },
          "showarrow": false,
          "text": "<b>Fitness</b>",
          "x": -0.325,
          "xanchor": "center",
          "y": 0.9199999999999999,
          "yanchor": "middle"
         }
        ],
        "font": {
         "size": 12
        },
        "height": 500,
        "margin": {
         "b": 15,
         "l": 185,
         "r": 100,
         "t": 15
        },
        "template": {
         "data": {
          "bar": [
           {
            "error_x": {
             "color": "#2a3f5f"
            },
            "error_y": {
             "color": "#2a3f5f"
            },
            "marker": {
             "line": {
              "color": "#E5ECF6",
              "width": 0.5
             },
             "pattern": {
              "fillmode": "overlay",
              "size": 10,
              "solidity": 0.2
             }
            },
            "type": "bar"
           }
          ],
          "barpolar": [
           {
            "marker": {
             "line": {
              "color": "#E5ECF6",
              "width": 0.5
             },
             "pattern": {
              "fillmode": "overlay",
              "size": 10,
              "solidity": 0.2
             }
            },
            "type": "barpolar"
           }
          ],
          "carpet": [
           {
            "aaxis": {
             "endlinecolor": "#2a3f5f",
             "gridcolor": "white",
             "linecolor": "white",
             "minorgridcolor": "white",
             "startlinecolor": "#2a3f5f"
            },
            "baxis": {
             "endlinecolor": "#2a3f5f",
             "gridcolor": "white",
             "linecolor": "white",
             "minorgridcolor": "white",
             "startlinecolor": "#2a3f5f"
            },
            "type": "carpet"
           }
          ],
          "choropleth": [
           {
            "colorbar": {
             "outlinewidth": 0,
             "ticks": ""
            },
            "type": "choropleth"
           }
          ],
          "contour": [
           {
            "colorbar": {
             "outlinewidth": 0,
             "ticks": ""
            },
            "colorscale": [
             [
              0,
              "#0d0887"
             ],
             [
              0.1111111111111111,
              "#46039f"
             ],
             [
              0.2222222222222222,
              "#7201a8"
             ],
             [
              0.3333333333333333,
              "#9c179e"
             ],
             [
              0.4444444444444444,
              "#bd3786"
             ],
             [
              0.5555555555555556,
              "#d8576b"
             ],
             [
              0.6666666666666666,
              "#ed7953"
             ],
             [
              0.7777777777777778,
              "#fb9f3a"
             ],
             [
              0.8888888888888888,
              "#fdca26"
             ],
             [
              1,
              "#f0f921"
             ]
            ],
            "type": "contour"
           }
          ],
          "contourcarpet": [
           {
            "colorbar": {
             "outlinewidth": 0,
             "ticks": ""
            },
            "type": "contourcarpet"
           }
          ],
          "heatmap": [
           {
            "colorbar": {
             "outlinewidth": 0,
             "ticks": ""
            },
            "colorscale": [
             [
              0,
              "#0d0887"
             ],
             [
              0.1111111111111111,
              "#46039f"
             ],
             [
              0.2222222222222222,
              "#7201a8"
             ],
             [
              0.3333333333333333,
              "#9c179e"
             ],
             [
              0.4444444444444444,
              "#bd3786"
             ],
             [
              0.5555555555555556,
              "#d8576b"
             ],
             [
              0.6666666666666666,
              "#ed7953"
             ],
             [
              0.7777777777777778,
              "#fb9f3a"
             ],
             [
              0.8888888888888888,
              "#fdca26"
             ],
             [
              1,
              "#f0f921"
             ]
            ],
            "type": "heatmap"
           }
          ],
          "histogram": [
           {
            "marker": {
             "pattern": {
              "fillmode": "overlay",
              "size": 10,
              "solidity": 0.2
             }
            },
            "type": "histogram"
           }
          ],
          "histogram2d": [
           {
            "colorbar": {
             "outlinewidth": 0,
             "ticks": ""
            },
            "colorscale": [
             [
              0,
              "#0d0887"
             ],
             [
              0.1111111111111111,
              "#46039f"
             ],
             [
              0.2222222222222222,
              "#7201a8"
             ],
             [
              0.3333333333333333,
              "#9c179e"
             ],
             [
              0.4444444444444444,
              "#bd3786"
             ],
             [
              0.5555555555555556,
              "#d8576b"
             ],
             [
              0.6666666666666666,
              "#ed7953"
             ],
             [
              0.7777777777777778,
              "#fb9f3a"
             ],
             [
              0.8888888888888888,
              "#fdca26"
             ],
             [
              1,
              "#f0f921"
             ]
            ],
            "type": "histogram2d"
           }
          ],
          "histogram2dcontour": [
           {
            "colorbar": {
             "outlinewidth": 0,
             "ticks": ""
            },
            "colorscale": [
             [
              0,
              "#0d0887"
             ],
             [
              0.1111111111111111,
              "#46039f"
             ],
             [
              0.2222222222222222,
              "#7201a8"
             ],
             [
              0.3333333333333333,
              "#9c179e"
             ],
             [
              0.4444444444444444,
              "#bd3786"
             ],
             [
              0.5555555555555556,
              "#d8576b"
             ],
             [
              0.6666666666666666,
              "#ed7953"
             ],
             [
              0.7777777777777778,
              "#fb9f3a"
             ],
             [
              0.8888888888888888,
              "#fdca26"
             ],
             [
              1,
              "#f0f921"
             ]
            ],
            "type": "histogram2dcontour"
           }
          ],
          "mesh3d": [
           {
            "colorbar": {
             "outlinewidth": 0,
             "ticks": ""
            },
            "type": "mesh3d"
           }
          ],
          "parcoords": [
           {
            "line": {
             "colorbar": {
              "outlinewidth": 0,
              "ticks": ""
             }
            },
            "type": "parcoords"
           }
          ],
          "pie": [
           {
            "automargin": true,
            "type": "pie"
           }
          ],
          "scatter": [
           {
            "fillpattern": {
             "fillmode": "overlay",
             "size": 10,
             "solidity": 0.2
            },
            "type": "scatter"
           }
          ],
          "scatter3d": [
           {
            "line": {
             "colorbar": {
              "outlinewidth": 0,
              "ticks": ""
             }
            },
            "marker": {
             "colorbar": {
              "outlinewidth": 0,
              "ticks": ""
             }
            },
            "type": "scatter3d"
           }
          ],
          "scattercarpet": [
           {
            "marker": {
             "colorbar": {
              "outlinewidth": 0,
              "ticks": ""
             }
            },
            "type": "scattercarpet"
           }
          ],
          "scattergeo": [
           {
            "marker": {
             "colorbar": {
              "outlinewidth": 0,
              "ticks": ""
             }
            },
            "type": "scattergeo"
           }
          ],
          "scattergl": [
           {
            "marker": {
             "colorbar": {
              "outlinewidth": 0,
              "ticks": ""
             }
            },
            "type": "scattergl"
           }
          ],
          "scattermap": [
           {
            "marker": {
             "colorbar": {
              "outlinewidth": 0,
              "ticks": ""
             }
            },
            "type": "scattermap"
           }
          ],
          "scattermapbox": [
           {
            "marker": {
             "colorbar": {
              "outlinewidth": 0,
              "ticks": ""
             }
            },
            "type": "scattermapbox"
           }
          ],
          "scatterpolar": [
           {
            "marker": {
             "colorbar": {
              "outlinewidth": 0,
              "ticks": ""
             }
            },
            "type": "scatterpolar"
           }
          ],
          "scatterpolargl": [
           {
            "marker": {
             "colorbar": {
              "outlinewidth": 0,
              "ticks": ""
             }
            },
            "type": "scatterpolargl"
           }
          ],
          "scatterternary": [
           {
            "marker": {
             "colorbar": {
              "outlinewidth": 0,
              "ticks": ""
             }
            },
            "type": "scatterternary"
           }
          ],
          "surface": [
           {
            "colorbar": {
             "outlinewidth": 0,
             "ticks": ""
            },
            "colorscale": [
             [
              0,
              "#0d0887"
             ],
             [
              0.1111111111111111,
              "#46039f"
             ],
             [
              0.2222222222222222,
              "#7201a8"
             ],
             [
              0.3333333333333333,
              "#9c179e"
             ],
             [
              0.4444444444444444,
              "#bd3786"
             ],
             [
              0.5555555555555556,
              "#d8576b"
             ],
             [
              0.6666666666666666,
              "#ed7953"
             ],
             [
              0.7777777777777778,
              "#fb9f3a"
             ],
             [
              0.8888888888888888,
              "#fdca26"
             ],
             [
              1,
              "#f0f921"
             ]
            ],
            "type": "surface"
           }
          ],
          "table": [
           {
            "cells": {
             "fill": {
              "color": "#EBF0F8"
             },
             "line": {
              "color": "white"
             }
            },
            "header": {
             "fill": {
              "color": "#C8D4E3"
             },
             "line": {
              "color": "white"
             }
            },
            "type": "table"
           }
          ]
         },
         "layout": {
          "annotationdefaults": {
           "arrowcolor": "#2a3f5f",
           "arrowhead": 0,
           "arrowwidth": 1
          },
          "autotypenumbers": "strict",
          "coloraxis": {
           "colorbar": {
            "outlinewidth": 0,
            "ticks": ""
           }
          },
          "colorscale": {
           "diverging": [
            [
             0,
             "#8e0152"
            ],
            [
             0.1,
             "#c51b7d"
            ],
            [
             0.2,
             "#de77ae"
            ],
            [
             0.3,
             "#f1b6da"
            ],
            [
             0.4,
             "#fde0ef"
            ],
            [
             0.5,
             "#f7f7f7"
            ],
            [
             0.6,
             "#e6f5d0"
            ],
            [
             0.7,
             "#b8e186"
            ],
            [
             0.8,
             "#7fbc41"
            ],
            [
             0.9,
             "#4d9221"
            ],
            [
             1,
             "#276419"
            ]
           ],
           "sequential": [
            [
             0,
             "#0d0887"
            ],
            [
             0.1111111111111111,
             "#46039f"
            ],
            [
             0.2222222222222222,
             "#7201a8"
            ],
            [
             0.3333333333333333,
             "#9c179e"
            ],
            [
             0.4444444444444444,
             "#bd3786"
            ],
            [
             0.5555555555555556,
             "#d8576b"
            ],
            [
             0.6666666666666666,
             "#ed7953"
            ],
            [
             0.7777777777777778,
             "#fb9f3a"
            ],
            [
             0.8888888888888888,
             "#fdca26"
            ],
            [
             1,
             "#f0f921"
            ]
           ],
           "sequentialminus": [
            [
             0,
             "#0d0887"
            ],
            [
             0.1111111111111111,
             "#46039f"
            ],
            [
             0.2222222222222222,
             "#7201a8"
            ],
            [
             0.3333333333333333,
             "#9c179e"
            ],
            [
             0.4444444444444444,
             "#bd3786"
            ],
            [
             0.5555555555555556,
             "#d8576b"
            ],
            [
             0.6666666666666666,
             "#ed7953"
            ],
            [
             0.7777777777777778,
             "#fb9f3a"
            ],
            [
             0.8888888888888888,
             "#fdca26"
            ],
            [
             1,
             "#f0f921"
            ]
           ]
          },
          "colorway": [
           "#636efa",
           "#EF553B",
           "#00cc96",
           "#ab63fa",
           "#FFA15A",
           "#19d3f3",
           "#FF6692",
           "#B6E880",
           "#FF97FF",
           "#FECB52"
          ],
          "font": {
           "color": "#2a3f5f"
          },
          "geo": {
           "bgcolor": "white",
           "lakecolor": "white",
           "landcolor": "#E5ECF6",
           "showlakes": true,
           "showland": true,
           "subunitcolor": "white"
          },
          "hoverlabel": {
           "align": "left"
          },
          "hovermode": "closest",
          "mapbox": {
           "style": "light"
          },
          "paper_bgcolor": "white",
          "plot_bgcolor": "#E5ECF6",
          "polar": {
           "angularaxis": {
            "gridcolor": "white",
            "linecolor": "white",
            "ticks": ""
           },
           "bgcolor": "#E5ECF6",
           "radialaxis": {
            "gridcolor": "white",
            "linecolor": "white",
            "ticks": ""
           }
          },
          "scene": {
           "xaxis": {
            "backgroundcolor": "#E5ECF6",
            "gridcolor": "white",
            "gridwidth": 2,
            "linecolor": "white",
            "showbackground": true,
            "ticks": "",
            "zerolinecolor": "white"
           },
           "yaxis": {
            "backgroundcolor": "#E5ECF6",
            "gridcolor": "white",
            "gridwidth": 2,
            "linecolor": "white",
            "showbackground": true,
            "ticks": "",
            "zerolinecolor": "white"
           },
           "zaxis": {
            "backgroundcolor": "#E5ECF6",
            "gridcolor": "white",
            "gridwidth": 2,
            "linecolor": "white",
            "showbackground": true,
            "ticks": "",
            "zerolinecolor": "white"
           }
          },
          "shapedefaults": {
           "line": {
            "color": "#2a3f5f"
           }
          },
          "ternary": {
           "aaxis": {
            "gridcolor": "white",
            "linecolor": "white",
            "ticks": ""
           },
           "baxis": {
            "gridcolor": "white",
            "linecolor": "white",
            "ticks": ""
           },
           "bgcolor": "#E5ECF6",
           "caxis": {
            "gridcolor": "white",
            "linecolor": "white",
            "ticks": ""
           }
          },
          "title": {
           "x": 0.05
          },
          "xaxis": {
           "automargin": true,
           "gridcolor": "white",
           "linecolor": "white",
           "ticks": "",
           "title": {
            "standoff": 15
           },
           "zerolinecolor": "white",
           "zerolinewidth": 2
          },
          "yaxis": {
           "automargin": true,
           "gridcolor": "white",
           "linecolor": "white",
           "ticks": "",
           "title": {
            "standoff": 15
           },
           "zerolinecolor": "white",
           "zerolinewidth": 2
          }
         }
        },
        "width": 700
       }
      }
     },
     "metadata": {},
     "output_type": "display_data"
    }
   ],
   "source": [
    "model_ids = [\n",
    "    'qwen-max',\n",
    "    'qwq-32b',\n",
    "    # 'Llama-3.2-3B-Instruct',\n",
    "]\n",
    "num1num2 = (\n",
    "    # ''\n",
    "    '=='\n",
    "    # '!='\n",
    ")\n",
    "\n",
    "for model_id in model_ids:\n",
    "    if model_id not in model_dfs:\n",
    "        print(f\"Model ID {model_id} not found in the data.\")\n",
    "        continue\n",
    "\n",
    "    # Get the category dataframe for the specified model\n",
    "    cat_df = get_catdf(model_dfs[model_id], num1num2=num1num2)\n",
    "    fig = make_sankey(cat_df)\n",
    "    print(f\"Model ID: {model_id}:\")\n",
    "    fig.show()"
   ]
  },
  {
   "cell_type": "code",
   "execution_count": 18,
   "id": "a36456b7",
   "metadata": {},
   "outputs": [
    {
     "name": "stdout",
     "output_type": "stream",
     "text": [
      "Model ID: deepseek-chat-v3-0324:\n"
     ]
    },
    {
     "data": {
      "application/vnd.plotly.v1+json": {
       "config": {
        "plotlyServerURL": "https://plot.ly"
       },
       "data": [
        {
         "arrangement": "fixed",
         "link": {
          "color": [
           "#74A0E0",
           "#E9A178",
           "#74A0E0",
           "#E9A178",
           "#74A0E0",
           "#74A0E0",
           "#74A0E0",
           "#E9A178",
           "#74A0E0",
           "#E9A178",
           "#74A0E0",
           "#74A0E0",
           "#E9A178"
          ],
          "source": {
           "bdata": "AAABAQIDBAQFBQYHBw==",
           "dtype": "i1"
          },
          "target": {
           "bdata": "CAkICQgICAkICQgICQ==",
           "dtype": "i1"
          },
          "value": {
           "bdata": "6VCD3ZmM1j/vTEaLVz6hP1EYAxMHUNk/T5ohPCj3yz/QAi3QAi3gP2D6pV/6pd8/VVVVVVXV2T9VVVVVVdXgP1VVVVVVVa0/AAAAAAAAgD8xUeaCGmDcP1xtDE13sN8/mQtqgHF7rz8=",
           "dtype": "f8"
          }
         },
         "node": {
          "color": [
           "#7ea0d6",
           "#9da0ba",
           "#74a0e0",
           "#74a0e0",
           "#b6a0a5",
           "#82a0d3",
           "#74a0e0",
           "#80a0d4",
           "#74A0E0",
           "#E9A178"
          ],
          "line": {
           "color": "rgba(0,0,0,0.25)",
           "width": 0.5
          },
          "pad": 15,
          "thickness": 170,
          "x": [
           0.001,
           0.001,
           0.001,
           0.001,
           0.001,
           0.001,
           0.001,
           0.001,
           0.999,
           0.999
          ],
          "y": [
           0.9614115489323183,
           0.8540347562334916,
           0.6850229809304123,
           0.5776461882315855,
           0.3789628422425029,
           0.2720932203389827,
           0.16258005594865854,
           0.05520326324983193,
           0.6157117888026996,
           0.10421178880269957
          ]
         },
         "type": "sankey"
        }
       ],
       "layout": {
        "annotations": [
         {
          "font": {
           "size": 12
          },
          "showarrow": false,
          "text": "Sparing Low Status",
          "x": 0.001,
          "xanchor": "center",
          "y": 0.03858845106768172,
          "yanchor": "middle"
         },
         {
          "font": {
           "size": 12
          },
          "showarrow": false,
          "text": "Sparing High Status",
          "x": 0.001,
          "xanchor": "center",
          "y": 0.14596524376650843,
          "yanchor": "middle"
         },
         {
          "font": {
           "size": 12
          },
          "showarrow": false,
          "text": "Sparing Women",
          "x": 0.001,
          "xanchor": "center",
          "y": 0.31497701906958775,
          "yanchor": "middle"
         },
         {
          "font": {
           "size": 12
          },
          "showarrow": false,
          "text": "Sparing Men",
          "x": 0.001,
          "xanchor": "center",
          "y": 0.42235381176841447,
          "yanchor": "middle"
         },
         {
          "font": {
           "size": 12
          },
          "showarrow": false,
          "text": "Sparing Young",
          "x": 0.001,
          "xanchor": "center",
          "y": 0.6210371577574971,
          "yanchor": "middle"
         },
         {
          "font": {
           "size": 12
          },
          "showarrow": false,
          "text": "Sparing Old",
          "x": 0.001,
          "xanchor": "center",
          "y": 0.7279067796610172,
          "yanchor": "middle"
         },
         {
          "font": {
           "size": 12
          },
          "showarrow": false,
          "text": "Sparing Unfit",
          "x": 0.001,
          "xanchor": "center",
          "y": 0.8374199440513415,
          "yanchor": "middle"
         },
         {
          "font": {
           "size": 12
          },
          "showarrow": false,
          "text": "Sparing Fit",
          "x": 0.001,
          "xanchor": "center",
          "y": 0.9447967367501681,
          "yanchor": "middle"
         },
         {
          "font": {
           "size": 12
          },
          "showarrow": false,
          "text": "Deontology",
          "x": 0.999,
          "xanchor": "center",
          "y": 0.3842882111973004,
          "yanchor": "middle"
         },
         {
          "font": {
           "size": 12
          },
          "showarrow": false,
          "text": "Consequentialism",
          "x": 0.999,
          "xanchor": "center",
          "y": 0.8957882111973005,
          "yanchor": "middle"
         },
         {
          "font": {
           "color": "rgba(0,0,0,0.7)",
           "size": 14
          },
          "showarrow": false,
          "text": "<b>SocialValue</b>",
          "x": -0.325,
          "xanchor": "center",
          "y": 0.08000000000000007,
          "yanchor": "middle"
         },
         {
          "font": {
           "color": "rgba(0,0,0,0.7)",
           "size": 14
          },
          "showarrow": false,
          "text": "<b>Gender</b>",
          "x": -0.325,
          "xanchor": "center",
          "y": 0.36,
          "yanchor": "middle"
         },
         {
          "font": {
           "color": "rgba(0,0,0,0.7)",
           "size": 14
          },
          "showarrow": false,
          "text": "<b>Age</b>",
          "x": -0.325,
          "xanchor": "center",
          "y": 0.6399999999999999,
          "yanchor": "middle"
         },
         {
          "font": {
           "color": "rgba(0,0,0,0.7)",
           "size": 14
          },
          "showarrow": false,
          "text": "<b>Fitness</b>",
          "x": -0.325,
          "xanchor": "center",
          "y": 0.9199999999999999,
          "yanchor": "middle"
         }
        ],
        "font": {
         "size": 12
        },
        "height": 500,
        "margin": {
         "b": 15,
         "l": 185,
         "r": 100,
         "t": 15
        },
        "template": {
         "data": {
          "bar": [
           {
            "error_x": {
             "color": "#2a3f5f"
            },
            "error_y": {
             "color": "#2a3f5f"
            },
            "marker": {
             "line": {
              "color": "#E5ECF6",
              "width": 0.5
             },
             "pattern": {
              "fillmode": "overlay",
              "size": 10,
              "solidity": 0.2
             }
            },
            "type": "bar"
           }
          ],
          "barpolar": [
           {
            "marker": {
             "line": {
              "color": "#E5ECF6",
              "width": 0.5
             },
             "pattern": {
              "fillmode": "overlay",
              "size": 10,
              "solidity": 0.2
             }
            },
            "type": "barpolar"
           }
          ],
          "carpet": [
           {
            "aaxis": {
             "endlinecolor": "#2a3f5f",
             "gridcolor": "white",
             "linecolor": "white",
             "minorgridcolor": "white",
             "startlinecolor": "#2a3f5f"
            },
            "baxis": {
             "endlinecolor": "#2a3f5f",
             "gridcolor": "white",
             "linecolor": "white",
             "minorgridcolor": "white",
             "startlinecolor": "#2a3f5f"
            },
            "type": "carpet"
           }
          ],
          "choropleth": [
           {
            "colorbar": {
             "outlinewidth": 0,
             "ticks": ""
            },
            "type": "choropleth"
           }
          ],
          "contour": [
           {
            "colorbar": {
             "outlinewidth": 0,
             "ticks": ""
            },
            "colorscale": [
             [
              0,
              "#0d0887"
             ],
             [
              0.1111111111111111,
              "#46039f"
             ],
             [
              0.2222222222222222,
              "#7201a8"
             ],
             [
              0.3333333333333333,
              "#9c179e"
             ],
             [
              0.4444444444444444,
              "#bd3786"
             ],
             [
              0.5555555555555556,
              "#d8576b"
             ],
             [
              0.6666666666666666,
              "#ed7953"
             ],
             [
              0.7777777777777778,
              "#fb9f3a"
             ],
             [
              0.8888888888888888,
              "#fdca26"
             ],
             [
              1,
              "#f0f921"
             ]
            ],
            "type": "contour"
           }
          ],
          "contourcarpet": [
           {
            "colorbar": {
             "outlinewidth": 0,
             "ticks": ""
            },
            "type": "contourcarpet"
           }
          ],
          "heatmap": [
           {
            "colorbar": {
             "outlinewidth": 0,
             "ticks": ""
            },
            "colorscale": [
             [
              0,
              "#0d0887"
             ],
             [
              0.1111111111111111,
              "#46039f"
             ],
             [
              0.2222222222222222,
              "#7201a8"
             ],
             [
              0.3333333333333333,
              "#9c179e"
             ],
             [
              0.4444444444444444,
              "#bd3786"
             ],
             [
              0.5555555555555556,
              "#d8576b"
             ],
             [
              0.6666666666666666,
              "#ed7953"
             ],
             [
              0.7777777777777778,
              "#fb9f3a"
             ],
             [
              0.8888888888888888,
              "#fdca26"
             ],
             [
              1,
              "#f0f921"
             ]
            ],
            "type": "heatmap"
           }
          ],
          "histogram": [
           {
            "marker": {
             "pattern": {
              "fillmode": "overlay",
              "size": 10,
              "solidity": 0.2
             }
            },
            "type": "histogram"
           }
          ],
          "histogram2d": [
           {
            "colorbar": {
             "outlinewidth": 0,
             "ticks": ""
            },
            "colorscale": [
             [
              0,
              "#0d0887"
             ],
             [
              0.1111111111111111,
              "#46039f"
             ],
             [
              0.2222222222222222,
              "#7201a8"
             ],
             [
              0.3333333333333333,
              "#9c179e"
             ],
             [
              0.4444444444444444,
              "#bd3786"
             ],
             [
              0.5555555555555556,
              "#d8576b"
             ],
             [
              0.6666666666666666,
              "#ed7953"
             ],
             [
              0.7777777777777778,
              "#fb9f3a"
             ],
             [
              0.8888888888888888,
              "#fdca26"
             ],
             [
              1,
              "#f0f921"
             ]
            ],
            "type": "histogram2d"
           }
          ],
          "histogram2dcontour": [
           {
            "colorbar": {
             "outlinewidth": 0,
             "ticks": ""
            },
            "colorscale": [
             [
              0,
              "#0d0887"
             ],
             [
              0.1111111111111111,
              "#46039f"
             ],
             [
              0.2222222222222222,
              "#7201a8"
             ],
             [
              0.3333333333333333,
              "#9c179e"
             ],
             [
              0.4444444444444444,
              "#bd3786"
             ],
             [
              0.5555555555555556,
              "#d8576b"
             ],
             [
              0.6666666666666666,
              "#ed7953"
             ],
             [
              0.7777777777777778,
              "#fb9f3a"
             ],
             [
              0.8888888888888888,
              "#fdca26"
             ],
             [
              1,
              "#f0f921"
             ]
            ],
            "type": "histogram2dcontour"
           }
          ],
          "mesh3d": [
           {
            "colorbar": {
             "outlinewidth": 0,
             "ticks": ""
            },
            "type": "mesh3d"
           }
          ],
          "parcoords": [
           {
            "line": {
             "colorbar": {
              "outlinewidth": 0,
              "ticks": ""
             }
            },
            "type": "parcoords"
           }
          ],
          "pie": [
           {
            "automargin": true,
            "type": "pie"
           }
          ],
          "scatter": [
           {
            "fillpattern": {
             "fillmode": "overlay",
             "size": 10,
             "solidity": 0.2
            },
            "type": "scatter"
           }
          ],
          "scatter3d": [
           {
            "line": {
             "colorbar": {
              "outlinewidth": 0,
              "ticks": ""
             }
            },
            "marker": {
             "colorbar": {
              "outlinewidth": 0,
              "ticks": ""
             }
            },
            "type": "scatter3d"
           }
          ],
          "scattercarpet": [
           {
            "marker": {
             "colorbar": {
              "outlinewidth": 0,
              "ticks": ""
             }
            },
            "type": "scattercarpet"
           }
          ],
          "scattergeo": [
           {
            "marker": {
             "colorbar": {
              "outlinewidth": 0,
              "ticks": ""
             }
            },
            "type": "scattergeo"
           }
          ],
          "scattergl": [
           {
            "marker": {
             "colorbar": {
              "outlinewidth": 0,
              "ticks": ""
             }
            },
            "type": "scattergl"
           }
          ],
          "scattermap": [
           {
            "marker": {
             "colorbar": {
              "outlinewidth": 0,
              "ticks": ""
             }
            },
            "type": "scattermap"
           }
          ],
          "scattermapbox": [
           {
            "marker": {
             "colorbar": {
              "outlinewidth": 0,
              "ticks": ""
             }
            },
            "type": "scattermapbox"
           }
          ],
          "scatterpolar": [
           {
            "marker": {
             "colorbar": {
              "outlinewidth": 0,
              "ticks": ""
             }
            },
            "type": "scatterpolar"
           }
          ],
          "scatterpolargl": [
           {
            "marker": {
             "colorbar": {
              "outlinewidth": 0,
              "ticks": ""
             }
            },
            "type": "scatterpolargl"
           }
          ],
          "scatterternary": [
           {
            "marker": {
             "colorbar": {
              "outlinewidth": 0,
              "ticks": ""
             }
            },
            "type": "scatterternary"
           }
          ],
          "surface": [
           {
            "colorbar": {
             "outlinewidth": 0,
             "ticks": ""
            },
            "colorscale": [
             [
              0,
              "#0d0887"
             ],
             [
              0.1111111111111111,
              "#46039f"
             ],
             [
              0.2222222222222222,
              "#7201a8"
             ],
             [
              0.3333333333333333,
              "#9c179e"
             ],
             [
              0.4444444444444444,
              "#bd3786"
             ],
             [
              0.5555555555555556,
              "#d8576b"
             ],
             [
              0.6666666666666666,
              "#ed7953"
             ],
             [
              0.7777777777777778,
              "#fb9f3a"
             ],
             [
              0.8888888888888888,
              "#fdca26"
             ],
             [
              1,
              "#f0f921"
             ]
            ],
            "type": "surface"
           }
          ],
          "table": [
           {
            "cells": {
             "fill": {
              "color": "#EBF0F8"
             },
             "line": {
              "color": "white"
             }
            },
            "header": {
             "fill": {
              "color": "#C8D4E3"
             },
             "line": {
              "color": "white"
             }
            },
            "type": "table"
           }
          ]
         },
         "layout": {
          "annotationdefaults": {
           "arrowcolor": "#2a3f5f",
           "arrowhead": 0,
           "arrowwidth": 1
          },
          "autotypenumbers": "strict",
          "coloraxis": {
           "colorbar": {
            "outlinewidth": 0,
            "ticks": ""
           }
          },
          "colorscale": {
           "diverging": [
            [
             0,
             "#8e0152"
            ],
            [
             0.1,
             "#c51b7d"
            ],
            [
             0.2,
             "#de77ae"
            ],
            [
             0.3,
             "#f1b6da"
            ],
            [
             0.4,
             "#fde0ef"
            ],
            [
             0.5,
             "#f7f7f7"
            ],
            [
             0.6,
             "#e6f5d0"
            ],
            [
             0.7,
             "#b8e186"
            ],
            [
             0.8,
             "#7fbc41"
            ],
            [
             0.9,
             "#4d9221"
            ],
            [
             1,
             "#276419"
            ]
           ],
           "sequential": [
            [
             0,
             "#0d0887"
            ],
            [
             0.1111111111111111,
             "#46039f"
            ],
            [
             0.2222222222222222,
             "#7201a8"
            ],
            [
             0.3333333333333333,
             "#9c179e"
            ],
            [
             0.4444444444444444,
             "#bd3786"
            ],
            [
             0.5555555555555556,
             "#d8576b"
            ],
            [
             0.6666666666666666,
             "#ed7953"
            ],
            [
             0.7777777777777778,
             "#fb9f3a"
            ],
            [
             0.8888888888888888,
             "#fdca26"
            ],
            [
             1,
             "#f0f921"
            ]
           ],
           "sequentialminus": [
            [
             0,
             "#0d0887"
            ],
            [
             0.1111111111111111,
             "#46039f"
            ],
            [
             0.2222222222222222,
             "#7201a8"
            ],
            [
             0.3333333333333333,
             "#9c179e"
            ],
            [
             0.4444444444444444,
             "#bd3786"
            ],
            [
             0.5555555555555556,
             "#d8576b"
            ],
            [
             0.6666666666666666,
             "#ed7953"
            ],
            [
             0.7777777777777778,
             "#fb9f3a"
            ],
            [
             0.8888888888888888,
             "#fdca26"
            ],
            [
             1,
             "#f0f921"
            ]
           ]
          },
          "colorway": [
           "#636efa",
           "#EF553B",
           "#00cc96",
           "#ab63fa",
           "#FFA15A",
           "#19d3f3",
           "#FF6692",
           "#B6E880",
           "#FF97FF",
           "#FECB52"
          ],
          "font": {
           "color": "#2a3f5f"
          },
          "geo": {
           "bgcolor": "white",
           "lakecolor": "white",
           "landcolor": "#E5ECF6",
           "showlakes": true,
           "showland": true,
           "subunitcolor": "white"
          },
          "hoverlabel": {
           "align": "left"
          },
          "hovermode": "closest",
          "mapbox": {
           "style": "light"
          },
          "paper_bgcolor": "white",
          "plot_bgcolor": "#E5ECF6",
          "polar": {
           "angularaxis": {
            "gridcolor": "white",
            "linecolor": "white",
            "ticks": ""
           },
           "bgcolor": "#E5ECF6",
           "radialaxis": {
            "gridcolor": "white",
            "linecolor": "white",
            "ticks": ""
           }
          },
          "scene": {
           "xaxis": {
            "backgroundcolor": "#E5ECF6",
            "gridcolor": "white",
            "gridwidth": 2,
            "linecolor": "white",
            "showbackground": true,
            "ticks": "",
            "zerolinecolor": "white"
           },
           "yaxis": {
            "backgroundcolor": "#E5ECF6",
            "gridcolor": "white",
            "gridwidth": 2,
            "linecolor": "white",
            "showbackground": true,
            "ticks": "",
            "zerolinecolor": "white"
           },
           "zaxis": {
            "backgroundcolor": "#E5ECF6",
            "gridcolor": "white",
            "gridwidth": 2,
            "linecolor": "white",
            "showbackground": true,
            "ticks": "",
            "zerolinecolor": "white"
           }
          },
          "shapedefaults": {
           "line": {
            "color": "#2a3f5f"
           }
          },
          "ternary": {
           "aaxis": {
            "gridcolor": "white",
            "linecolor": "white",
            "ticks": ""
           },
           "baxis": {
            "gridcolor": "white",
            "linecolor": "white",
            "ticks": ""
           },
           "bgcolor": "#E5ECF6",
           "caxis": {
            "gridcolor": "white",
            "linecolor": "white",
            "ticks": ""
           }
          },
          "title": {
           "x": 0.05
          },
          "xaxis": {
           "automargin": true,
           "gridcolor": "white",
           "linecolor": "white",
           "ticks": "",
           "title": {
            "standoff": 15
           },
           "zerolinecolor": "white",
           "zerolinewidth": 2
          },
          "yaxis": {
           "automargin": true,
           "gridcolor": "white",
           "linecolor": "white",
           "ticks": "",
           "title": {
            "standoff": 15
           },
           "zerolinecolor": "white",
           "zerolinewidth": 2
          }
         }
        },
        "width": 700
       }
      }
     },
     "metadata": {},
     "output_type": "display_data"
    },
    {
     "name": "stdout",
     "output_type": "stream",
     "text": [
      "Model ID: deepseek-r1:\n"
     ]
    },
    {
     "data": {
      "application/vnd.plotly.v1+json": {
       "config": {
        "plotlyServerURL": "https://plot.ly"
       },
       "data": [
        {
         "arrangement": "fixed",
         "link": {
          "color": [
           "#74A0E0",
           "#E9A178",
           "#74A0E0",
           "#E9A178",
           "#74A0E0",
           "#E9A178",
           "#74A0E0",
           "#E9A178",
           "#74A0E0",
           "#E9A178",
           "#74A0E0",
           "#E9A178",
           "#74A0E0",
           "#E9A178"
          ],
          "source": {
           "bdata": "AAABAQICAwMEBAUFBgY=",
           "dtype": "i1"
          },
          "target": {
           "bdata": "BwgHCAcIBwgHCAcIBwg=",
           "dtype": "i1"
          },
          "value": {
           "bdata": "AhTcdAU81D+lEcJWugGzPwQxGyvaX94/HkcOnb87wT9p1PyrTQrhP8KZ6kiMBbM/AZVsvRtf2D+4CGeqIzGGP+Q4juM4juM/OY7jOI7j2D8VvtwQA9LRPxW+3BAD0sE/SrCr8OWG2D9KsKvw5YbIPw==",
           "dtype": "f8"
          }
         },
         "node": {
          "color": [
           "#8aa0cc",
           "#8da0c9",
           "#82a0d3",
           "#77a0dd",
           "#a1a0b7",
           "#9ba0bd",
           "#9ba0bd",
           "#74A0E0",
           "#E9A178"
          ],
          "line": {
           "color": "rgba(0,0,0,0.25)",
           "width": 0.5
          },
          "pad": 15,
          "thickness": 170,
          "x": [
           0.001,
           0.001,
           0.001,
           0.001,
           0.001,
           0.001,
           0.001,
           0.999,
           0.999
          ],
          "y": [
           0.9604542909541455,
           0.8517576346711293,
           0.6716951734233141,
           0.5631162791966008,
           0.36571716925890274,
           0.16574868415951416,
           0.057755964390882014,
           0.6360871097228988,
           0.12458710972289891
          ]
         },
         "type": "sankey"
        }
       ],
       "layout": {
        "annotations": [
         {
          "font": {
           "size": 12
          },
          "showarrow": false,
          "text": "Sparing Low Status",
          "x": 0.001,
          "xanchor": "center",
          "y": 0.03954570904585453,
          "yanchor": "middle"
         },
         {
          "font": {
           "size": 12
          },
          "showarrow": false,
          "text": "Sparing High Status",
          "x": 0.001,
          "xanchor": "center",
          "y": 0.1482423653288707,
          "yanchor": "middle"
         },
         {
          "font": {
           "size": 12
          },
          "showarrow": false,
          "text": "Sparing Women",
          "x": 0.001,
          "xanchor": "center",
          "y": 0.3283048265766859,
          "yanchor": "middle"
         },
         {
          "font": {
           "size": 12
          },
          "showarrow": false,
          "text": "Sparing Men",
          "x": 0.001,
          "xanchor": "center",
          "y": 0.4368837208033992,
          "yanchor": "middle"
         },
         {
          "font": {
           "size": 12
          },
          "showarrow": false,
          "text": "Sparing Young",
          "x": 0.001,
          "xanchor": "center",
          "y": 0.6342828307410973,
          "yanchor": "middle"
         },
         {
          "font": {
           "size": 12
          },
          "showarrow": false,
          "text": "Sparing Unfit",
          "x": 0.001,
          "xanchor": "center",
          "y": 0.8342513158404858,
          "yanchor": "middle"
         },
         {
          "font": {
           "size": 12
          },
          "showarrow": false,
          "text": "Sparing Fit",
          "x": 0.001,
          "xanchor": "center",
          "y": 0.942244035609118,
          "yanchor": "middle"
         },
         {
          "font": {
           "size": 12
          },
          "showarrow": false,
          "text": "Deontology",
          "x": 0.999,
          "xanchor": "center",
          "y": 0.36391289027710116,
          "yanchor": "middle"
         },
         {
          "font": {
           "size": 12
          },
          "showarrow": false,
          "text": "Consequentialism",
          "x": 0.999,
          "xanchor": "center",
          "y": 0.8754128902771011,
          "yanchor": "middle"
         },
         {
          "font": {
           "color": "rgba(0,0,0,0.7)",
           "size": 14
          },
          "showarrow": false,
          "text": "<b>SocialValue</b>",
          "x": -0.325,
          "xanchor": "center",
          "y": 0.08000000000000007,
          "yanchor": "middle"
         },
         {
          "font": {
           "color": "rgba(0,0,0,0.7)",
           "size": 14
          },
          "showarrow": false,
          "text": "<b>Gender</b>",
          "x": -0.325,
          "xanchor": "center",
          "y": 0.36,
          "yanchor": "middle"
         },
         {
          "font": {
           "color": "rgba(0,0,0,0.7)",
           "size": 14
          },
          "showarrow": false,
          "text": "<b>Age</b>",
          "x": -0.325,
          "xanchor": "center",
          "y": 0.6399999999999999,
          "yanchor": "middle"
         },
         {
          "font": {
           "color": "rgba(0,0,0,0.7)",
           "size": 14
          },
          "showarrow": false,
          "text": "<b>Fitness</b>",
          "x": -0.325,
          "xanchor": "center",
          "y": 0.9199999999999999,
          "yanchor": "middle"
         }
        ],
        "font": {
         "size": 12
        },
        "height": 500,
        "margin": {
         "b": 15,
         "l": 185,
         "r": 100,
         "t": 15
        },
        "template": {
         "data": {
          "bar": [
           {
            "error_x": {
             "color": "#2a3f5f"
            },
            "error_y": {
             "color": "#2a3f5f"
            },
            "marker": {
             "line": {
              "color": "#E5ECF6",
              "width": 0.5
             },
             "pattern": {
              "fillmode": "overlay",
              "size": 10,
              "solidity": 0.2
             }
            },
            "type": "bar"
           }
          ],
          "barpolar": [
           {
            "marker": {
             "line": {
              "color": "#E5ECF6",
              "width": 0.5
             },
             "pattern": {
              "fillmode": "overlay",
              "size": 10,
              "solidity": 0.2
             }
            },
            "type": "barpolar"
           }
          ],
          "carpet": [
           {
            "aaxis": {
             "endlinecolor": "#2a3f5f",
             "gridcolor": "white",
             "linecolor": "white",
             "minorgridcolor": "white",
             "startlinecolor": "#2a3f5f"
            },
            "baxis": {
             "endlinecolor": "#2a3f5f",
             "gridcolor": "white",
             "linecolor": "white",
             "minorgridcolor": "white",
             "startlinecolor": "#2a3f5f"
            },
            "type": "carpet"
           }
          ],
          "choropleth": [
           {
            "colorbar": {
             "outlinewidth": 0,
             "ticks": ""
            },
            "type": "choropleth"
           }
          ],
          "contour": [
           {
            "colorbar": {
             "outlinewidth": 0,
             "ticks": ""
            },
            "colorscale": [
             [
              0,
              "#0d0887"
             ],
             [
              0.1111111111111111,
              "#46039f"
             ],
             [
              0.2222222222222222,
              "#7201a8"
             ],
             [
              0.3333333333333333,
              "#9c179e"
             ],
             [
              0.4444444444444444,
              "#bd3786"
             ],
             [
              0.5555555555555556,
              "#d8576b"
             ],
             [
              0.6666666666666666,
              "#ed7953"
             ],
             [
              0.7777777777777778,
              "#fb9f3a"
             ],
             [
              0.8888888888888888,
              "#fdca26"
             ],
             [
              1,
              "#f0f921"
             ]
            ],
            "type": "contour"
           }
          ],
          "contourcarpet": [
           {
            "colorbar": {
             "outlinewidth": 0,
             "ticks": ""
            },
            "type": "contourcarpet"
           }
          ],
          "heatmap": [
           {
            "colorbar": {
             "outlinewidth": 0,
             "ticks": ""
            },
            "colorscale": [
             [
              0,
              "#0d0887"
             ],
             [
              0.1111111111111111,
              "#46039f"
             ],
             [
              0.2222222222222222,
              "#7201a8"
             ],
             [
              0.3333333333333333,
              "#9c179e"
             ],
             [
              0.4444444444444444,
              "#bd3786"
             ],
             [
              0.5555555555555556,
              "#d8576b"
             ],
             [
              0.6666666666666666,
              "#ed7953"
             ],
             [
              0.7777777777777778,
              "#fb9f3a"
             ],
             [
              0.8888888888888888,
              "#fdca26"
             ],
             [
              1,
              "#f0f921"
             ]
            ],
            "type": "heatmap"
           }
          ],
          "histogram": [
           {
            "marker": {
             "pattern": {
              "fillmode": "overlay",
              "size": 10,
              "solidity": 0.2
             }
            },
            "type": "histogram"
           }
          ],
          "histogram2d": [
           {
            "colorbar": {
             "outlinewidth": 0,
             "ticks": ""
            },
            "colorscale": [
             [
              0,
              "#0d0887"
             ],
             [
              0.1111111111111111,
              "#46039f"
             ],
             [
              0.2222222222222222,
              "#7201a8"
             ],
             [
              0.3333333333333333,
              "#9c179e"
             ],
             [
              0.4444444444444444,
              "#bd3786"
             ],
             [
              0.5555555555555556,
              "#d8576b"
             ],
             [
              0.6666666666666666,
              "#ed7953"
             ],
             [
              0.7777777777777778,
              "#fb9f3a"
             ],
             [
              0.8888888888888888,
              "#fdca26"
             ],
             [
              1,
              "#f0f921"
             ]
            ],
            "type": "histogram2d"
           }
          ],
          "histogram2dcontour": [
           {
            "colorbar": {
             "outlinewidth": 0,
             "ticks": ""
            },
            "colorscale": [
             [
              0,
              "#0d0887"
             ],
             [
              0.1111111111111111,
              "#46039f"
             ],
             [
              0.2222222222222222,
              "#7201a8"
             ],
             [
              0.3333333333333333,
              "#9c179e"
             ],
             [
              0.4444444444444444,
              "#bd3786"
             ],
             [
              0.5555555555555556,
              "#d8576b"
             ],
             [
              0.6666666666666666,
              "#ed7953"
             ],
             [
              0.7777777777777778,
              "#fb9f3a"
             ],
             [
              0.8888888888888888,
              "#fdca26"
             ],
             [
              1,
              "#f0f921"
             ]
            ],
            "type": "histogram2dcontour"
           }
          ],
          "mesh3d": [
           {
            "colorbar": {
             "outlinewidth": 0,
             "ticks": ""
            },
            "type": "mesh3d"
           }
          ],
          "parcoords": [
           {
            "line": {
             "colorbar": {
              "outlinewidth": 0,
              "ticks": ""
             }
            },
            "type": "parcoords"
           }
          ],
          "pie": [
           {
            "automargin": true,
            "type": "pie"
           }
          ],
          "scatter": [
           {
            "fillpattern": {
             "fillmode": "overlay",
             "size": 10,
             "solidity": 0.2
            },
            "type": "scatter"
           }
          ],
          "scatter3d": [
           {
            "line": {
             "colorbar": {
              "outlinewidth": 0,
              "ticks": ""
             }
            },
            "marker": {
             "colorbar": {
              "outlinewidth": 0,
              "ticks": ""
             }
            },
            "type": "scatter3d"
           }
          ],
          "scattercarpet": [
           {
            "marker": {
             "colorbar": {
              "outlinewidth": 0,
              "ticks": ""
             }
            },
            "type": "scattercarpet"
           }
          ],
          "scattergeo": [
           {
            "marker": {
             "colorbar": {
              "outlinewidth": 0,
              "ticks": ""
             }
            },
            "type": "scattergeo"
           }
          ],
          "scattergl": [
           {
            "marker": {
             "colorbar": {
              "outlinewidth": 0,
              "ticks": ""
             }
            },
            "type": "scattergl"
           }
          ],
          "scattermap": [
           {
            "marker": {
             "colorbar": {
              "outlinewidth": 0,
              "ticks": ""
             }
            },
            "type": "scattermap"
           }
          ],
          "scattermapbox": [
           {
            "marker": {
             "colorbar": {
              "outlinewidth": 0,
              "ticks": ""
             }
            },
            "type": "scattermapbox"
           }
          ],
          "scatterpolar": [
           {
            "marker": {
             "colorbar": {
              "outlinewidth": 0,
              "ticks": ""
             }
            },
            "type": "scatterpolar"
           }
          ],
          "scatterpolargl": [
           {
            "marker": {
             "colorbar": {
              "outlinewidth": 0,
              "ticks": ""
             }
            },
            "type": "scatterpolargl"
           }
          ],
          "scatterternary": [
           {
            "marker": {
             "colorbar": {
              "outlinewidth": 0,
              "ticks": ""
             }
            },
            "type": "scatterternary"
           }
          ],
          "surface": [
           {
            "colorbar": {
             "outlinewidth": 0,
             "ticks": ""
            },
            "colorscale": [
             [
              0,
              "#0d0887"
             ],
             [
              0.1111111111111111,
              "#46039f"
             ],
             [
              0.2222222222222222,
              "#7201a8"
             ],
             [
              0.3333333333333333,
              "#9c179e"
             ],
             [
              0.4444444444444444,
              "#bd3786"
             ],
             [
              0.5555555555555556,
              "#d8576b"
             ],
             [
              0.6666666666666666,
              "#ed7953"
             ],
             [
              0.7777777777777778,
              "#fb9f3a"
             ],
             [
              0.8888888888888888,
              "#fdca26"
             ],
             [
              1,
              "#f0f921"
             ]
            ],
            "type": "surface"
           }
          ],
          "table": [
           {
            "cells": {
             "fill": {
              "color": "#EBF0F8"
             },
             "line": {
              "color": "white"
             }
            },
            "header": {
             "fill": {
              "color": "#C8D4E3"
             },
             "line": {
              "color": "white"
             }
            },
            "type": "table"
           }
          ]
         },
         "layout": {
          "annotationdefaults": {
           "arrowcolor": "#2a3f5f",
           "arrowhead": 0,
           "arrowwidth": 1
          },
          "autotypenumbers": "strict",
          "coloraxis": {
           "colorbar": {
            "outlinewidth": 0,
            "ticks": ""
           }
          },
          "colorscale": {
           "diverging": [
            [
             0,
             "#8e0152"
            ],
            [
             0.1,
             "#c51b7d"
            ],
            [
             0.2,
             "#de77ae"
            ],
            [
             0.3,
             "#f1b6da"
            ],
            [
             0.4,
             "#fde0ef"
            ],
            [
             0.5,
             "#f7f7f7"
            ],
            [
             0.6,
             "#e6f5d0"
            ],
            [
             0.7,
             "#b8e186"
            ],
            [
             0.8,
             "#7fbc41"
            ],
            [
             0.9,
             "#4d9221"
            ],
            [
             1,
             "#276419"
            ]
           ],
           "sequential": [
            [
             0,
             "#0d0887"
            ],
            [
             0.1111111111111111,
             "#46039f"
            ],
            [
             0.2222222222222222,
             "#7201a8"
            ],
            [
             0.3333333333333333,
             "#9c179e"
            ],
            [
             0.4444444444444444,
             "#bd3786"
            ],
            [
             0.5555555555555556,
             "#d8576b"
            ],
            [
             0.6666666666666666,
             "#ed7953"
            ],
            [
             0.7777777777777778,
             "#fb9f3a"
            ],
            [
             0.8888888888888888,
             "#fdca26"
            ],
            [
             1,
             "#f0f921"
            ]
           ],
           "sequentialminus": [
            [
             0,
             "#0d0887"
            ],
            [
             0.1111111111111111,
             "#46039f"
            ],
            [
             0.2222222222222222,
             "#7201a8"
            ],
            [
             0.3333333333333333,
             "#9c179e"
            ],
            [
             0.4444444444444444,
             "#bd3786"
            ],
            [
             0.5555555555555556,
             "#d8576b"
            ],
            [
             0.6666666666666666,
             "#ed7953"
            ],
            [
             0.7777777777777778,
             "#fb9f3a"
            ],
            [
             0.8888888888888888,
             "#fdca26"
            ],
            [
             1,
             "#f0f921"
            ]
           ]
          },
          "colorway": [
           "#636efa",
           "#EF553B",
           "#00cc96",
           "#ab63fa",
           "#FFA15A",
           "#19d3f3",
           "#FF6692",
           "#B6E880",
           "#FF97FF",
           "#FECB52"
          ],
          "font": {
           "color": "#2a3f5f"
          },
          "geo": {
           "bgcolor": "white",
           "lakecolor": "white",
           "landcolor": "#E5ECF6",
           "showlakes": true,
           "showland": true,
           "subunitcolor": "white"
          },
          "hoverlabel": {
           "align": "left"
          },
          "hovermode": "closest",
          "mapbox": {
           "style": "light"
          },
          "paper_bgcolor": "white",
          "plot_bgcolor": "#E5ECF6",
          "polar": {
           "angularaxis": {
            "gridcolor": "white",
            "linecolor": "white",
            "ticks": ""
           },
           "bgcolor": "#E5ECF6",
           "radialaxis": {
            "gridcolor": "white",
            "linecolor": "white",
            "ticks": ""
           }
          },
          "scene": {
           "xaxis": {
            "backgroundcolor": "#E5ECF6",
            "gridcolor": "white",
            "gridwidth": 2,
            "linecolor": "white",
            "showbackground": true,
            "ticks": "",
            "zerolinecolor": "white"
           },
           "yaxis": {
            "backgroundcolor": "#E5ECF6",
            "gridcolor": "white",
            "gridwidth": 2,
            "linecolor": "white",
            "showbackground": true,
            "ticks": "",
            "zerolinecolor": "white"
           },
           "zaxis": {
            "backgroundcolor": "#E5ECF6",
            "gridcolor": "white",
            "gridwidth": 2,
            "linecolor": "white",
            "showbackground": true,
            "ticks": "",
            "zerolinecolor": "white"
           }
          },
          "shapedefaults": {
           "line": {
            "color": "#2a3f5f"
           }
          },
          "ternary": {
           "aaxis": {
            "gridcolor": "white",
            "linecolor": "white",
            "ticks": ""
           },
           "baxis": {
            "gridcolor": "white",
            "linecolor": "white",
            "ticks": ""
           },
           "bgcolor": "#E5ECF6",
           "caxis": {
            "gridcolor": "white",
            "linecolor": "white",
            "ticks": ""
           }
          },
          "title": {
           "x": 0.05
          },
          "xaxis": {
           "automargin": true,
           "gridcolor": "white",
           "linecolor": "white",
           "ticks": "",
           "title": {
            "standoff": 15
           },
           "zerolinecolor": "white",
           "zerolinewidth": 2
          },
          "yaxis": {
           "automargin": true,
           "gridcolor": "white",
           "linecolor": "white",
           "ticks": "",
           "title": {
            "standoff": 15
           },
           "zerolinecolor": "white",
           "zerolinewidth": 2
          }
         }
        },
        "width": 700
       }
      }
     },
     "metadata": {},
     "output_type": "display_data"
    }
   ],
   "source": [
    "model_ids = [\n",
    "    'deepseek-chat-v3-0324',\n",
    "    'deepseek-r1',\n",
    "    # 'Llama-3.2-3B-Instruct',\n",
    "]\n",
    "num1num2 = (\n",
    "    # ''\n",
    "    '=='\n",
    "    # '!='\n",
    ")\n",
    "\n",
    "for model_id in model_ids:\n",
    "    if model_id not in model_dfs:\n",
    "        print(f\"Model ID {model_id} not found in the data.\")\n",
    "        continue\n",
    "\n",
    "    # Get the category dataframe for the specified model\n",
    "    cat_df = get_catdf(model_dfs[model_id], num1num2=num1num2)\n",
    "    fig = make_sankey(cat_df)\n",
    "    print(f\"Model ID: {model_id}:\")\n",
    "    fig.show()"
   ]
  },
  {
   "cell_type": "code",
   "execution_count": null,
   "id": "3c74eabf",
   "metadata": {},
   "outputs": [],
   "source": []
  }
 ],
 "metadata": {
  "kernelspec": {
   "display_name": "moral2",
   "language": "python",
   "name": "python3"
  },
  "language_info": {
   "codemirror_mode": {
    "name": "ipython",
    "version": 3
   },
   "file_extension": ".py",
   "mimetype": "text/x-python",
   "name": "python",
   "nbconvert_exporter": "python",
   "pygments_lexer": "ipython3",
   "version": "3.10.16"
  }
 },
 "nbformat": 4,
 "nbformat_minor": 5
}
