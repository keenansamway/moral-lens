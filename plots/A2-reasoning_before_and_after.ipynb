{
 "cells": [
  {
   "cell_type": "markdown",
   "id": "cc787a0c",
   "metadata": {},
   "source": [
    "## Query models"
   ]
  },
  {
   "cell_type": "code",
   "execution_count": 1,
   "id": "9c7719ec",
   "metadata": {},
   "outputs": [
    {
     "name": "stdout",
     "output_type": "stream",
     "text": [
      "[INFO] Configured API keys: HF_TOKEN, OPENAI_API_KEY, ANTHROPIC_API_KEY, GOOGLE_API_KEY, OPENROUTER_API_KEY\n"
     ]
    }
   ],
   "source": [
    "import os\n",
    "import pandas as pd\n",
    "import numpy as np\n",
    "from glob import glob\n",
    "\n",
    "from moral_lens.dilemma import DilemmaRunner\n",
    "from moral_lens.judge import JudgeRunner"
   ]
  },
  {
   "cell_type": "code",
   "execution_count": 38,
   "id": "3bcc582c",
   "metadata": {},
   "outputs": [],
   "source": [
    "decision_model_ids = [\n",
    "    # # # RQ1 # # #\n",
    "    # \"gpt-4.1-2025-04-14\",\n",
    "    # \"gpt-4.1-mini-2025-04-14\",\n",
    "    # \"gpt-4.1-nano-2025-04-14\",\n",
    "    # \"gpt-4o-2024-08-06\",\n",
    "    # \"gpt-4o-mini-2024-07-18\",\n",
    "    # \"gpt-3.5-turbo-0125\",\n",
    "    # \"gpt-3.5-turbo-1106\",\n",
    "\n",
    "    # \"google/gemini-2.5-flash-preview\",\n",
    "    # \"google/gemini-2.0-flash-001\",\n",
    "    # \"google/gemini-2.0-flash-lite-001\",\n",
    "    # \"google/gemini-pro-1.5\",\n",
    "    # \"google/gemini-flash-1.5\",\n",
    "    # \"google/gemini-flash-1.5-8b\",\n",
    "\n",
    "    # \"meta-llama/llama-4-maverick\",\n",
    "    # \"meta-llama/llama-4-scout\",\n",
    "    \"meta-llama/llama-3.3-70b-instruct\",\n",
    "    # \"meta-llama/llama-3.1-405b-instruct\",\n",
    "    # \"meta-llama/llama-3.1-70b-instruct\",\n",
    "    # \"meta-llama/llama-3.1-8b-instruct\",\n",
    "    # \"meta-llama/llama-3-70b-instruct\",\n",
    "    # \"meta-llama/llama-3-8b-instruct\",\n",
    "\n",
    "    # \"anthropic/claude-3.7-sonnet:beta\",\n",
    "    # \"anthropic/claude-3.5-sonnet:beta\",\n",
    "    # \"anthropic/claude-3.5-sonnet-20240620:beta\",\n",
    "    # \"anthropic/claude-3.5-haiku:beta\",\n",
    "    # \"anthropic/claude-3-sonnet:beta\",\n",
    "    # \"anthropic/claude-3-haiku:beta\",\n",
    "\n",
    "    # \"microsoft/phi-4\",\n",
    "    # \"microsoft/phi-3.5-mini-128k-instruct\",\n",
    "    # \"microsoft/phi-3-medium-128k-instruct\",\n",
    "    # \"microsoft/phi-3-mini-128k-instruct\",\n",
    "\n",
    "    # \"qwen/qwen-turbo\",\n",
    "    # \"qwen/qwen-plus\",\n",
    "    # \"qwen/qwen-max\",\n",
    "\n",
    "    # \"qwen/qwen-2.5-7b-instruct\",\n",
    "    # \"qwen/qwen-2.5-72b-instruct\",\n",
    "\n",
    "    # \"google/gemma-3-4b-it\",\n",
    "    # \"google/gemma-3-12b-it\",\n",
    "    # \"google/gemma-3-27b-it\",\n",
    "\n",
    "    # # # RQ2 # # #\n",
    "    # \"OLMo-2-0325-32B-SFT\",\n",
    "    # \"OLMo-2-0325-32B-DPO\",\n",
    "    # \"OLMo-2-0325-32B-Instruct\",\n",
    "\n",
    "    # \"OLMo-2-1124-13B-SFT\",\n",
    "    # \"OLMo-2-1124-13B-DPO\",\n",
    "    # \"OLMo-2-1124-13B-Instruct\",\n",
    "\n",
    "    # \"Llama-3.1-Tulu-3-70B-SFT\",\n",
    "    # \"Llama-3.1-Tulu-3-70B-DPO\",\n",
    "    # \"Llama-3.1-Tulu-3-70B\",\n",
    "\n",
    "    # # # RQ3 # # #\n",
    "    # \"tulu-v2.5-dpo-13b-hh-rlhf-60k\",\n",
    "    # \"tulu-v2.5-dpo-13b-chatbot-arena-2023\",\n",
    "    # \"tulu-v2.5-dpo-13b-stackexchange-60k\",\n",
    "    # \"tulu-v2.5-dpo-13b-nectar-60k\",\n",
    "\n",
    "    # \"tulu-v2.5-ppo-13b-hh-rlhf-60k\",\n",
    "    # \"tulu-v2.5-ppo-13b-chatbot-arena-2023\",\n",
    "    # \"tulu-v2.5-ppo-13b-stackexchange-60k\",\n",
    "    # \"tulu-v2.5-ppo-13b-nectar-60k\",\n",
    "\n",
    "    # \"allenai/tulu-2-13b\",\n",
    "\n",
    "    # # RQ4 # # #\n",
    "    # \"qwen/qwq-32b\",\n",
    "    # \"qwen/qwen-max\",\n",
    "\n",
    "    # \"deepseek/deepseek-chat\",\n",
    "    # \"deepseek/deepseek-chat-v3-0324\",\n",
    "    # \"deepseek/deepseek-r1\",\n",
    "    # \"deepseek/deepseek-r1-distill-llama-70b\",\n",
    "]\n",
    "judge_model_ids = [\n",
    "    \"gpt-4.1-mini-2025-04-14\",\n",
    "    # \"gemini-2.5-flash-preview-04-17\",\n",
    "    \"google/gemini-2.5-flash-preview\",\n",
    "]\n",
    "# RESULTS_DIR = \"data/20250422/all_models/\"\n",
    "RESULTS_DIR = \"data/20250422/reasoning_before_and_after/\"\n"
   ]
  },
  {
   "cell_type": "code",
   "execution_count": 39,
   "id": "2b3ac06d",
   "metadata": {},
   "outputs": [
    {
     "name": "stdout",
     "output_type": "stream",
     "text": [
      "[INFO] OpenRouter model meta-llama/llama-3.3-70b-instruct loaded.\n"
     ]
    },
    {
     "name": "stderr",
     "output_type": "stream",
     "text": [
      "Valid responses received: 100%|##########| 460/460 [00:54<00:00,  8.41it/s]\n"
     ]
    },
    {
     "name": "stdout",
     "output_type": "stream",
     "text": [
      "[INFO] Responses saved to data/20250422/reasoning_before_and_after/responses/llama-3.3-70b-instruct_a1.csv.\n",
      "[INFO] Processed responses saved to data/20250422/reasoning_before_and_after/responses/llama-3.3-70b-instruct_a1.csv.\n"
     ]
    }
   ],
   "source": [
    "for decision_model_id in decision_model_ids:\n",
    "    # for exp in [\"s1\", \"s2\", \"s3\"]:\n",
    "    for exp in [\"a1\"]:\n",
    "        dr = DilemmaRunner(\n",
    "            model_id=decision_model_id,\n",
    "            decision_run_name=exp,\n",
    "            results_dir=RESULTS_DIR,\n",
    "            override_decision_temperature=0.7,  # default 0.0\n",
    "            prompts_template='reasoning_after',\n",
    "        )\n",
    "        await dr.run()\n",
    "        # dr.process()"
   ]
  },
  {
   "cell_type": "code",
   "execution_count": 40,
   "id": "5dc11df0",
   "metadata": {},
   "outputs": [
    {
     "name": "stdout",
     "output_type": "stream",
     "text": [
      "[INFO] OpenRouter model meta-llama/llama-3.3-70b-instruct loaded.\n"
     ]
    },
    {
     "name": "stderr",
     "output_type": "stream",
     "text": [
      "Valid responses received: 100%|##########| 460/460 [01:01<00:00,  7.47it/s]"
     ]
    },
    {
     "name": "stdout",
     "output_type": "stream",
     "text": [
      "[INFO] Responses saved to data/20250422/reasoning_before_and_after/responses/llama-3.3-70b-instruct_b1.csv.\n",
      "[INFO] Processed responses saved to data/20250422/reasoning_before_and_after/responses/llama-3.3-70b-instruct_b1.csv.\n"
     ]
    },
    {
     "name": "stderr",
     "output_type": "stream",
     "text": [
      "\n"
     ]
    }
   ],
   "source": [
    "for decision_model_id in decision_model_ids:\n",
    "    # for exp in [\"s1\", \"s2\", \"s3\"]:\n",
    "    for exp in [\"b1\"]:\n",
    "        dr = DilemmaRunner(\n",
    "            model_id=decision_model_id,\n",
    "            decision_run_name=exp,\n",
    "            results_dir=RESULTS_DIR,\n",
    "            override_decision_temperature=0.7,  # default 0.0\n",
    "            prompts_template='reasoning_before',\n",
    "        )\n",
    "        await dr.run()\n",
    "        # dr.process()"
   ]
  },
  {
   "cell_type": "code",
   "execution_count": 41,
   "id": "f1b25a76",
   "metadata": {},
   "outputs": [
    {
     "name": "stdout",
     "output_type": "stream",
     "text": [
      "[INFO] OpenRouter model google/gemini-2.5-flash-preview loaded.\n"
     ]
    },
    {
     "name": "stderr",
     "output_type": "stream",
     "text": [
      "Valid responses received: 100%|##########| 460/460 [00:50<00:00,  9.15it/s]\n"
     ]
    },
    {
     "name": "stdout",
     "output_type": "stream",
     "text": [
      "[INFO] Judge rationales output saved to data/20250422/reasoning_before_and_after/judge/llama-3.3-70b-instruct_gemini-2.5-flash-preview_a1.csv\n",
      "[INFO] Processed judge output saved to data/20250422/reasoning_before_and_after/judge/llama-3.3-70b-instruct_gemini-2.5-flash-preview_a1.csv\n",
      "[INFO] OpenRouter model google/gemini-2.5-flash-preview loaded.\n"
     ]
    },
    {
     "name": "stderr",
     "output_type": "stream",
     "text": [
      "Valid responses received: 100%|##########| 460/460 [01:42<00:00,  4.47it/s]\n"
     ]
    },
    {
     "name": "stdout",
     "output_type": "stream",
     "text": [
      "[INFO] Judge quality output updated to data/20250422/reasoning_before_and_after/judge/llama-3.3-70b-instruct_gemini-2.5-flash-preview_a1.csv\n",
      "[INFO] Processed judge output saved to data/20250422/reasoning_before_and_after/judge/llama-3.3-70b-instruct_gemini-2.5-flash-preview_a1.csv\n",
      "[INFO] OpenRouter model google/gemini-2.5-flash-preview loaded.\n"
     ]
    },
    {
     "name": "stderr",
     "output_type": "stream",
     "text": [
      "Valid responses received: 100%|##########| 460/460 [00:45<00:00, 10.01it/s]\n"
     ]
    },
    {
     "name": "stdout",
     "output_type": "stream",
     "text": [
      "[INFO] Judge rationales output saved to data/20250422/reasoning_before_and_after/judge/llama-3.3-70b-instruct_gemini-2.5-flash-preview_b1.csv\n",
      "[INFO] Processed judge output saved to data/20250422/reasoning_before_and_after/judge/llama-3.3-70b-instruct_gemini-2.5-flash-preview_b1.csv\n",
      "[INFO] OpenRouter model google/gemini-2.5-flash-preview loaded.\n"
     ]
    },
    {
     "name": "stderr",
     "output_type": "stream",
     "text": [
      "Valid responses received: 100%|##########| 460/460 [01:44<00:00,  4.40it/s]"
     ]
    },
    {
     "name": "stdout",
     "output_type": "stream",
     "text": [
      "[INFO] Judge quality output updated to data/20250422/reasoning_before_and_after/judge/llama-3.3-70b-instruct_gemini-2.5-flash-preview_b1.csv\n",
      "[INFO] Processed judge output saved to data/20250422/reasoning_before_and_after/judge/llama-3.3-70b-instruct_gemini-2.5-flash-preview_b1.csv\n"
     ]
    },
    {
     "name": "stderr",
     "output_type": "stream",
     "text": [
      "\n"
     ]
    }
   ],
   "source": [
    "for decision_model_id in decision_model_ids:\n",
    "    for exp in [\"a1\", \"b1\"]:\n",
    "        jr = JudgeRunner(\n",
    "            decision_model_id=decision_model_id,\n",
    "            decision_run_name=exp,\n",
    "            judge_model_id=judge_model_ids[1],\n",
    "            judge_run_name=exp,\n",
    "            results_dir=RESULTS_DIR,\n",
    "            judge_cot=True,\n",
    "            # override_judge_temperature=0.7,  # dafault 0.0\n",
    "        )\n",
    "        await jr.run_rationales()\n",
    "        await jr.run_quality()"
   ]
  },
  {
   "cell_type": "code",
   "execution_count": null,
   "id": "0dc6c953",
   "metadata": {},
   "outputs": [],
   "source": []
  },
  {
   "cell_type": "code",
   "execution_count": null,
   "id": "7f4e589a",
   "metadata": {},
   "outputs": [],
   "source": [
    "results_files = glob(f\"{RESULTS_DIR}/responses/*.csv\")\n",
    "\n",
    "# Create a dictionary to store dataframes by model\n",
    "model_dfs = {}\n",
    "\n",
    "# Group dataframes by model\n",
    "for file in results_files:\n",
    "    # Extract model_id and sample number from filename\n",
    "    filename = os.path.basename(file)\n",
    "    model_id = filename.split('_s')[0]\n",
    "    sample_num = filename.split('_s')[1].replace('.csv', '')\n",
    "\n",
    "    if model_id not in model_dfs:\n",
    "        model_dfs[model_id] = {}\n",
    "\n",
    "    model_dfs[model_id][sample_num] = pd.read_csv(file, keep_default_na=False)\n",
    "\n",
    "# Find empty decisions in each model's samples\n",
    "empty_decision_counts = {}\n",
    "\n",
    "# Calculate average attempt_count and max_attempt_count for each model\n",
    "avg_attempts_series = pd.Series(dtype=float)\n",
    "max_attempts_series = pd.Series(dtype=int)\n",
    "\n",
    "# Iterate through all models and their samples\n",
    "for model_id, samples in model_dfs.items():\n",
    "    empty_decision_counts[model_id] = {}\n",
    "\n",
    "    # Check each sample for this model\n",
    "    for sample_num, df in samples.items():\n",
    "        # Count empty decisions\n",
    "        empty_count = df['decision'].apply(lambda x: len(str(x)) == 0).sum()\n",
    "        empty_decision_counts[model_id][f\"sample_{sample_num}\"] = empty_count\n",
    "\n",
    "    # Calculate attempt_count statistics across all samples\n",
    "    attempt_counts = []\n",
    "    max_attempt = 1  # Default value\n",
    "    for df in samples.values():\n",
    "        # Check if attempt_count column exists\n",
    "        if 'attempt_count' in df.columns:\n",
    "            attempt_counts.append(df['attempt_count'].mean())\n",
    "            max_attempt = max(max_attempt, df['attempt_count'].max())\n",
    "        else:\n",
    "            # If attempt_count doesn't exist, assume 1\n",
    "            attempt_counts.append(1.0)\n",
    "\n",
    "    # Calculate the average across all samples\n",
    "    avg_attempts_series[model_id] = sum(attempt_counts) / len(attempt_counts)\n",
    "    max_attempts_series[model_id] = max_attempt\n",
    "\n",
    "# Create a DataFrame for better display\n",
    "empty_df = pd.DataFrame.from_dict({model: counts for model, counts in empty_decision_counts.items()},\n",
    "                                  orient='index')\n",
    "\n",
    "# Add a total column\n",
    "# empty_df['total_empty'] = empty_df.sum(axis=1).astype(int)\n",
    "empty_df['avg_empty'] = empty_df[['sample_1', 'sample_2', 'sample_3']].mean(axis=1).round(0).astype(int)\n",
    "\n",
    "# Add the average attempts and max attempts columns to the empty_df\n",
    "empty_df['avg_attempts'] = round(avg_attempts_series, 1)\n",
    "empty_df['max_attempts'] = max_attempts_series\n",
    "\n",
    "# Sort by total empty decisions\n",
    "empty_df = empty_df.sort_values(['avg_empty', 'avg_attempts', 'max_attempts'], ascending=False)\n",
    "\n",
    "# Display the results\n",
    "print(\"Number of empty decisions in each sample by model:\")\n",
    "empty_df"
   ]
  },
  {
   "cell_type": "code",
   "execution_count": null,
   "id": "fcb19201",
   "metadata": {},
   "outputs": [],
   "source": [
    "files = glob(f\"{RESULTS_DIR}/judge/*.csv\")\n",
    "for f in files:\n",
    "    a = pd.read_csv(f, keep_default_na=False)\n",
    "    b = a.loc[(a.rationales == \"\")]\n",
    "    if len(b) > 0:\n",
    "        print(f\"{f}, {len(b)}, {b.index.to_list()} \")"
   ]
  },
  {
   "cell_type": "markdown",
   "id": "0bda2822",
   "metadata": {},
   "source": [
    "## Plots"
   ]
  },
  {
   "cell_type": "code",
   "execution_count": 9,
   "id": "09ea4cad",
   "metadata": {},
   "outputs": [],
   "source": [
    "files = glob(f\"{RESULTS_DIR}/judge/*.csv\")\n",
    "\n",
    "# Create a dictionary to store dataframes by model\n",
    "model_dfs = {}\n",
    "\n",
    "# Group dataframes by model\n",
    "for file in files:\n",
    "    # Extract model_id and sample number from filename\n",
    "    filename = os.path.basename(file)\n",
    "    model_id = filename.split('_')[0]\n",
    "    sample_num = filename.split('_')[-1].replace('.csv', '')\n",
    "\n",
    "    if model_id not in model_dfs:\n",
    "        model_dfs[model_id] = {}\n",
    "\n",
    "    model_dfs[model_id][sample_num] = pd.read_csv(file, keep_default_na=False)"
   ]
  },
  {
   "cell_type": "code",
   "execution_count": null,
   "id": "94e17c34",
   "metadata": {},
   "outputs": [
    {
     "name": "stdout",
     "output_type": "stream",
     "text": [
      "The autoreload extension is already loaded. To reload it, use:\n",
      "  %reload_ext autoreload\n"
     ]
    },
    {
     "data": {
      "image/png": "[encoded data removed]",
      "text/plain": [
       "<Figure size 1400x800 with 1 Axes>"
      ]
     },
     "metadata": {},
     "output_type": "display_data"
    }
   ],
   "source": [
    "%load_ext autoreload\n",
    "%autoreload 2\n",
    "from plots.plotting_functions import *\n",
    "\n",
    "def create_stacked_rationales_barchart(\n",
    "    file_paths,\n",
    "    figsize=(9,15),\n",
    "    save_dir=None,\n",
    "    first_reason_only=False,\n",
    "    skip_refusals=False,\n",
    "    normalize_by_count=True,\n",
    "    normalize_by_phenomenon=False,\n",
    "    sort_consequentialist=False,\n",
    "    return_dataframe=False,\n",
    "    legend_cols=2):\n",
    "\n",
    "    # Group files by model id\n",
    "    model_files = {}\n",
    "    for i, file_path in enumerate(file_paths):\n",
    "        basename = os.path.basename(file_path)\n",
    "        model_id = basename.split('/')[-1]\n",
    "        if model_id not in model_files:\n",
    "            model_files[model_id] = []\n",
    "        model_files[model_id].append(file_path)\n",
    "\n",
    "    # Process each model's data by combining files\n",
    "    models, model_segments = [], {}\n",
    "    for model_id, model_file_paths in model_files.items():\n",
    "        if model_id == \"\":\n",
    "            continue\n",
    "\n",
    "        # Combine all dataframes for this model\n",
    "        combined_df = pd.concat([pd.read_csv(fp, keep_default_na=False) for fp in model_file_paths])\n",
    "        models.append(model_id)\n",
    "\n",
    "        rc_df = get_reason_counts(combined_df, first_reason_only=first_reason_only, skip_refusals=skip_refusals, normalize_by_phenomenon=normalize_by_phenomenon)\n",
    "        rc_df = rc_df.sort_values('rationales', key=lambda x: [TAXONOMY_MICRO.index(i) for i in x])\n",
    "        model_segments[model_id] = rc_df[['rationales', 'count', 'percentage', 'macro_category']].to_dict('records')\n",
    "\n",
    "    # Sort models by the percentage of consequentialism\n",
    "    if sort_consequentialist:\n",
    "        models = sorted(models, key=lambda m: sum(seg['percentage'] for seg in model_segments[m] if seg['macro_category'] == 'Consequentialism'), reverse=True)\n",
    "\n",
    "    # Create the stacked bar chart\n",
    "    fig, ax = plt.subplots(figsize=figsize)\n",
    "    legend_handles = {}\n",
    "\n",
    "    for i, model_id in enumerate(reversed(models)):\n",
    "        # Get base model name\n",
    "        model_name = load_model_config(model_id.split('_')[0]).model_name\n",
    "\n",
    "        # Check for _a1 or _b1 in any of the file paths for this model\n",
    "        reasoning_type = \"\"\n",
    "        for file_path in model_files[model_id]:\n",
    "            if \"_a1\" in file_path:\n",
    "                reasoning_type = \" (reasoning after)\"\n",
    "                break\n",
    "            elif \"_b1\" in file_path:\n",
    "                reasoning_type = \" (reasoning before)\"\n",
    "                break\n",
    "\n",
    "        # Add the reasoning type indicator to the model name\n",
    "        display_name = model_name + reasoning_type\n",
    "\n",
    "        left_val = 0\n",
    "        for seg in model_segments[model_id]:\n",
    "            if normalize_by_count:\n",
    "                seg_perc = 'percentage'\n",
    "            else:\n",
    "                seg_perc = 'count'\n",
    "            perc, reason, macro = seg[seg_perc], seg['rationales'], seg['macro_category']\n",
    "            color = MICRO_COLOR_MAP.get(reason, COLOR_MAP.get(macro, '#333333'))\n",
    "            bar = ax.barh(display_name, perc, left=left_val, color=color)\n",
    "            if reason not in legend_handles:\n",
    "                legend_handles[reason] = bar\n",
    "            left_val += perc\n",
    "\n",
    "    plt.rcParams.update({'font.size': 14})\n",
    "    plt.yticks(rotation=0)\n",
    "    ax.xaxis.set_major_formatter(plt.FuncFormatter(lambda x, _: f'{x/100:.1f}')) # Format x-axis as 0 to 1\n",
    "\n",
    "    ordered_micro_categories = [micro for macro in TAXONOMY_MACRO.values() for micro in macro]\n",
    "    ordered_legend_handles = {micro: legend_handles[micro] for micro in ordered_micro_categories if micro in legend_handles}\n",
    "    plt.legend(ordered_legend_handles.values(), ordered_legend_handles.keys(),\n",
    "            bbox_to_anchor=(0.5, -0.05), loc='upper center', ncol=legend_cols)\n",
    "\n",
    "    ax.margins(y=0.01, x=0.01) # Set margins\n",
    "    for spine in ax.spines.values(): # Remove spines\n",
    "        spine.set_visible(False)\n",
    "    ax.tick_params(axis='y', which='both', length=0) # Remove y axis tick lines\n",
    "\n",
    "    plt.tight_layout()\n",
    "\n",
    "    if save_dir:\n",
    "        os.makedirs(os.path.dirname(save_dir), exist_ok=True)\n",
    "        plt.savefig(save_dir, dpi=450, bbox_inches='tight')\n",
    "\n",
    "    plt.show()\n",
    "\n",
    "    if return_dataframe:\n",
    "        # Create a more detailed dataframe with all rationales and macro categories\n",
    "        results = []\n",
    "        for model_id in models:\n",
    "            model_name = load_model_config(model_id).model_name\n",
    "            developer = load_model_config(model_id).developer\n",
    "            release_date = load_model_config(model_id).release_date\n",
    "            model_data = {'model_name': model_name, 'model_id': model_id, 'developer': developer, 'release_date': release_date}\n",
    "\n",
    "            # Add individual rationales\n",
    "            for seg in model_segments[model_id]:\n",
    "                model_data[seg['rationales']] = seg['percentage']\n",
    "\n",
    "            # Calculate and add macro category totals\n",
    "            macro_totals = {}\n",
    "            for category in TAXONOMY_MACRO.keys():\n",
    "                macro_total = sum(seg['percentage'] for seg in model_segments[model_id]\n",
    "                                 if seg['macro_category'] == category)\n",
    "                macro_totals[category] = macro_total\n",
    "                model_data[category] = macro_total\n",
    "\n",
    "            results.append(model_data)\n",
    "\n",
    "        # Convert to DataFrame\n",
    "        results_df = pd.DataFrame(results).fillna(0)\n",
    "\n",
    "        return results_df\n",
    "\n",
    "# RESULTS_DIR = 'data/20250422/all_models/judge'\n",
    "file_paths = [fp for fp in glob(f\"{RESULTS_DIR}/judge/*.csv\")]\n",
    "file_paths.sort()\n",
    "\n",
    "df_rationales = create_stacked_rationales_barchart(\n",
    "    file_paths,\n",
    "    figsize=(14, 8),\n",
    "    # save_dir=f'{FIGURE_SAVE_DIR}/MLR-reasoning_before_and_after.pdf',\n",
    "    # first_reason_only=True,\n",
    "    # sort_consequentialist=True,\n",
    "    skip_refusals=True,\n",
    "    # normalize_by_count=False,\n",
    "    normalize_by_phenomenon=True,\n",
    "    # return_dataframe=True,\n",
    "    legend_cols=3,\n",
    ")"
   ]
  },
  {
   "cell_type": "code",
   "execution_count": null,
   "id": "11e5603d",
   "metadata": {},
   "outputs": [],
   "source": [
    "# Example usage\n",
    "plot_feature_over_time(\n",
    "    df_rationales,\n",
    "    'Consequentialism',\n",
    "    # 'Deontology',\n",
    "    # 'Contractualism',\n",
    "    figsize=(10, 10),\n",
    "    # save_dir=f'{FIGURE_SAVE_DIR}/MLR-time_vs_consequentialism.pdf',\n",
    "    developer_styles=DEVELOPER_STYLES\n",
    ")"
   ]
  }
 ],
 "metadata": {
  "kernelspec": {
   "display_name": "moral2",
   "language": "python",
   "name": "python3"
  },
  "language_info": {
   "codemirror_mode": {
    "name": "ipython",
    "version": 3
   },
   "file_extension": ".py",
   "mimetype": "text/x-python",
   "name": "python",
   "nbconvert_exporter": "python",
   "pygments_lexer": "ipython3",
   "version": "3.10.16"
  }
 },
 "nbformat": 4,
 "nbformat_minor": 5
}
